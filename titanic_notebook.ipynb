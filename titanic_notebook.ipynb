{
 "cells": [
  {
   "cell_type": "code",
   "execution_count": 642,
   "metadata": {},
   "outputs": [],
   "source": [
    "import pyforest\n",
    "from sklearn.tree import DecisionTreeClassifier\n",
    "from sklearn.metrics import accuracy_score\n",
    "from sklearn.metrics import roc_auc_score\n",
    "import graphviz\n",
    "import lightgbm\n",
    "from lightgbm import LGBMClassifier\n",
    "from sklearn.preprocessing import StandardScaler\n",
    "from sklearn.ensemble import RandomForestClassifier\n",
    "from sklearn.neighbors import KNeighborsClassifier\n",
    "from sklearn.model_selection import GridSearchCV"
   ]
  },
  {
   "cell_type": "code",
   "execution_count": 643,
   "metadata": {},
   "outputs": [
    {
     "data": {
      "application/javascript": [
       "\n",
       "        if (window._pyforest_update_imports_cell) { window._pyforest_update_imports_cell('import pandas as pd\\nfrom sklearn.model_selection import train_test_split\\nimport plotly.express as px'); }\n",
       "    "
      ],
      "text/plain": [
       "<IPython.core.display.Javascript object>"
      ]
     },
     "metadata": {},
     "output_type": "display_data"
    },
    {
     "data": {
      "application/javascript": [
       "\n",
       "        if (window._pyforest_update_imports_cell) { window._pyforest_update_imports_cell('import pandas as pd\\nfrom sklearn.model_selection import train_test_split\\nimport plotly.express as px'); }\n",
       "    "
      ],
      "text/plain": [
       "<IPython.core.display.Javascript object>"
      ]
     },
     "metadata": {},
     "output_type": "display_data"
    }
   ],
   "source": [
    "train = pd.read_csv('/Users/karanam.rama/Downloads/titanic_train.csv')\n",
    "test = pd.read_csv('/Users/karanam.rama/Downloads/titanic_test.csv')"
   ]
  },
  {
   "cell_type": "markdown",
   "metadata": {},
   "source": [
    "# checking the data completeness\n",
    "\n",
    "\n"
   ]
  },
  {
   "cell_type": "code",
   "execution_count": 647,
   "metadata": {},
   "outputs": [
    {
     "data": {
      "text/plain": [
       "PassengerId    0\n",
       "Survived       0\n",
       "Pclass         0\n",
       "Name           0\n",
       "Sex            0\n",
       "Age            0\n",
       "SibSp          0\n",
       "Parch          0\n",
       "Ticket         0\n",
       "Fare           0\n",
       "Cabin          0\n",
       "Embarked       0\n",
       "title          0\n",
       "dtype: int64"
      ]
     },
     "execution_count": 647,
     "metadata": {},
     "output_type": "execute_result"
    }
   ],
   "source": [
    "train.isnull().sum()\n",
    "# Age, Cabin and Embarked columns have null values"
   ]
  },
  {
   "cell_type": "code",
   "execution_count": 648,
   "metadata": {},
   "outputs": [
    {
     "data": {
      "text/plain": [
       "PassengerId    0\n",
       "Pclass         0\n",
       "Name           0\n",
       "Sex            0\n",
       "Age            0\n",
       "SibSp          0\n",
       "Parch          0\n",
       "Ticket         0\n",
       "Fare           0\n",
       "Cabin          0\n",
       "Embarked       0\n",
       "title          0\n",
       "dtype: int64"
      ]
     },
     "execution_count": 648,
     "metadata": {},
     "output_type": "execute_result"
    }
   ],
   "source": [
    "test.isnull().sum()"
   ]
  },
  {
   "cell_type": "markdown",
   "metadata": {},
   "source": [
    "# Data Cleaning"
   ]
  },
  {
   "cell_type": "markdown",
   "metadata": {},
   "source": [
    "# filling null values"
   ]
  },
  {
   "cell_type": "code",
   "execution_count": 646,
   "metadata": {},
   "outputs": [],
   "source": [
    "# Adding title column\n",
    "train['title'] = train['Name'].apply(lambda x : x.split(',')[1].strip().split('.')[0])\n",
    "test['title'] = test['Name'].apply(lambda x : x.split(',')[1].strip().split('.')[0])\n",
    "\n",
    "# filling null values of Age column\n",
    "train['Age'] = train.groupby('title')['Age'].transform(lambda x : x.fillna(x.mean()))\n",
    "test['Age'] = test.groupby('title')['Age'].transform(lambda x : x.fillna(x.mean()))\n",
    "\n",
    "# filling null values of Age column\n",
    "train['Age'] = train.groupby('Sex')['Age'].transform(lambda x : x.fillna(x.mean()))\n",
    "test['Age'] = test.groupby('Sex')['Age'].transform(lambda x : x.fillna(x.mean()))\n",
    "\n",
    "def mod_title(y):\n",
    "    if  y not in ('Mr','Miss','Mrs','Master') :\n",
    "        return 'rare'\n",
    "    else :\n",
    "        return y\n",
    "train['title'] = train['title'].apply(lambda x : mod_title(x))\n",
    "test['title'] = test['title'].apply(lambda x : mod_title(x))\n",
    "\n",
    "\n",
    "# filling null values of embarked column with the most common embarked station\n",
    "train['Embarked'] = train['Embarked'].fillna(train['Embarked'].value_counts().index[0])\n",
    "\n",
    "\n",
    "# filling null value of Fare column in test data\n",
    "test['Fare'] = test['Fare'].fillna(test['Fare'].mean())\n",
    "\n",
    "# precision handling for fare column\n",
    "test['Fare'] = test['Fare'].round(decimals =1)\n",
    "train['Fare'] = train['Fare'].round(decimals =1)\n",
    "\n",
    "train['Cabin'] = train['Cabin'].fillna('no')\n",
    "test['Cabin'] = test['Cabin'].fillna('no')\n",
    "\n",
    "def change_cabin(y):\n",
    "    if y != 'no':\n",
    "        return 'yes'\n",
    "    else :\n",
    "        return 'no'\n",
    "train['Cabin'] = train['Cabin'].apply(lambda x : change_cabin(x))    \n",
    "test['Cabin'] = test['Cabin'].apply(lambda x : change_cabin(x))"
   ]
  },
  {
   "cell_type": "markdown",
   "metadata": {},
   "source": [
    "# Data Analysis"
   ]
  },
  {
   "cell_type": "markdown",
   "metadata": {},
   "source": [
    "# Feature Engineering"
   ]
  },
  {
   "cell_type": "code",
   "execution_count": 649,
   "metadata": {},
   "outputs": [
    {
     "data": {
      "application/javascript": [
       "\n",
       "        if (window._pyforest_update_imports_cell) { window._pyforest_update_imports_cell('import pandas as pd\\nfrom sklearn.model_selection import train_test_split\\nimport plotly.express as px'); }\n",
       "    "
      ],
      "text/plain": [
       "<IPython.core.display.Javascript object>"
      ]
     },
     "metadata": {},
     "output_type": "display_data"
    },
    {
     "data": {
      "application/javascript": [
       "\n",
       "        if (window._pyforest_update_imports_cell) { window._pyforest_update_imports_cell('import pandas as pd\\nfrom sklearn.model_selection import train_test_split\\nimport plotly.express as px'); }\n",
       "    "
      ],
      "text/plain": [
       "<IPython.core.display.Javascript object>"
      ]
     },
     "metadata": {},
     "output_type": "display_data"
    }
   ],
   "source": [
    "\n",
    "# classifying the age\n",
    "train['age_cat'] = pd.cut(train['Age'],bins = [-1,18,30,45,100],labels =['age1','age2','age3','age4'])\n",
    "test['age_cat'] = pd.cut(test['Age'],bins = [-1,18,30,45,100],labels =['age1','age2','age3','age4'])"
   ]
  },
  {
   "cell_type": "code",
   "execution_count": 650,
   "metadata": {},
   "outputs": [],
   "source": [
    "# creating a new column combining sex and Passenger class\n",
    "def sex_class(x):\n",
    "    if x['Sex'] == 'female':\n",
    "        if x['Pclass'] == 1 :\n",
    "            return 'female_1'\n",
    "        elif x['Pclass'] == 2 :\n",
    "            return 'female_2'\n",
    "        else :\n",
    "            return 'female_3'\n",
    "    else :\n",
    "        if x['Pclass'] == 1 :\n",
    "            return 'male_1'\n",
    "        elif x['Pclass'] == 2 :\n",
    "            return 'male_2'\n",
    "        else :\n",
    "            return 'male_3' \n",
    "train['newc'] = train.apply(lambda x : sex_class(x),axis =1)\n",
    "test['newc'] = test.apply(lambda x : sex_class(x),axis =1)"
   ]
  },
  {
   "cell_type": "code",
   "execution_count": 651,
   "metadata": {},
   "outputs": [
    {
     "data": {
      "application/javascript": [
       "\n",
       "        if (window._pyforest_update_imports_cell) { window._pyforest_update_imports_cell('import pandas as pd\\nfrom sklearn.model_selection import train_test_split\\nimport plotly.express as px'); }\n",
       "    "
      ],
      "text/plain": [
       "<IPython.core.display.Javascript object>"
      ]
     },
     "metadata": {},
     "output_type": "display_data"
    },
    {
     "data": {
      "text/html": [
       "<div>\n",
       "<style scoped>\n",
       "    .dataframe tbody tr th:only-of-type {\n",
       "        vertical-align: middle;\n",
       "    }\n",
       "\n",
       "    .dataframe tbody tr th {\n",
       "        vertical-align: top;\n",
       "    }\n",
       "\n",
       "    .dataframe thead th {\n",
       "        text-align: right;\n",
       "    }\n",
       "</style>\n",
       "<table border=\"1\" class=\"dataframe\">\n",
       "  <thead>\n",
       "    <tr style=\"text-align: right;\">\n",
       "      <th></th>\n",
       "      <th>ticket</th>\n",
       "      <th>total_count</th>\n",
       "    </tr>\n",
       "  </thead>\n",
       "  <tbody>\n",
       "    <tr>\n",
       "      <th>0</th>\n",
       "      <td>CA. 2343</td>\n",
       "      <td>11</td>\n",
       "    </tr>\n",
       "    <tr>\n",
       "      <th>1</th>\n",
       "      <td>1601</td>\n",
       "      <td>8</td>\n",
       "    </tr>\n",
       "    <tr>\n",
       "      <th>2</th>\n",
       "      <td>CA 2144</td>\n",
       "      <td>8</td>\n",
       "    </tr>\n",
       "    <tr>\n",
       "      <th>3</th>\n",
       "      <td>S.O.C. 14879</td>\n",
       "      <td>7</td>\n",
       "    </tr>\n",
       "    <tr>\n",
       "      <th>4</th>\n",
       "      <td>3101295</td>\n",
       "      <td>7</td>\n",
       "    </tr>\n",
       "  </tbody>\n",
       "</table>\n",
       "</div>"
      ],
      "text/plain": [
       "         ticket  total_count\n",
       "0      CA. 2343           11\n",
       "1          1601            8\n",
       "2       CA 2144            8\n",
       "3  S.O.C. 14879            7\n",
       "4       3101295            7"
      ]
     },
     "execution_count": 651,
     "metadata": {},
     "output_type": "execute_result"
    }
   ],
   "source": [
    "# getting the ticket count\n",
    "\n",
    "train1 = train\n",
    "test1 = test\n",
    "train1 = train1.drop(['Survived'],axis =1)\n",
    "total_df = pd.concat([test1,train1])\n",
    "ticket_df = total_df['Ticket'].value_counts()\n",
    "ticket_df = ticket_df.reset_index()\n",
    "ticket_df.columns = ['ticket','total_count']\n",
    "ticket_df.head()"
   ]
  },
  {
   "cell_type": "code",
   "execution_count": 652,
   "metadata": {},
   "outputs": [
    {
     "data": {
      "application/javascript": [
       "\n",
       "        if (window._pyforest_update_imports_cell) { window._pyforest_update_imports_cell('import pandas as pd\\nfrom sklearn.model_selection import train_test_split\\nimport plotly.express as px'); }\n",
       "    "
      ],
      "text/plain": [
       "<IPython.core.display.Javascript object>"
      ]
     },
     "metadata": {},
     "output_type": "display_data"
    },
    {
     "data": {
      "application/javascript": [
       "\n",
       "        if (window._pyforest_update_imports_cell) { window._pyforest_update_imports_cell('import pandas as pd\\nfrom sklearn.model_selection import train_test_split\\nimport plotly.express as px'); }\n",
       "    "
      ],
      "text/plain": [
       "<IPython.core.display.Javascript object>"
      ]
     },
     "metadata": {},
     "output_type": "display_data"
    }
   ],
   "source": [
    "# creating new column -- fare per each passeneger  for training data \n",
    "train = train.merge(ticket_df,how = 'left',left_on='Ticket',right_on='ticket')\n",
    "train['per_fare'] = train['Fare']/train['total_count']\n",
    "train['per_fare'] = train['per_fare'].round(1)\n",
    "\n",
    "# creating new column -- fare per each passeneger  for test data \n",
    "test = test.merge(ticket_df,how = 'left',left_on='Ticket',right_on='ticket')\n",
    "test['per_fare'] = test['Fare']/test['total_count']\n",
    "test['per_fare'] = test['per_fare'].round(1)\n",
    "\n",
    "# classifying the fare\n",
    "train['fare_cat'] = pd.cut(train['per_fare'],bins = [-1,10,20,200],labels =['fare_1','fare_2','fare_3'])\n",
    "test['fare_cat'] = pd.cut(test['per_fare'],bins = [-1,10,20,200],labels =['fare_1','fare_2','fare_3'])"
   ]
  },
  {
   "cell_type": "code",
   "execution_count": 653,
   "metadata": {},
   "outputs": [],
   "source": [
    "# calculating the percentage of survival\n",
    "train['count_1'] = train.groupby('Ticket')['Survived'].transform(lambda x : x.sum())\n",
    "train['per_surv'] = train['count_1'].div(train['total_count'])\n",
    "train['train_count'] = train.groupby('Ticket')['Survived'].transform(lambda x : x.count())\n",
    "test['test_count'] = test.groupby('Ticket')['Fare'].transform(lambda x : x.count())\n",
    "train['per_surv_train'] = train['count_1']/train['train_count']"
   ]
  },
  {
   "cell_type": "code",
   "execution_count": 654,
   "metadata": {},
   "outputs": [
    {
     "name": "stderr",
     "output_type": "stream",
     "text": [
      "<ipython-input-654-95194bde35be>:3: SettingWithCopyWarning:\n",
      "\n",
      "\n",
      "A value is trying to be set on a copy of a slice from a DataFrame\n",
      "\n",
      "See the caveats in the documentation: https://pandas.pydata.org/pandas-docs/stable/user_guide/indexing.html#returning-a-view-versus-a-copy\n",
      "\n"
     ]
    }
   ],
   "source": [
    "for i in train.index :\n",
    "    if train['total_count'][i] == train['train_count'][i]:\n",
    "        train['per_surv_train'][i] = 0.5"
   ]
  },
  {
   "cell_type": "code",
   "execution_count": 655,
   "metadata": {},
   "outputs": [],
   "source": [
    "# creating a dictionary with ticket as keys and survival_percentage as values\n",
    "d = {}\n",
    "for i in train.index :\n",
    "    if (train['Ticket'][i] not in d.keys()) & (train['total_count'][i]!= train['train_count'][i]):  \n",
    "        d[train['Ticket'][i]] = train['per_surv_train'][i]\n",
    "        \n",
    "# using this dictionary to define survival_percentage of the family members in test dataset\n"
   ]
  },
  {
   "cell_type": "code",
   "execution_count": 656,
   "metadata": {},
   "outputs": [
    {
     "name": "stderr",
     "output_type": "stream",
     "text": [
      "<ipython-input-656-ff78a0a199e9>:4: SettingWithCopyWarning:\n",
      "\n",
      "\n",
      "A value is trying to be set on a copy of a slice from a DataFrame\n",
      "\n",
      "See the caveats in the documentation: https://pandas.pydata.org/pandas-docs/stable/user_guide/indexing.html#returning-a-view-versus-a-copy\n",
      "\n"
     ]
    }
   ],
   "source": [
    "test['per_surv_train'] = 0.5\n",
    "for i in test.index :\n",
    "    if test['total_count'][i] != test['test_count'][i]:\n",
    "        test['per_surv_train'][i] = d[test['Ticket'][i]]"
   ]
  },
  {
   "cell_type": "code",
   "execution_count": 657,
   "metadata": {},
   "outputs": [
    {
     "data": {
      "text/plain": [
       "PassengerId          int64\n",
       "Pclass               int64\n",
       "Name                object\n",
       "Sex                 object\n",
       "Age                float64\n",
       "SibSp                int64\n",
       "Parch                int64\n",
       "Ticket              object\n",
       "Fare               float64\n",
       "Cabin               object\n",
       "Embarked            object\n",
       "title               object\n",
       "age_cat           category\n",
       "newc                object\n",
       "ticket              object\n",
       "total_count          int64\n",
       "per_fare           float64\n",
       "fare_cat          category\n",
       "test_count         float64\n",
       "per_surv_train     float64\n",
       "dtype: object"
      ]
     },
     "execution_count": 657,
     "metadata": {},
     "output_type": "execute_result"
    }
   ],
   "source": [
    "test.dtypes"
   ]
  },
  {
   "cell_type": "code",
   "execution_count": 658,
   "metadata": {},
   "outputs": [
    {
     "data": {
      "text/plain": [
       "PassengerId          int64\n",
       "Survived             int64\n",
       "Pclass               int64\n",
       "Name                object\n",
       "Sex                 object\n",
       "Age                float64\n",
       "SibSp                int64\n",
       "Parch                int64\n",
       "Ticket              object\n",
       "Fare               float64\n",
       "Cabin               object\n",
       "Embarked            object\n",
       "title               object\n",
       "age_cat           category\n",
       "newc                object\n",
       "ticket              object\n",
       "total_count          int64\n",
       "per_fare           float64\n",
       "fare_cat          category\n",
       "count_1              int64\n",
       "per_surv           float64\n",
       "train_count          int64\n",
       "per_surv_train     float64\n",
       "dtype: object"
      ]
     },
     "execution_count": 658,
     "metadata": {},
     "output_type": "execute_result"
    }
   ],
   "source": [
    "train.dtypes"
   ]
  },
  {
   "cell_type": "code",
   "execution_count": 638,
   "metadata": {},
   "outputs": [
    {
     "data": {
      "application/javascript": [
       "\n",
       "        if (window._pyforest_update_imports_cell) { window._pyforest_update_imports_cell('import pandas as pd\\nfrom sklearn.model_selection import train_test_split\\nimport plotly.express as px'); }\n",
       "    "
      ],
      "text/plain": [
       "<IPython.core.display.Javascript object>"
      ]
     },
     "metadata": {},
     "output_type": "display_data"
    },
    {
     "data": {
      "application/vnd.plotly.v1+json": {
       "config": {
        "plotlyServerURL": "https://plot.ly"
       },
       "data": [
        {
         "alignmentgroup": "True",
         "bingroup": "x",
         "hovertemplate": "total_count=1<br>per_surv_train=%{x}<br>count=%{y}<extra></extra>",
         "legendgroup": "1",
         "marker": {
          "color": "#636efa"
         },
         "name": "1",
         "offsetgroup": "1",
         "orientation": "v",
         "showlegend": true,
         "type": "histogram",
         "x": [
          0.5,
          0.5,
          0.5,
          0.5,
          0.5,
          0.5,
          0.5,
          0.5,
          0.5,
          0.5,
          0.5,
          0.5,
          0.5,
          0.5,
          0.5,
          0.5,
          0.5,
          0.5,
          0.5,
          0.5,
          0.5,
          0.5,
          0.5,
          0.5,
          0.5,
          0.5,
          0.5,
          0.5,
          0.5,
          0.5,
          0.5,
          0.5,
          0.5,
          0.5,
          0.5,
          0.5,
          0.5,
          0.5,
          0.5,
          0.5,
          0.5,
          0.5,
          0.5,
          0.5,
          0.5,
          0.5,
          0.5,
          0.5,
          0.5,
          0.5,
          0.5,
          0.5,
          0.5,
          0.5,
          0.5,
          0.5,
          0.5,
          0.5,
          0.5,
          0.5,
          0.5,
          0.5,
          0.5,
          0.5,
          0.5,
          0.5,
          0.5,
          0.5,
          0.5,
          0.5,
          0.5,
          0.5,
          0.5,
          0.5,
          0.5,
          0.5,
          0.5,
          0.5,
          0.5,
          0.5,
          0.5,
          0.5,
          0.5,
          0.5,
          0.5,
          0.5,
          0.5,
          0.5,
          0.5,
          0.5,
          0.5,
          0.5,
          0.5,
          0.5,
          0.5,
          0.5,
          0.5,
          0.5,
          0.5,
          0.5,
          0.5,
          0.5,
          0.5,
          0.5,
          0.5,
          0.5,
          0.5,
          0.5,
          0.5,
          0.5,
          0.5,
          0.5,
          0.5,
          0.5,
          0.5,
          0.5,
          0.5,
          0.5,
          0.5,
          0.5,
          0.5,
          0.5,
          0.5,
          0.5,
          0.5,
          0.5,
          0.5,
          0.5,
          0.5,
          0.5,
          0.5,
          0.5,
          0.5,
          0.5,
          0.5,
          0.5,
          0.5,
          0.5,
          0.5,
          0.5,
          0.5,
          0.5,
          0.5,
          0.5,
          0.5,
          0.5,
          0.5,
          0.5,
          0.5,
          0.5,
          0.5,
          0.5,
          0.5,
          0.5,
          0.5,
          0.5,
          0.5,
          0.5,
          0.5,
          0.5,
          0.5,
          0.5,
          0.5,
          0.5,
          0.5,
          0.5,
          0.5,
          0.5,
          0.5,
          0.5,
          0.5,
          0.5,
          0.5,
          0.5,
          0.5,
          0.5,
          0.5,
          0.5,
          0.5,
          0.5,
          0.5,
          0.5,
          0.5,
          0.5,
          0.5,
          0.5,
          0.5,
          0.5,
          0.5,
          0.5,
          0.5,
          0.5,
          0.5,
          0.5,
          0.5,
          0.5,
          0.5,
          0.5,
          0.5,
          0.5,
          0.5,
          0.5,
          0.5,
          0.5,
          0.5,
          0.5,
          0.5,
          0.5,
          0.5,
          0.5,
          0.5,
          0.5,
          0.5,
          0.5,
          0.5,
          0.5,
          0.5,
          0.5,
          0.5,
          0.5,
          0.5,
          0.5,
          0.5,
          0.5,
          0.5,
          0.5,
          0.5,
          0.5,
          0.5,
          0.5,
          0.5,
          0.5
         ],
         "xaxis": "x",
         "yaxis": "y"
        },
        {
         "alignmentgroup": "True",
         "bingroup": "x",
         "hovertemplate": "total_count=2<br>per_surv_train=%{x}<br>count=%{y}<extra></extra>",
         "legendgroup": "2",
         "marker": {
          "color": "#EF553B"
         },
         "name": "2",
         "offsetgroup": "2",
         "orientation": "v",
         "showlegend": true,
         "type": "histogram",
         "x": [
          1,
          0.5,
          0.5,
          0,
          0,
          1,
          0,
          0,
          0,
          1,
          0.5,
          1,
          1,
          1,
          0.5,
          1,
          1,
          0.5,
          0,
          0.5,
          0.5,
          0,
          0.5,
          1,
          1,
          0,
          0.5,
          0,
          1,
          0.5,
          0,
          0,
          0,
          0,
          0,
          0.5,
          0.5,
          0.5,
          0,
          0.5,
          1,
          0,
          0.5,
          0,
          1,
          1,
          1,
          1,
          0.5,
          0,
          0.5,
          0.5,
          1,
          0.5,
          0.5,
          0.5,
          0,
          0,
          1,
          0.5,
          0.5,
          0.5,
          1,
          0,
          1,
          1,
          1,
          1,
          1,
          0,
          0.5,
          1,
          0,
          0.5,
          0,
          0,
          0,
          1,
          0.5,
          1,
          0,
          0.5,
          0
         ],
         "xaxis": "x",
         "yaxis": "y"
        },
        {
         "alignmentgroup": "True",
         "bingroup": "x",
         "hovertemplate": "total_count=3<br>per_surv_train=%{x}<br>count=%{y}<extra></extra>",
         "legendgroup": "3",
         "marker": {
          "color": "#00cc96"
         },
         "name": "3",
         "offsetgroup": "3",
         "orientation": "v",
         "showlegend": true,
         "type": "histogram",
         "x": [
          1,
          0,
          0,
          0.5,
          1,
          0,
          1,
          0.5,
          0,
          1,
          1,
          1,
          0.5,
          1,
          1,
          0.5,
          1,
          1,
          0.5,
          0,
          1,
          0,
          1,
          0,
          1,
          0.5,
          1,
          1,
          0.5,
          1,
          0,
          1,
          0,
          1,
          0.5,
          1,
          0.5,
          0,
          0.5,
          1,
          0.5,
          1,
          0.5,
          0.5,
          0.5,
          1
         ],
         "xaxis": "x",
         "yaxis": "y"
        },
        {
         "alignmentgroup": "True",
         "bingroup": "x",
         "hovertemplate": "total_count=7<br>per_surv_train=%{x}<br>count=%{y}<extra></extra>",
         "legendgroup": "7",
         "marker": {
          "color": "#ab63fa"
         },
         "name": "7",
         "offsetgroup": "7",
         "orientation": "v",
         "showlegend": true,
         "type": "histogram",
         "x": [
          1,
          1,
          1,
          1,
          0.75,
          0.75,
          0,
          0,
          0,
          1,
          0.75
         ],
         "xaxis": "x",
         "yaxis": "y"
        },
        {
         "alignmentgroup": "True",
         "bingroup": "x",
         "hovertemplate": "total_count=4<br>per_surv_train=%{x}<br>count=%{y}<extra></extra>",
         "legendgroup": "4",
         "marker": {
          "color": "#FFA15A"
         },
         "name": "4",
         "offsetgroup": "4",
         "orientation": "v",
         "showlegend": true,
         "type": "histogram",
         "x": [
          0.5,
          0,
          0,
          0,
          0,
          0.5,
          1,
          1,
          0,
          0.6666666666666666,
          0.6666666666666666,
          1,
          0.6666666666666666,
          1,
          1,
          0.5,
          1,
          0.5,
          1,
          1
         ],
         "xaxis": "x",
         "yaxis": "y"
        },
        {
         "alignmentgroup": "True",
         "bingroup": "x",
         "hovertemplate": "total_count=8<br>per_surv_train=%{x}<br>count=%{y}<extra></extra>",
         "legendgroup": "8",
         "marker": {
          "color": "#19d3f3"
         },
         "name": "8",
         "offsetgroup": "8",
         "orientation": "v",
         "showlegend": true,
         "type": "histogram",
         "x": [
          0.7142857142857143,
          0,
          0
         ],
         "xaxis": "x",
         "yaxis": "y"
        },
        {
         "alignmentgroup": "True",
         "bingroup": "x",
         "hovertemplate": "total_count=6<br>per_surv_train=%{x}<br>count=%{y}<extra></extra>",
         "legendgroup": "6",
         "marker": {
          "color": "#FF6692"
         },
         "name": "6",
         "offsetgroup": "6",
         "orientation": "v",
         "showlegend": true,
         "type": "histogram",
         "x": [
          0.5,
          0,
          0.5,
          0.5,
          0.5
         ],
         "xaxis": "x",
         "yaxis": "y"
        },
        {
         "alignmentgroup": "True",
         "bingroup": "x",
         "hovertemplate": "total_count=5<br>per_surv_train=%{x}<br>count=%{y}<extra></extra>",
         "legendgroup": "5",
         "marker": {
          "color": "#B6E880"
         },
         "name": "5",
         "offsetgroup": "5",
         "orientation": "v",
         "showlegend": true,
         "type": "histogram",
         "x": [
          0,
          0,
          0,
          0,
          1,
          0.75,
          0,
          1,
          1,
          1,
          1,
          1,
          0,
          0
         ],
         "xaxis": "x",
         "yaxis": "y"
        },
        {
         "alignmentgroup": "True",
         "bingroup": "x",
         "hovertemplate": "total_count=11<br>per_surv_train=%{x}<br>count=%{y}<extra></extra>",
         "legendgroup": "11",
         "marker": {
          "color": "#FF97FF"
         },
         "name": "11",
         "offsetgroup": "11",
         "orientation": "v",
         "showlegend": true,
         "type": "histogram",
         "x": [
          0,
          0,
          0,
          0
         ],
         "xaxis": "x",
         "yaxis": "y"
        }
       ],
       "layout": {
        "barmode": "relative",
        "legend": {
         "title": {
          "text": "total_count"
         },
         "tracegroupgap": 0
        },
        "margin": {
         "t": 60
        },
        "template": {
         "data": {
          "bar": [
           {
            "error_x": {
             "color": "#2a3f5f"
            },
            "error_y": {
             "color": "#2a3f5f"
            },
            "marker": {
             "line": {
              "color": "#E5ECF6",
              "width": 0.5
             }
            },
            "type": "bar"
           }
          ],
          "barpolar": [
           {
            "marker": {
             "line": {
              "color": "#E5ECF6",
              "width": 0.5
             }
            },
            "type": "barpolar"
           }
          ],
          "carpet": [
           {
            "aaxis": {
             "endlinecolor": "#2a3f5f",
             "gridcolor": "white",
             "linecolor": "white",
             "minorgridcolor": "white",
             "startlinecolor": "#2a3f5f"
            },
            "baxis": {
             "endlinecolor": "#2a3f5f",
             "gridcolor": "white",
             "linecolor": "white",
             "minorgridcolor": "white",
             "startlinecolor": "#2a3f5f"
            },
            "type": "carpet"
           }
          ],
          "choropleth": [
           {
            "colorbar": {
             "outlinewidth": 0,
             "ticks": ""
            },
            "type": "choropleth"
           }
          ],
          "contour": [
           {
            "colorbar": {
             "outlinewidth": 0,
             "ticks": ""
            },
            "colorscale": [
             [
              0,
              "#0d0887"
             ],
             [
              0.1111111111111111,
              "#46039f"
             ],
             [
              0.2222222222222222,
              "#7201a8"
             ],
             [
              0.3333333333333333,
              "#9c179e"
             ],
             [
              0.4444444444444444,
              "#bd3786"
             ],
             [
              0.5555555555555556,
              "#d8576b"
             ],
             [
              0.6666666666666666,
              "#ed7953"
             ],
             [
              0.7777777777777778,
              "#fb9f3a"
             ],
             [
              0.8888888888888888,
              "#fdca26"
             ],
             [
              1,
              "#f0f921"
             ]
            ],
            "type": "contour"
           }
          ],
          "contourcarpet": [
           {
            "colorbar": {
             "outlinewidth": 0,
             "ticks": ""
            },
            "type": "contourcarpet"
           }
          ],
          "heatmap": [
           {
            "colorbar": {
             "outlinewidth": 0,
             "ticks": ""
            },
            "colorscale": [
             [
              0,
              "#0d0887"
             ],
             [
              0.1111111111111111,
              "#46039f"
             ],
             [
              0.2222222222222222,
              "#7201a8"
             ],
             [
              0.3333333333333333,
              "#9c179e"
             ],
             [
              0.4444444444444444,
              "#bd3786"
             ],
             [
              0.5555555555555556,
              "#d8576b"
             ],
             [
              0.6666666666666666,
              "#ed7953"
             ],
             [
              0.7777777777777778,
              "#fb9f3a"
             ],
             [
              0.8888888888888888,
              "#fdca26"
             ],
             [
              1,
              "#f0f921"
             ]
            ],
            "type": "heatmap"
           }
          ],
          "heatmapgl": [
           {
            "colorbar": {
             "outlinewidth": 0,
             "ticks": ""
            },
            "colorscale": [
             [
              0,
              "#0d0887"
             ],
             [
              0.1111111111111111,
              "#46039f"
             ],
             [
              0.2222222222222222,
              "#7201a8"
             ],
             [
              0.3333333333333333,
              "#9c179e"
             ],
             [
              0.4444444444444444,
              "#bd3786"
             ],
             [
              0.5555555555555556,
              "#d8576b"
             ],
             [
              0.6666666666666666,
              "#ed7953"
             ],
             [
              0.7777777777777778,
              "#fb9f3a"
             ],
             [
              0.8888888888888888,
              "#fdca26"
             ],
             [
              1,
              "#f0f921"
             ]
            ],
            "type": "heatmapgl"
           }
          ],
          "histogram": [
           {
            "marker": {
             "colorbar": {
              "outlinewidth": 0,
              "ticks": ""
             }
            },
            "type": "histogram"
           }
          ],
          "histogram2d": [
           {
            "colorbar": {
             "outlinewidth": 0,
             "ticks": ""
            },
            "colorscale": [
             [
              0,
              "#0d0887"
             ],
             [
              0.1111111111111111,
              "#46039f"
             ],
             [
              0.2222222222222222,
              "#7201a8"
             ],
             [
              0.3333333333333333,
              "#9c179e"
             ],
             [
              0.4444444444444444,
              "#bd3786"
             ],
             [
              0.5555555555555556,
              "#d8576b"
             ],
             [
              0.6666666666666666,
              "#ed7953"
             ],
             [
              0.7777777777777778,
              "#fb9f3a"
             ],
             [
              0.8888888888888888,
              "#fdca26"
             ],
             [
              1,
              "#f0f921"
             ]
            ],
            "type": "histogram2d"
           }
          ],
          "histogram2dcontour": [
           {
            "colorbar": {
             "outlinewidth": 0,
             "ticks": ""
            },
            "colorscale": [
             [
              0,
              "#0d0887"
             ],
             [
              0.1111111111111111,
              "#46039f"
             ],
             [
              0.2222222222222222,
              "#7201a8"
             ],
             [
              0.3333333333333333,
              "#9c179e"
             ],
             [
              0.4444444444444444,
              "#bd3786"
             ],
             [
              0.5555555555555556,
              "#d8576b"
             ],
             [
              0.6666666666666666,
              "#ed7953"
             ],
             [
              0.7777777777777778,
              "#fb9f3a"
             ],
             [
              0.8888888888888888,
              "#fdca26"
             ],
             [
              1,
              "#f0f921"
             ]
            ],
            "type": "histogram2dcontour"
           }
          ],
          "mesh3d": [
           {
            "colorbar": {
             "outlinewidth": 0,
             "ticks": ""
            },
            "type": "mesh3d"
           }
          ],
          "parcoords": [
           {
            "line": {
             "colorbar": {
              "outlinewidth": 0,
              "ticks": ""
             }
            },
            "type": "parcoords"
           }
          ],
          "pie": [
           {
            "automargin": true,
            "type": "pie"
           }
          ],
          "scatter": [
           {
            "marker": {
             "colorbar": {
              "outlinewidth": 0,
              "ticks": ""
             }
            },
            "type": "scatter"
           }
          ],
          "scatter3d": [
           {
            "line": {
             "colorbar": {
              "outlinewidth": 0,
              "ticks": ""
             }
            },
            "marker": {
             "colorbar": {
              "outlinewidth": 0,
              "ticks": ""
             }
            },
            "type": "scatter3d"
           }
          ],
          "scattercarpet": [
           {
            "marker": {
             "colorbar": {
              "outlinewidth": 0,
              "ticks": ""
             }
            },
            "type": "scattercarpet"
           }
          ],
          "scattergeo": [
           {
            "marker": {
             "colorbar": {
              "outlinewidth": 0,
              "ticks": ""
             }
            },
            "type": "scattergeo"
           }
          ],
          "scattergl": [
           {
            "marker": {
             "colorbar": {
              "outlinewidth": 0,
              "ticks": ""
             }
            },
            "type": "scattergl"
           }
          ],
          "scattermapbox": [
           {
            "marker": {
             "colorbar": {
              "outlinewidth": 0,
              "ticks": ""
             }
            },
            "type": "scattermapbox"
           }
          ],
          "scatterpolar": [
           {
            "marker": {
             "colorbar": {
              "outlinewidth": 0,
              "ticks": ""
             }
            },
            "type": "scatterpolar"
           }
          ],
          "scatterpolargl": [
           {
            "marker": {
             "colorbar": {
              "outlinewidth": 0,
              "ticks": ""
             }
            },
            "type": "scatterpolargl"
           }
          ],
          "scatterternary": [
           {
            "marker": {
             "colorbar": {
              "outlinewidth": 0,
              "ticks": ""
             }
            },
            "type": "scatterternary"
           }
          ],
          "surface": [
           {
            "colorbar": {
             "outlinewidth": 0,
             "ticks": ""
            },
            "colorscale": [
             [
              0,
              "#0d0887"
             ],
             [
              0.1111111111111111,
              "#46039f"
             ],
             [
              0.2222222222222222,
              "#7201a8"
             ],
             [
              0.3333333333333333,
              "#9c179e"
             ],
             [
              0.4444444444444444,
              "#bd3786"
             ],
             [
              0.5555555555555556,
              "#d8576b"
             ],
             [
              0.6666666666666666,
              "#ed7953"
             ],
             [
              0.7777777777777778,
              "#fb9f3a"
             ],
             [
              0.8888888888888888,
              "#fdca26"
             ],
             [
              1,
              "#f0f921"
             ]
            ],
            "type": "surface"
           }
          ],
          "table": [
           {
            "cells": {
             "fill": {
              "color": "#EBF0F8"
             },
             "line": {
              "color": "white"
             }
            },
            "header": {
             "fill": {
              "color": "#C8D4E3"
             },
             "line": {
              "color": "white"
             }
            },
            "type": "table"
           }
          ]
         },
         "layout": {
          "annotationdefaults": {
           "arrowcolor": "#2a3f5f",
           "arrowhead": 0,
           "arrowwidth": 1
          },
          "autotypenumbers": "strict",
          "coloraxis": {
           "colorbar": {
            "outlinewidth": 0,
            "ticks": ""
           }
          },
          "colorscale": {
           "diverging": [
            [
             0,
             "#8e0152"
            ],
            [
             0.1,
             "#c51b7d"
            ],
            [
             0.2,
             "#de77ae"
            ],
            [
             0.3,
             "#f1b6da"
            ],
            [
             0.4,
             "#fde0ef"
            ],
            [
             0.5,
             "#f7f7f7"
            ],
            [
             0.6,
             "#e6f5d0"
            ],
            [
             0.7,
             "#b8e186"
            ],
            [
             0.8,
             "#7fbc41"
            ],
            [
             0.9,
             "#4d9221"
            ],
            [
             1,
             "#276419"
            ]
           ],
           "sequential": [
            [
             0,
             "#0d0887"
            ],
            [
             0.1111111111111111,
             "#46039f"
            ],
            [
             0.2222222222222222,
             "#7201a8"
            ],
            [
             0.3333333333333333,
             "#9c179e"
            ],
            [
             0.4444444444444444,
             "#bd3786"
            ],
            [
             0.5555555555555556,
             "#d8576b"
            ],
            [
             0.6666666666666666,
             "#ed7953"
            ],
            [
             0.7777777777777778,
             "#fb9f3a"
            ],
            [
             0.8888888888888888,
             "#fdca26"
            ],
            [
             1,
             "#f0f921"
            ]
           ],
           "sequentialminus": [
            [
             0,
             "#0d0887"
            ],
            [
             0.1111111111111111,
             "#46039f"
            ],
            [
             0.2222222222222222,
             "#7201a8"
            ],
            [
             0.3333333333333333,
             "#9c179e"
            ],
            [
             0.4444444444444444,
             "#bd3786"
            ],
            [
             0.5555555555555556,
             "#d8576b"
            ],
            [
             0.6666666666666666,
             "#ed7953"
            ],
            [
             0.7777777777777778,
             "#fb9f3a"
            ],
            [
             0.8888888888888888,
             "#fdca26"
            ],
            [
             1,
             "#f0f921"
            ]
           ]
          },
          "colorway": [
           "#636efa",
           "#EF553B",
           "#00cc96",
           "#ab63fa",
           "#FFA15A",
           "#19d3f3",
           "#FF6692",
           "#B6E880",
           "#FF97FF",
           "#FECB52"
          ],
          "font": {
           "color": "#2a3f5f"
          },
          "geo": {
           "bgcolor": "white",
           "lakecolor": "white",
           "landcolor": "#E5ECF6",
           "showlakes": true,
           "showland": true,
           "subunitcolor": "white"
          },
          "hoverlabel": {
           "align": "left"
          },
          "hovermode": "closest",
          "mapbox": {
           "style": "light"
          },
          "paper_bgcolor": "white",
          "plot_bgcolor": "#E5ECF6",
          "polar": {
           "angularaxis": {
            "gridcolor": "white",
            "linecolor": "white",
            "ticks": ""
           },
           "bgcolor": "#E5ECF6",
           "radialaxis": {
            "gridcolor": "white",
            "linecolor": "white",
            "ticks": ""
           }
          },
          "scene": {
           "xaxis": {
            "backgroundcolor": "#E5ECF6",
            "gridcolor": "white",
            "gridwidth": 2,
            "linecolor": "white",
            "showbackground": true,
            "ticks": "",
            "zerolinecolor": "white"
           },
           "yaxis": {
            "backgroundcolor": "#E5ECF6",
            "gridcolor": "white",
            "gridwidth": 2,
            "linecolor": "white",
            "showbackground": true,
            "ticks": "",
            "zerolinecolor": "white"
           },
           "zaxis": {
            "backgroundcolor": "#E5ECF6",
            "gridcolor": "white",
            "gridwidth": 2,
            "linecolor": "white",
            "showbackground": true,
            "ticks": "",
            "zerolinecolor": "white"
           }
          },
          "shapedefaults": {
           "line": {
            "color": "#2a3f5f"
           }
          },
          "ternary": {
           "aaxis": {
            "gridcolor": "white",
            "linecolor": "white",
            "ticks": ""
           },
           "baxis": {
            "gridcolor": "white",
            "linecolor": "white",
            "ticks": ""
           },
           "bgcolor": "#E5ECF6",
           "caxis": {
            "gridcolor": "white",
            "linecolor": "white",
            "ticks": ""
           }
          },
          "title": {
           "x": 0.05
          },
          "xaxis": {
           "automargin": true,
           "gridcolor": "white",
           "linecolor": "white",
           "ticks": "",
           "title": {
            "standoff": 15
           },
           "zerolinecolor": "white",
           "zerolinewidth": 2
          },
          "yaxis": {
           "automargin": true,
           "gridcolor": "white",
           "linecolor": "white",
           "ticks": "",
           "title": {
            "standoff": 15
           },
           "zerolinecolor": "white",
           "zerolinewidth": 2
          }
         }
        },
        "xaxis": {
         "anchor": "y",
         "domain": [
          0,
          1
         ],
         "title": {
          "text": "per_surv_train"
         }
        },
        "yaxis": {
         "anchor": "x",
         "domain": [
          0,
          1
         ],
         "title": {
          "text": "count"
         }
        }
       }
      },
      "text/html": [
       "<div>                            <div id=\"1c703cd4-cbd7-4e55-8b25-d41faf68520b\" class=\"plotly-graph-div\" style=\"height:525px; width:100%;\"></div>            <script type=\"text/javascript\">                require([\"plotly\"], function(Plotly) {                    window.PLOTLYENV=window.PLOTLYENV || {};                                    if (document.getElementById(\"1c703cd4-cbd7-4e55-8b25-d41faf68520b\")) {                    Plotly.newPlot(                        \"1c703cd4-cbd7-4e55-8b25-d41faf68520b\",                        [{\"alignmentgroup\": \"True\", \"bingroup\": \"x\", \"hovertemplate\": \"total_count=1<br>per_surv_train=%{x}<br>count=%{y}<extra></extra>\", \"legendgroup\": \"1\", \"marker\": {\"color\": \"#636efa\"}, \"name\": \"1\", \"offsetgroup\": \"1\", \"orientation\": \"v\", \"showlegend\": true, \"type\": \"histogram\", \"x\": [0.5, 0.5, 0.5, 0.5, 0.5, 0.5, 0.5, 0.5, 0.5, 0.5, 0.5, 0.5, 0.5, 0.5, 0.5, 0.5, 0.5, 0.5, 0.5, 0.5, 0.5, 0.5, 0.5, 0.5, 0.5, 0.5, 0.5, 0.5, 0.5, 0.5, 0.5, 0.5, 0.5, 0.5, 0.5, 0.5, 0.5, 0.5, 0.5, 0.5, 0.5, 0.5, 0.5, 0.5, 0.5, 0.5, 0.5, 0.5, 0.5, 0.5, 0.5, 0.5, 0.5, 0.5, 0.5, 0.5, 0.5, 0.5, 0.5, 0.5, 0.5, 0.5, 0.5, 0.5, 0.5, 0.5, 0.5, 0.5, 0.5, 0.5, 0.5, 0.5, 0.5, 0.5, 0.5, 0.5, 0.5, 0.5, 0.5, 0.5, 0.5, 0.5, 0.5, 0.5, 0.5, 0.5, 0.5, 0.5, 0.5, 0.5, 0.5, 0.5, 0.5, 0.5, 0.5, 0.5, 0.5, 0.5, 0.5, 0.5, 0.5, 0.5, 0.5, 0.5, 0.5, 0.5, 0.5, 0.5, 0.5, 0.5, 0.5, 0.5, 0.5, 0.5, 0.5, 0.5, 0.5, 0.5, 0.5, 0.5, 0.5, 0.5, 0.5, 0.5, 0.5, 0.5, 0.5, 0.5, 0.5, 0.5, 0.5, 0.5, 0.5, 0.5, 0.5, 0.5, 0.5, 0.5, 0.5, 0.5, 0.5, 0.5, 0.5, 0.5, 0.5, 0.5, 0.5, 0.5, 0.5, 0.5, 0.5, 0.5, 0.5, 0.5, 0.5, 0.5, 0.5, 0.5, 0.5, 0.5, 0.5, 0.5, 0.5, 0.5, 0.5, 0.5, 0.5, 0.5, 0.5, 0.5, 0.5, 0.5, 0.5, 0.5, 0.5, 0.5, 0.5, 0.5, 0.5, 0.5, 0.5, 0.5, 0.5, 0.5, 0.5, 0.5, 0.5, 0.5, 0.5, 0.5, 0.5, 0.5, 0.5, 0.5, 0.5, 0.5, 0.5, 0.5, 0.5, 0.5, 0.5, 0.5, 0.5, 0.5, 0.5, 0.5, 0.5, 0.5, 0.5, 0.5, 0.5, 0.5, 0.5, 0.5, 0.5, 0.5, 0.5, 0.5, 0.5, 0.5, 0.5, 0.5, 0.5, 0.5, 0.5, 0.5, 0.5, 0.5, 0.5, 0.5, 0.5, 0.5], \"xaxis\": \"x\", \"yaxis\": \"y\"}, {\"alignmentgroup\": \"True\", \"bingroup\": \"x\", \"hovertemplate\": \"total_count=2<br>per_surv_train=%{x}<br>count=%{y}<extra></extra>\", \"legendgroup\": \"2\", \"marker\": {\"color\": \"#EF553B\"}, \"name\": \"2\", \"offsetgroup\": \"2\", \"orientation\": \"v\", \"showlegend\": true, \"type\": \"histogram\", \"x\": [1.0, 0.5, 0.5, 0.0, 0.0, 1.0, 0.0, 0.0, 0.0, 1.0, 0.5, 1.0, 1.0, 1.0, 0.5, 1.0, 1.0, 0.5, 0.0, 0.5, 0.5, 0.0, 0.5, 1.0, 1.0, 0.0, 0.5, 0.0, 1.0, 0.5, 0.0, 0.0, 0.0, 0.0, 0.0, 0.5, 0.5, 0.5, 0.0, 0.5, 1.0, 0.0, 0.5, 0.0, 1.0, 1.0, 1.0, 1.0, 0.5, 0.0, 0.5, 0.5, 1.0, 0.5, 0.5, 0.5, 0.0, 0.0, 1.0, 0.5, 0.5, 0.5, 1.0, 0.0, 1.0, 1.0, 1.0, 1.0, 1.0, 0.0, 0.5, 1.0, 0.0, 0.5, 0.0, 0.0, 0.0, 1.0, 0.5, 1.0, 0.0, 0.5, 0.0], \"xaxis\": \"x\", \"yaxis\": \"y\"}, {\"alignmentgroup\": \"True\", \"bingroup\": \"x\", \"hovertemplate\": \"total_count=3<br>per_surv_train=%{x}<br>count=%{y}<extra></extra>\", \"legendgroup\": \"3\", \"marker\": {\"color\": \"#00cc96\"}, \"name\": \"3\", \"offsetgroup\": \"3\", \"orientation\": \"v\", \"showlegend\": true, \"type\": \"histogram\", \"x\": [1.0, 0.0, 0.0, 0.5, 1.0, 0.0, 1.0, 0.5, 0.0, 1.0, 1.0, 1.0, 0.5, 1.0, 1.0, 0.5, 1.0, 1.0, 0.5, 0.0, 1.0, 0.0, 1.0, 0.0, 1.0, 0.5, 1.0, 1.0, 0.5, 1.0, 0.0, 1.0, 0.0, 1.0, 0.5, 1.0, 0.5, 0.0, 0.5, 1.0, 0.5, 1.0, 0.5, 0.5, 0.5, 1.0], \"xaxis\": \"x\", \"yaxis\": \"y\"}, {\"alignmentgroup\": \"True\", \"bingroup\": \"x\", \"hovertemplate\": \"total_count=7<br>per_surv_train=%{x}<br>count=%{y}<extra></extra>\", \"legendgroup\": \"7\", \"marker\": {\"color\": \"#ab63fa\"}, \"name\": \"7\", \"offsetgroup\": \"7\", \"orientation\": \"v\", \"showlegend\": true, \"type\": \"histogram\", \"x\": [1.0, 1.0, 1.0, 1.0, 0.75, 0.75, 0.0, 0.0, 0.0, 1.0, 0.75], \"xaxis\": \"x\", \"yaxis\": \"y\"}, {\"alignmentgroup\": \"True\", \"bingroup\": \"x\", \"hovertemplate\": \"total_count=4<br>per_surv_train=%{x}<br>count=%{y}<extra></extra>\", \"legendgroup\": \"4\", \"marker\": {\"color\": \"#FFA15A\"}, \"name\": \"4\", \"offsetgroup\": \"4\", \"orientation\": \"v\", \"showlegend\": true, \"type\": \"histogram\", \"x\": [0.5, 0.0, 0.0, 0.0, 0.0, 0.5, 1.0, 1.0, 0.0, 0.6666666666666666, 0.6666666666666666, 1.0, 0.6666666666666666, 1.0, 1.0, 0.5, 1.0, 0.5, 1.0, 1.0], \"xaxis\": \"x\", \"yaxis\": \"y\"}, {\"alignmentgroup\": \"True\", \"bingroup\": \"x\", \"hovertemplate\": \"total_count=8<br>per_surv_train=%{x}<br>count=%{y}<extra></extra>\", \"legendgroup\": \"8\", \"marker\": {\"color\": \"#19d3f3\"}, \"name\": \"8\", \"offsetgroup\": \"8\", \"orientation\": \"v\", \"showlegend\": true, \"type\": \"histogram\", \"x\": [0.7142857142857143, 0.0, 0.0], \"xaxis\": \"x\", \"yaxis\": \"y\"}, {\"alignmentgroup\": \"True\", \"bingroup\": \"x\", \"hovertemplate\": \"total_count=6<br>per_surv_train=%{x}<br>count=%{y}<extra></extra>\", \"legendgroup\": \"6\", \"marker\": {\"color\": \"#FF6692\"}, \"name\": \"6\", \"offsetgroup\": \"6\", \"orientation\": \"v\", \"showlegend\": true, \"type\": \"histogram\", \"x\": [0.5, 0.0, 0.5, 0.5, 0.5], \"xaxis\": \"x\", \"yaxis\": \"y\"}, {\"alignmentgroup\": \"True\", \"bingroup\": \"x\", \"hovertemplate\": \"total_count=5<br>per_surv_train=%{x}<br>count=%{y}<extra></extra>\", \"legendgroup\": \"5\", \"marker\": {\"color\": \"#B6E880\"}, \"name\": \"5\", \"offsetgroup\": \"5\", \"orientation\": \"v\", \"showlegend\": true, \"type\": \"histogram\", \"x\": [0.0, 0.0, 0.0, 0.0, 1.0, 0.75, 0.0, 1.0, 1.0, 1.0, 1.0, 1.0, 0.0, 0.0], \"xaxis\": \"x\", \"yaxis\": \"y\"}, {\"alignmentgroup\": \"True\", \"bingroup\": \"x\", \"hovertemplate\": \"total_count=11<br>per_surv_train=%{x}<br>count=%{y}<extra></extra>\", \"legendgroup\": \"11\", \"marker\": {\"color\": \"#FF97FF\"}, \"name\": \"11\", \"offsetgroup\": \"11\", \"orientation\": \"v\", \"showlegend\": true, \"type\": \"histogram\", \"x\": [0.0, 0.0, 0.0, 0.0], \"xaxis\": \"x\", \"yaxis\": \"y\"}],                        {\"barmode\": \"relative\", \"legend\": {\"title\": {\"text\": \"total_count\"}, \"tracegroupgap\": 0}, \"margin\": {\"t\": 60}, \"template\": {\"data\": {\"bar\": [{\"error_x\": {\"color\": \"#2a3f5f\"}, \"error_y\": {\"color\": \"#2a3f5f\"}, \"marker\": {\"line\": {\"color\": \"#E5ECF6\", \"width\": 0.5}}, \"type\": \"bar\"}], \"barpolar\": [{\"marker\": {\"line\": {\"color\": \"#E5ECF6\", \"width\": 0.5}}, \"type\": \"barpolar\"}], \"carpet\": [{\"aaxis\": {\"endlinecolor\": \"#2a3f5f\", \"gridcolor\": \"white\", \"linecolor\": \"white\", \"minorgridcolor\": \"white\", \"startlinecolor\": \"#2a3f5f\"}, \"baxis\": {\"endlinecolor\": \"#2a3f5f\", \"gridcolor\": \"white\", \"linecolor\": \"white\", \"minorgridcolor\": \"white\", \"startlinecolor\": \"#2a3f5f\"}, \"type\": \"carpet\"}], \"choropleth\": [{\"colorbar\": {\"outlinewidth\": 0, \"ticks\": \"\"}, \"type\": \"choropleth\"}], \"contour\": [{\"colorbar\": {\"outlinewidth\": 0, \"ticks\": \"\"}, \"colorscale\": [[0.0, \"#0d0887\"], [0.1111111111111111, \"#46039f\"], [0.2222222222222222, \"#7201a8\"], [0.3333333333333333, \"#9c179e\"], [0.4444444444444444, \"#bd3786\"], [0.5555555555555556, \"#d8576b\"], [0.6666666666666666, \"#ed7953\"], [0.7777777777777778, \"#fb9f3a\"], [0.8888888888888888, \"#fdca26\"], [1.0, \"#f0f921\"]], \"type\": \"contour\"}], \"contourcarpet\": [{\"colorbar\": {\"outlinewidth\": 0, \"ticks\": \"\"}, \"type\": \"contourcarpet\"}], \"heatmap\": [{\"colorbar\": {\"outlinewidth\": 0, \"ticks\": \"\"}, \"colorscale\": [[0.0, \"#0d0887\"], [0.1111111111111111, \"#46039f\"], [0.2222222222222222, \"#7201a8\"], [0.3333333333333333, \"#9c179e\"], [0.4444444444444444, \"#bd3786\"], [0.5555555555555556, \"#d8576b\"], [0.6666666666666666, \"#ed7953\"], [0.7777777777777778, \"#fb9f3a\"], [0.8888888888888888, \"#fdca26\"], [1.0, \"#f0f921\"]], \"type\": \"heatmap\"}], \"heatmapgl\": [{\"colorbar\": {\"outlinewidth\": 0, \"ticks\": \"\"}, \"colorscale\": [[0.0, \"#0d0887\"], [0.1111111111111111, \"#46039f\"], [0.2222222222222222, \"#7201a8\"], [0.3333333333333333, \"#9c179e\"], [0.4444444444444444, \"#bd3786\"], [0.5555555555555556, \"#d8576b\"], [0.6666666666666666, \"#ed7953\"], [0.7777777777777778, \"#fb9f3a\"], [0.8888888888888888, \"#fdca26\"], [1.0, \"#f0f921\"]], \"type\": \"heatmapgl\"}], \"histogram\": [{\"marker\": {\"colorbar\": {\"outlinewidth\": 0, \"ticks\": \"\"}}, \"type\": \"histogram\"}], \"histogram2d\": [{\"colorbar\": {\"outlinewidth\": 0, \"ticks\": \"\"}, \"colorscale\": [[0.0, \"#0d0887\"], [0.1111111111111111, \"#46039f\"], [0.2222222222222222, \"#7201a8\"], [0.3333333333333333, \"#9c179e\"], [0.4444444444444444, \"#bd3786\"], [0.5555555555555556, \"#d8576b\"], [0.6666666666666666, \"#ed7953\"], [0.7777777777777778, \"#fb9f3a\"], [0.8888888888888888, \"#fdca26\"], [1.0, \"#f0f921\"]], \"type\": \"histogram2d\"}], \"histogram2dcontour\": [{\"colorbar\": {\"outlinewidth\": 0, \"ticks\": \"\"}, \"colorscale\": [[0.0, \"#0d0887\"], [0.1111111111111111, \"#46039f\"], [0.2222222222222222, \"#7201a8\"], [0.3333333333333333, \"#9c179e\"], [0.4444444444444444, \"#bd3786\"], [0.5555555555555556, \"#d8576b\"], [0.6666666666666666, \"#ed7953\"], [0.7777777777777778, \"#fb9f3a\"], [0.8888888888888888, \"#fdca26\"], [1.0, \"#f0f921\"]], \"type\": \"histogram2dcontour\"}], \"mesh3d\": [{\"colorbar\": {\"outlinewidth\": 0, \"ticks\": \"\"}, \"type\": \"mesh3d\"}], \"parcoords\": [{\"line\": {\"colorbar\": {\"outlinewidth\": 0, \"ticks\": \"\"}}, \"type\": \"parcoords\"}], \"pie\": [{\"automargin\": true, \"type\": \"pie\"}], \"scatter\": [{\"marker\": {\"colorbar\": {\"outlinewidth\": 0, \"ticks\": \"\"}}, \"type\": \"scatter\"}], \"scatter3d\": [{\"line\": {\"colorbar\": {\"outlinewidth\": 0, \"ticks\": \"\"}}, \"marker\": {\"colorbar\": {\"outlinewidth\": 0, \"ticks\": \"\"}}, \"type\": \"scatter3d\"}], \"scattercarpet\": [{\"marker\": {\"colorbar\": {\"outlinewidth\": 0, \"ticks\": \"\"}}, \"type\": \"scattercarpet\"}], \"scattergeo\": [{\"marker\": {\"colorbar\": {\"outlinewidth\": 0, \"ticks\": \"\"}}, \"type\": \"scattergeo\"}], \"scattergl\": [{\"marker\": {\"colorbar\": {\"outlinewidth\": 0, \"ticks\": \"\"}}, \"type\": \"scattergl\"}], \"scattermapbox\": [{\"marker\": {\"colorbar\": {\"outlinewidth\": 0, \"ticks\": \"\"}}, \"type\": \"scattermapbox\"}], \"scatterpolar\": [{\"marker\": {\"colorbar\": {\"outlinewidth\": 0, \"ticks\": \"\"}}, \"type\": \"scatterpolar\"}], \"scatterpolargl\": [{\"marker\": {\"colorbar\": {\"outlinewidth\": 0, \"ticks\": \"\"}}, \"type\": \"scatterpolargl\"}], \"scatterternary\": [{\"marker\": {\"colorbar\": {\"outlinewidth\": 0, \"ticks\": \"\"}}, \"type\": \"scatterternary\"}], \"surface\": [{\"colorbar\": {\"outlinewidth\": 0, \"ticks\": \"\"}, \"colorscale\": [[0.0, \"#0d0887\"], [0.1111111111111111, \"#46039f\"], [0.2222222222222222, \"#7201a8\"], [0.3333333333333333, \"#9c179e\"], [0.4444444444444444, \"#bd3786\"], [0.5555555555555556, \"#d8576b\"], [0.6666666666666666, \"#ed7953\"], [0.7777777777777778, \"#fb9f3a\"], [0.8888888888888888, \"#fdca26\"], [1.0, \"#f0f921\"]], \"type\": \"surface\"}], \"table\": [{\"cells\": {\"fill\": {\"color\": \"#EBF0F8\"}, \"line\": {\"color\": \"white\"}}, \"header\": {\"fill\": {\"color\": \"#C8D4E3\"}, \"line\": {\"color\": \"white\"}}, \"type\": \"table\"}]}, \"layout\": {\"annotationdefaults\": {\"arrowcolor\": \"#2a3f5f\", \"arrowhead\": 0, \"arrowwidth\": 1}, \"autotypenumbers\": \"strict\", \"coloraxis\": {\"colorbar\": {\"outlinewidth\": 0, \"ticks\": \"\"}}, \"colorscale\": {\"diverging\": [[0, \"#8e0152\"], [0.1, \"#c51b7d\"], [0.2, \"#de77ae\"], [0.3, \"#f1b6da\"], [0.4, \"#fde0ef\"], [0.5, \"#f7f7f7\"], [0.6, \"#e6f5d0\"], [0.7, \"#b8e186\"], [0.8, \"#7fbc41\"], [0.9, \"#4d9221\"], [1, \"#276419\"]], \"sequential\": [[0.0, \"#0d0887\"], [0.1111111111111111, \"#46039f\"], [0.2222222222222222, \"#7201a8\"], [0.3333333333333333, \"#9c179e\"], [0.4444444444444444, \"#bd3786\"], [0.5555555555555556, \"#d8576b\"], [0.6666666666666666, \"#ed7953\"], [0.7777777777777778, \"#fb9f3a\"], [0.8888888888888888, \"#fdca26\"], [1.0, \"#f0f921\"]], \"sequentialminus\": [[0.0, \"#0d0887\"], [0.1111111111111111, \"#46039f\"], [0.2222222222222222, \"#7201a8\"], [0.3333333333333333, \"#9c179e\"], [0.4444444444444444, \"#bd3786\"], [0.5555555555555556, \"#d8576b\"], [0.6666666666666666, \"#ed7953\"], [0.7777777777777778, \"#fb9f3a\"], [0.8888888888888888, \"#fdca26\"], [1.0, \"#f0f921\"]]}, \"colorway\": [\"#636efa\", \"#EF553B\", \"#00cc96\", \"#ab63fa\", \"#FFA15A\", \"#19d3f3\", \"#FF6692\", \"#B6E880\", \"#FF97FF\", \"#FECB52\"], \"font\": {\"color\": \"#2a3f5f\"}, \"geo\": {\"bgcolor\": \"white\", \"lakecolor\": \"white\", \"landcolor\": \"#E5ECF6\", \"showlakes\": true, \"showland\": true, \"subunitcolor\": \"white\"}, \"hoverlabel\": {\"align\": \"left\"}, \"hovermode\": \"closest\", \"mapbox\": {\"style\": \"light\"}, \"paper_bgcolor\": \"white\", \"plot_bgcolor\": \"#E5ECF6\", \"polar\": {\"angularaxis\": {\"gridcolor\": \"white\", \"linecolor\": \"white\", \"ticks\": \"\"}, \"bgcolor\": \"#E5ECF6\", \"radialaxis\": {\"gridcolor\": \"white\", \"linecolor\": \"white\", \"ticks\": \"\"}}, \"scene\": {\"xaxis\": {\"backgroundcolor\": \"#E5ECF6\", \"gridcolor\": \"white\", \"gridwidth\": 2, \"linecolor\": \"white\", \"showbackground\": true, \"ticks\": \"\", \"zerolinecolor\": \"white\"}, \"yaxis\": {\"backgroundcolor\": \"#E5ECF6\", \"gridcolor\": \"white\", \"gridwidth\": 2, \"linecolor\": \"white\", \"showbackground\": true, \"ticks\": \"\", \"zerolinecolor\": \"white\"}, \"zaxis\": {\"backgroundcolor\": \"#E5ECF6\", \"gridcolor\": \"white\", \"gridwidth\": 2, \"linecolor\": \"white\", \"showbackground\": true, \"ticks\": \"\", \"zerolinecolor\": \"white\"}}, \"shapedefaults\": {\"line\": {\"color\": \"#2a3f5f\"}}, \"ternary\": {\"aaxis\": {\"gridcolor\": \"white\", \"linecolor\": \"white\", \"ticks\": \"\"}, \"baxis\": {\"gridcolor\": \"white\", \"linecolor\": \"white\", \"ticks\": \"\"}, \"bgcolor\": \"#E5ECF6\", \"caxis\": {\"gridcolor\": \"white\", \"linecolor\": \"white\", \"ticks\": \"\"}}, \"title\": {\"x\": 0.05}, \"xaxis\": {\"automargin\": true, \"gridcolor\": \"white\", \"linecolor\": \"white\", \"ticks\": \"\", \"title\": {\"standoff\": 15}, \"zerolinecolor\": \"white\", \"zerolinewidth\": 2}, \"yaxis\": {\"automargin\": true, \"gridcolor\": \"white\", \"linecolor\": \"white\", \"ticks\": \"\", \"title\": {\"standoff\": 15}, \"zerolinecolor\": \"white\", \"zerolinewidth\": 2}}}, \"xaxis\": {\"anchor\": \"y\", \"domain\": [0.0, 1.0], \"title\": {\"text\": \"per_surv_train\"}}, \"yaxis\": {\"anchor\": \"x\", \"domain\": [0.0, 1.0], \"title\": {\"text\": \"count\"}}},                        {\"responsive\": true}                    ).then(function(){\n",
       "                            \n",
       "var gd = document.getElementById('1c703cd4-cbd7-4e55-8b25-d41faf68520b');\n",
       "var x = new MutationObserver(function (mutations, observer) {{\n",
       "        var display = window.getComputedStyle(gd).display;\n",
       "        if (!display || display === 'none') {{\n",
       "            console.log([gd, 'removed!']);\n",
       "            Plotly.purge(gd);\n",
       "            observer.disconnect();\n",
       "        }}\n",
       "}});\n",
       "\n",
       "// Listen for the removal of the full notebook cells\n",
       "var notebookContainer = gd.closest('#notebook-container');\n",
       "if (notebookContainer) {{\n",
       "    x.observe(notebookContainer, {childList: true});\n",
       "}}\n",
       "\n",
       "// Listen for the clearing of the current output cell\n",
       "var outputEl = gd.closest('.output');\n",
       "if (outputEl) {{\n",
       "    x.observe(outputEl, {childList: true});\n",
       "}}\n",
       "\n",
       "                        })                };                });            </script>        </div>"
      ]
     },
     "metadata": {},
     "output_type": "display_data"
    }
   ],
   "source": [
    "px.histogram(test,x ='per_surv_train',color = 'total_count')"
   ]
  },
  {
   "cell_type": "code",
   "execution_count": 584,
   "metadata": {},
   "outputs": [
    {
     "data": {
      "application/javascript": [
       "\n",
       "        if (window._pyforest_update_imports_cell) { window._pyforest_update_imports_cell('import pandas as pd\\nfrom sklearn.model_selection import train_test_split\\nimport plotly.express as px'); }\n",
       "    "
      ],
      "text/plain": [
       "<IPython.core.display.Javascript object>"
      ]
     },
     "metadata": {},
     "output_type": "display_data"
    },
    {
     "data": {
      "application/vnd.plotly.v1+json": {
       "config": {
        "plotlyServerURL": "https://plot.ly"
       },
       "data": [
        {
         "alignmentgroup": "True",
         "bingroup": "x",
         "hovertemplate": "total_count=1<br>per_surv_train=%{x}<br>count=%{y}<extra></extra>",
         "legendgroup": "1",
         "marker": {
          "color": "#636efa"
         },
         "name": "1",
         "offsetgroup": "1",
         "orientation": "v",
         "showlegend": true,
         "type": "histogram",
         "x": [
          0.5,
          0.5,
          0.5,
          0.5,
          0.5,
          0.5,
          0.5,
          0.5,
          0.5,
          0.5,
          0.5,
          0.5,
          0.5,
          0.5,
          0.5,
          0.5,
          0.5,
          0.5,
          0.5,
          0.5,
          0.5,
          0.5,
          0.5,
          0.5,
          0.5,
          0.5,
          0.5,
          0.5,
          0.5,
          0.5,
          0.5,
          0.5,
          0.5,
          0.5,
          0.5,
          0.5,
          0.5,
          0.5,
          0.5,
          0.5,
          0.5,
          0.5,
          0.5,
          0.5,
          0.5,
          0.5,
          0.5,
          0.5,
          0.5,
          0.5,
          0.5,
          0.5,
          0.5,
          0.5,
          0.5,
          0.5,
          0.5,
          0.5,
          0.5,
          0.5,
          0.5,
          0.5,
          0.5,
          0.5,
          0.5,
          0.5,
          0.5,
          0.5,
          0.5,
          0.5,
          0.5,
          0.5,
          0.5,
          0.5,
          0.5,
          0.5,
          0.5,
          0.5,
          0.5,
          0.5,
          0.5,
          0.5,
          0.5,
          0.5,
          0.5,
          0.5,
          0.5,
          0.5,
          0.5,
          0.5,
          0.5,
          0.5,
          0.5,
          0.5,
          0.5,
          0.5,
          0.5,
          0.5,
          0.5,
          0.5,
          0.5,
          0.5,
          0.5,
          0.5,
          0.5,
          0.5,
          0.5,
          0.5,
          0.5,
          0.5,
          0.5,
          0.5,
          0.5,
          0.5,
          0.5,
          0.5,
          0.5,
          0.5,
          0.5,
          0.5,
          0.5,
          0.5,
          0.5,
          0.5,
          0.5,
          0.5,
          0.5,
          0.5,
          0.5,
          0.5,
          0.5,
          0.5,
          0.5,
          0.5,
          0.5,
          0.5,
          0.5,
          0.5,
          0.5,
          0.5,
          0.5,
          0.5,
          0.5,
          0.5,
          0.5,
          0.5,
          0.5,
          0.5,
          0.5,
          0.5,
          0.5,
          0.5,
          0.5,
          0.5,
          0.5,
          0.5,
          0.5,
          0.5,
          0.5,
          0.5,
          0.5,
          0.5,
          0.5,
          0.5,
          0.5,
          0.5,
          0.5,
          0.5,
          0.5,
          0.5,
          0.5,
          0.5,
          0.5,
          0.5,
          0.5,
          0.5,
          0.5,
          0.5,
          0.5,
          0.5,
          0.5,
          0.5,
          0.5,
          0.5,
          0.5,
          0.5,
          0.5,
          0.5,
          0.5,
          0.5,
          0.5,
          0.5,
          0.5,
          0.5,
          0.5,
          0.5,
          0.5,
          0.5,
          0.5,
          0.5,
          0.5,
          0.5,
          0.5,
          0.5,
          0.5,
          0.5,
          0.5,
          0.5,
          0.5,
          0.5,
          0.5,
          0.5,
          0.5,
          0.5,
          0.5,
          0.5,
          0.5,
          0.5,
          0.5,
          0.5,
          0.5,
          0.5,
          0.5,
          0.5,
          0.5,
          0.5,
          0.5,
          0.5,
          0.5,
          0.5,
          0.5,
          0.5,
          0.5,
          0.5,
          0.5,
          0.5,
          0.5,
          0.5,
          0.5,
          0.5,
          0.5,
          0.5,
          0.5,
          0.5,
          0.5,
          0.5,
          0.5,
          0.5,
          0.5,
          0.5,
          0.5,
          0.5,
          0.5,
          0.5,
          0.5,
          0.5,
          0.5,
          0.5,
          0.5,
          0.5,
          0.5,
          0.5,
          0.5,
          0.5,
          0.5,
          0.5,
          0.5,
          0.5,
          0.5,
          0.5,
          0.5,
          0.5,
          0.5,
          0.5,
          0.5,
          0.5,
          0.5,
          0.5,
          0.5,
          0.5,
          0.5,
          0.5,
          0.5,
          0.5,
          0.5,
          0.5,
          0.5,
          0.5,
          0.5,
          0.5,
          0.5,
          0.5,
          0.5,
          0.5,
          0.5,
          0.5,
          0.5,
          0.5,
          0.5,
          0.5,
          0.5,
          0.5,
          0.5,
          0.5,
          0.5,
          0.5,
          0.5,
          0.5,
          0.5,
          0.5,
          0.5,
          0.5,
          0.5,
          0.5,
          0.5,
          0.5,
          0.5,
          0.5,
          0.5,
          0.5,
          0.5,
          0.5,
          0.5,
          0.5,
          0.5,
          0.5,
          0.5,
          0.5,
          0.5,
          0.5,
          0.5,
          0.5,
          0.5,
          0.5,
          0.5,
          0.5,
          0.5,
          0.5,
          0.5,
          0.5,
          0.5,
          0.5,
          0.5,
          0.5,
          0.5,
          0.5,
          0.5,
          0.5,
          0.5,
          0.5,
          0.5,
          0.5,
          0.5,
          0.5,
          0.5,
          0.5,
          0.5,
          0.5,
          0.5,
          0.5,
          0.5,
          0.5,
          0.5,
          0.5,
          0.5,
          0.5,
          0.5,
          0.5,
          0.5,
          0.5,
          0.5,
          0.5,
          0.5,
          0.5,
          0.5,
          0.5,
          0.5,
          0.5,
          0.5,
          0.5,
          0.5,
          0.5,
          0.5,
          0.5,
          0.5,
          0.5,
          0.5,
          0.5,
          0.5,
          0.5,
          0.5,
          0.5,
          0.5,
          0.5,
          0.5,
          0.5,
          0.5,
          0.5,
          0.5,
          0.5,
          0.5,
          0.5,
          0.5,
          0.5,
          0.5,
          0.5,
          0.5,
          0.5,
          0.5,
          0.5,
          0.5,
          0.5,
          0.5,
          0.5,
          0.5,
          0.5,
          0.5,
          0.5,
          0.5,
          0.5,
          0.5,
          0.5,
          0.5,
          0.5,
          0.5,
          0.5,
          0.5,
          0.5,
          0.5,
          0.5,
          0.5,
          0.5,
          0.5,
          0.5,
          0.5,
          0.5,
          0.5,
          0.5,
          0.5,
          0.5,
          0.5,
          0.5,
          0.5,
          0.5,
          0.5,
          0.5,
          0.5,
          0.5,
          0.5,
          0.5,
          0.5,
          0.5,
          0.5,
          0.5,
          0.5,
          0.5,
          0.5,
          0.5,
          0.5,
          0.5,
          0.5,
          0.5,
          0.5,
          0.5,
          0.5,
          0.5,
          0.5,
          0.5,
          0.5,
          0.5,
          0.5,
          0.5,
          0.5,
          0.5,
          0.5,
          0.5,
          0.5,
          0.5,
          0.5,
          0.5,
          0.5
         ],
         "xaxis": "x",
         "yaxis": "y"
        },
        {
         "alignmentgroup": "True",
         "bingroup": "x",
         "hovertemplate": "total_count=2<br>per_surv_train=%{x}<br>count=%{y}<extra></extra>",
         "legendgroup": "2",
         "marker": {
          "color": "#EF553B"
         },
         "name": "2",
         "offsetgroup": "2",
         "orientation": "v",
         "showlegend": true,
         "type": "histogram",
         "x": [
          1,
          0.5,
          0,
          0.5,
          0,
          0.5,
          0.5,
          0.5,
          0.5,
          0.5,
          0.5,
          0,
          0.5,
          1,
          0,
          0.5,
          0.5,
          0,
          0.5,
          0,
          0.5,
          0,
          1,
          0.5,
          0.5,
          0.5,
          0.5,
          0.5,
          0.5,
          0.5,
          0.5,
          0.5,
          0.5,
          0,
          1,
          0.5,
          0.5,
          0.5,
          0.5,
          0.5,
          0,
          0,
          1,
          0.5,
          0.5,
          0.5,
          0.5,
          0.5,
          0.5,
          1,
          0.5,
          1,
          0.5,
          0.5,
          0,
          0.5,
          0.5,
          0.5,
          0.5,
          0.5,
          0.5,
          0.5,
          1,
          0.5,
          0.5,
          0.5,
          0.5,
          0.5,
          0.5,
          0,
          0.5,
          0.5,
          0.5,
          0.5,
          0.5,
          1,
          0.5,
          0.5,
          0,
          0.5,
          0.5,
          1,
          0.5,
          1,
          0.5,
          0.5,
          0.5,
          0.5,
          0,
          1,
          0.5,
          0.5,
          1,
          0.5,
          0.5,
          0.5,
          1,
          0.5,
          0.5,
          1,
          0.5,
          0.5,
          0.5,
          0.5,
          0,
          1,
          1,
          0.5,
          0,
          0.5,
          0.5,
          0.5,
          0,
          1,
          1,
          0.5,
          0.5,
          0,
          1,
          0.5,
          1,
          0.5,
          0,
          0.5,
          0.5,
          0,
          0,
          0.5,
          0.5,
          0.5,
          1,
          0.5,
          0.5,
          0.5,
          0.5,
          0.5,
          0.5,
          0.5,
          0,
          0.5,
          1,
          0.5,
          0.5,
          0.5,
          0.5,
          0,
          0.5,
          0.5,
          0,
          0.5,
          0.5,
          0,
          0.5,
          0,
          0.5,
          0.5,
          0.5,
          0.5,
          1,
          0.5,
          0.5,
          0.5,
          0.5,
          0.5,
          1,
          0.5,
          0,
          0.5,
          0.5,
          0.5,
          0.5,
          0.5,
          0.5,
          1,
          0.5,
          1,
          0,
          0.5,
          0.5,
          0.5,
          0.5
         ],
         "xaxis": "x",
         "yaxis": "y"
        },
        {
         "alignmentgroup": "True",
         "bingroup": "x",
         "hovertemplate": "total_count=5<br>per_surv_train=%{x}<br>count=%{y}<extra></extra>",
         "legendgroup": "5",
         "marker": {
          "color": "#00cc96"
         },
         "name": "5",
         "offsetgroup": "5",
         "orientation": "v",
         "showlegend": true,
         "type": "histogram",
         "x": [
          0,
          0,
          0,
          0,
          0,
          0,
          1,
          1,
          0,
          0,
          0.75,
          0,
          0,
          0,
          0.75,
          0,
          1,
          0.75,
          0.75,
          0,
          1
         ],
         "xaxis": "x",
         "yaxis": "y"
        },
        {
         "alignmentgroup": "True",
         "bingroup": "x",
         "hovertemplate": "total_count=3<br>per_surv_train=%{x}<br>count=%{y}<extra></extra>",
         "legendgroup": "3",
         "marker": {
          "color": "#ab63fa"
         },
         "name": "3",
         "offsetgroup": "3",
         "orientation": "v",
         "showlegend": true,
         "type": "histogram",
         "x": [
          0.5,
          1,
          1,
          0,
          0.5,
          1,
          1,
          0.5,
          0.5,
          1,
          0,
          0.5,
          0,
          0.5,
          0.5,
          1,
          0.5,
          1,
          0.5,
          0.5,
          0.5,
          0,
          1,
          0.5,
          0.5,
          0.5,
          0.5,
          0.5,
          0.5,
          0.5,
          0.5,
          1,
          0.5,
          1,
          0.5,
          1,
          0.5,
          1,
          0.5,
          0.5,
          1,
          1,
          0.5,
          1,
          0.5,
          0.5,
          0.5,
          1,
          0.5,
          0,
          0,
          0.5,
          0.5,
          1,
          0.5,
          1,
          0.5,
          0.5,
          1,
          0,
          0.5,
          1,
          1,
          0.5,
          0.5,
          0.5,
          0.5,
          0.5,
          0,
          0.5,
          0.5,
          0.5,
          0.5,
          0,
          1,
          0.5,
          0.5,
          0.5,
          0.5,
          0.5,
          0.5,
          0.5,
          1,
          0.5,
          0.5,
          0.5,
          1,
          0.5,
          0.5,
          0.5,
          0.5,
          0.5,
          0,
          0.5,
          0.5,
          0.5,
          1,
          0.5,
          0,
          0.5,
          1
         ],
         "xaxis": "x",
         "yaxis": "y"
        },
        {
         "alignmentgroup": "True",
         "bingroup": "x",
         "hovertemplate": "total_count=7<br>per_surv_train=%{x}<br>count=%{y}<extra></extra>",
         "legendgroup": "7",
         "marker": {
          "color": "#FFA15A"
         },
         "name": "7",
         "offsetgroup": "7",
         "orientation": "v",
         "showlegend": true,
         "type": "histogram",
         "x": [
          0.5,
          0.75,
          0,
          0,
          0.5,
          0,
          0,
          0.75,
          0.75,
          0.75,
          0,
          1,
          0,
          0.5,
          0.5,
          0.5,
          0,
          0,
          0,
          0,
          1,
          0.5,
          0,
          0.5
         ],
         "xaxis": "x",
         "yaxis": "y"
        },
        {
         "alignmentgroup": "True",
         "bingroup": "x",
         "hovertemplate": "total_count=6<br>per_surv_train=%{x}<br>count=%{y}<extra></extra>",
         "legendgroup": "6",
         "marker": {
          "color": "#19d3f3"
         },
         "name": "6",
         "offsetgroup": "6",
         "orientation": "v",
         "showlegend": true,
         "type": "histogram",
         "x": [
          0,
          0.5,
          0.5,
          0.5,
          0.5,
          0,
          0,
          0.5,
          0.5,
          0.5,
          0.5,
          0.5,
          0.5,
          0.5,
          0.5,
          0.5,
          0,
          0.5,
          0
         ],
         "xaxis": "x",
         "yaxis": "y"
        },
        {
         "alignmentgroup": "True",
         "bingroup": "x",
         "hovertemplate": "total_count=4<br>per_surv_train=%{x}<br>count=%{y}<extra></extra>",
         "legendgroup": "4",
         "marker": {
          "color": "#FF6692"
         },
         "name": "4",
         "offsetgroup": "4",
         "orientation": "v",
         "showlegend": true,
         "type": "histogram",
         "x": [
          0.6666666666666666,
          0.6666666666666666,
          0.5,
          0.5,
          0.5,
          1,
          1,
          0.6666666666666666,
          0.5,
          0.5,
          0.5,
          1,
          0.6666666666666666,
          0.6666666666666666,
          0.5,
          0.5,
          0.5,
          0.6666666666666666,
          0.5,
          0.6666666666666666,
          1,
          0,
          0.5,
          0.5,
          0.5,
          0.5,
          0.6666666666666666,
          1,
          0.5,
          1,
          0.6666666666666666,
          1,
          0.5,
          1,
          1,
          0.5,
          1,
          0,
          0.5,
          0.5,
          1,
          1,
          0.5,
          0
         ],
         "xaxis": "x",
         "yaxis": "y"
        },
        {
         "alignmentgroup": "True",
         "bingroup": "x",
         "hovertemplate": "total_count=8<br>per_surv_train=%{x}<br>count=%{y}<extra></extra>",
         "legendgroup": "8",
         "marker": {
          "color": "#B6E880"
         },
         "name": "8",
         "offsetgroup": "8",
         "orientation": "v",
         "showlegend": true,
         "type": "histogram",
         "x": [
          0,
          0,
          0.7142857142857143,
          0.7142857142857143,
          0,
          0,
          0.7142857142857143,
          0.7142857142857143,
          0,
          0,
          0.7142857142857143,
          0.7142857142857143,
          0.7142857142857143
         ],
         "xaxis": "x",
         "yaxis": "y"
        },
        {
         "alignmentgroup": "True",
         "bingroup": "x",
         "hovertemplate": "total_count=11<br>per_surv_train=%{x}<br>count=%{y}<extra></extra>",
         "legendgroup": "11",
         "marker": {
          "color": "#FF97FF"
         },
         "name": "11",
         "offsetgroup": "11",
         "orientation": "v",
         "showlegend": true,
         "type": "histogram",
         "x": [
          0,
          0,
          0,
          0,
          0,
          0,
          0
         ],
         "xaxis": "x",
         "yaxis": "y"
        }
       ],
       "layout": {
        "barmode": "relative",
        "legend": {
         "title": {
          "text": "total_count"
         },
         "tracegroupgap": 0
        },
        "margin": {
         "t": 60
        },
        "template": {
         "data": {
          "bar": [
           {
            "error_x": {
             "color": "#2a3f5f"
            },
            "error_y": {
             "color": "#2a3f5f"
            },
            "marker": {
             "line": {
              "color": "#E5ECF6",
              "width": 0.5
             }
            },
            "type": "bar"
           }
          ],
          "barpolar": [
           {
            "marker": {
             "line": {
              "color": "#E5ECF6",
              "width": 0.5
             }
            },
            "type": "barpolar"
           }
          ],
          "carpet": [
           {
            "aaxis": {
             "endlinecolor": "#2a3f5f",
             "gridcolor": "white",
             "linecolor": "white",
             "minorgridcolor": "white",
             "startlinecolor": "#2a3f5f"
            },
            "baxis": {
             "endlinecolor": "#2a3f5f",
             "gridcolor": "white",
             "linecolor": "white",
             "minorgridcolor": "white",
             "startlinecolor": "#2a3f5f"
            },
            "type": "carpet"
           }
          ],
          "choropleth": [
           {
            "colorbar": {
             "outlinewidth": 0,
             "ticks": ""
            },
            "type": "choropleth"
           }
          ],
          "contour": [
           {
            "colorbar": {
             "outlinewidth": 0,
             "ticks": ""
            },
            "colorscale": [
             [
              0,
              "#0d0887"
             ],
             [
              0.1111111111111111,
              "#46039f"
             ],
             [
              0.2222222222222222,
              "#7201a8"
             ],
             [
              0.3333333333333333,
              "#9c179e"
             ],
             [
              0.4444444444444444,
              "#bd3786"
             ],
             [
              0.5555555555555556,
              "#d8576b"
             ],
             [
              0.6666666666666666,
              "#ed7953"
             ],
             [
              0.7777777777777778,
              "#fb9f3a"
             ],
             [
              0.8888888888888888,
              "#fdca26"
             ],
             [
              1,
              "#f0f921"
             ]
            ],
            "type": "contour"
           }
          ],
          "contourcarpet": [
           {
            "colorbar": {
             "outlinewidth": 0,
             "ticks": ""
            },
            "type": "contourcarpet"
           }
          ],
          "heatmap": [
           {
            "colorbar": {
             "outlinewidth": 0,
             "ticks": ""
            },
            "colorscale": [
             [
              0,
              "#0d0887"
             ],
             [
              0.1111111111111111,
              "#46039f"
             ],
             [
              0.2222222222222222,
              "#7201a8"
             ],
             [
              0.3333333333333333,
              "#9c179e"
             ],
             [
              0.4444444444444444,
              "#bd3786"
             ],
             [
              0.5555555555555556,
              "#d8576b"
             ],
             [
              0.6666666666666666,
              "#ed7953"
             ],
             [
              0.7777777777777778,
              "#fb9f3a"
             ],
             [
              0.8888888888888888,
              "#fdca26"
             ],
             [
              1,
              "#f0f921"
             ]
            ],
            "type": "heatmap"
           }
          ],
          "heatmapgl": [
           {
            "colorbar": {
             "outlinewidth": 0,
             "ticks": ""
            },
            "colorscale": [
             [
              0,
              "#0d0887"
             ],
             [
              0.1111111111111111,
              "#46039f"
             ],
             [
              0.2222222222222222,
              "#7201a8"
             ],
             [
              0.3333333333333333,
              "#9c179e"
             ],
             [
              0.4444444444444444,
              "#bd3786"
             ],
             [
              0.5555555555555556,
              "#d8576b"
             ],
             [
              0.6666666666666666,
              "#ed7953"
             ],
             [
              0.7777777777777778,
              "#fb9f3a"
             ],
             [
              0.8888888888888888,
              "#fdca26"
             ],
             [
              1,
              "#f0f921"
             ]
            ],
            "type": "heatmapgl"
           }
          ],
          "histogram": [
           {
            "marker": {
             "colorbar": {
              "outlinewidth": 0,
              "ticks": ""
             }
            },
            "type": "histogram"
           }
          ],
          "histogram2d": [
           {
            "colorbar": {
             "outlinewidth": 0,
             "ticks": ""
            },
            "colorscale": [
             [
              0,
              "#0d0887"
             ],
             [
              0.1111111111111111,
              "#46039f"
             ],
             [
              0.2222222222222222,
              "#7201a8"
             ],
             [
              0.3333333333333333,
              "#9c179e"
             ],
             [
              0.4444444444444444,
              "#bd3786"
             ],
             [
              0.5555555555555556,
              "#d8576b"
             ],
             [
              0.6666666666666666,
              "#ed7953"
             ],
             [
              0.7777777777777778,
              "#fb9f3a"
             ],
             [
              0.8888888888888888,
              "#fdca26"
             ],
             [
              1,
              "#f0f921"
             ]
            ],
            "type": "histogram2d"
           }
          ],
          "histogram2dcontour": [
           {
            "colorbar": {
             "outlinewidth": 0,
             "ticks": ""
            },
            "colorscale": [
             [
              0,
              "#0d0887"
             ],
             [
              0.1111111111111111,
              "#46039f"
             ],
             [
              0.2222222222222222,
              "#7201a8"
             ],
             [
              0.3333333333333333,
              "#9c179e"
             ],
             [
              0.4444444444444444,
              "#bd3786"
             ],
             [
              0.5555555555555556,
              "#d8576b"
             ],
             [
              0.6666666666666666,
              "#ed7953"
             ],
             [
              0.7777777777777778,
              "#fb9f3a"
             ],
             [
              0.8888888888888888,
              "#fdca26"
             ],
             [
              1,
              "#f0f921"
             ]
            ],
            "type": "histogram2dcontour"
           }
          ],
          "mesh3d": [
           {
            "colorbar": {
             "outlinewidth": 0,
             "ticks": ""
            },
            "type": "mesh3d"
           }
          ],
          "parcoords": [
           {
            "line": {
             "colorbar": {
              "outlinewidth": 0,
              "ticks": ""
             }
            },
            "type": "parcoords"
           }
          ],
          "pie": [
           {
            "automargin": true,
            "type": "pie"
           }
          ],
          "scatter": [
           {
            "marker": {
             "colorbar": {
              "outlinewidth": 0,
              "ticks": ""
             }
            },
            "type": "scatter"
           }
          ],
          "scatter3d": [
           {
            "line": {
             "colorbar": {
              "outlinewidth": 0,
              "ticks": ""
             }
            },
            "marker": {
             "colorbar": {
              "outlinewidth": 0,
              "ticks": ""
             }
            },
            "type": "scatter3d"
           }
          ],
          "scattercarpet": [
           {
            "marker": {
             "colorbar": {
              "outlinewidth": 0,
              "ticks": ""
             }
            },
            "type": "scattercarpet"
           }
          ],
          "scattergeo": [
           {
            "marker": {
             "colorbar": {
              "outlinewidth": 0,
              "ticks": ""
             }
            },
            "type": "scattergeo"
           }
          ],
          "scattergl": [
           {
            "marker": {
             "colorbar": {
              "outlinewidth": 0,
              "ticks": ""
             }
            },
            "type": "scattergl"
           }
          ],
          "scattermapbox": [
           {
            "marker": {
             "colorbar": {
              "outlinewidth": 0,
              "ticks": ""
             }
            },
            "type": "scattermapbox"
           }
          ],
          "scatterpolar": [
           {
            "marker": {
             "colorbar": {
              "outlinewidth": 0,
              "ticks": ""
             }
            },
            "type": "scatterpolar"
           }
          ],
          "scatterpolargl": [
           {
            "marker": {
             "colorbar": {
              "outlinewidth": 0,
              "ticks": ""
             }
            },
            "type": "scatterpolargl"
           }
          ],
          "scatterternary": [
           {
            "marker": {
             "colorbar": {
              "outlinewidth": 0,
              "ticks": ""
             }
            },
            "type": "scatterternary"
           }
          ],
          "surface": [
           {
            "colorbar": {
             "outlinewidth": 0,
             "ticks": ""
            },
            "colorscale": [
             [
              0,
              "#0d0887"
             ],
             [
              0.1111111111111111,
              "#46039f"
             ],
             [
              0.2222222222222222,
              "#7201a8"
             ],
             [
              0.3333333333333333,
              "#9c179e"
             ],
             [
              0.4444444444444444,
              "#bd3786"
             ],
             [
              0.5555555555555556,
              "#d8576b"
             ],
             [
              0.6666666666666666,
              "#ed7953"
             ],
             [
              0.7777777777777778,
              "#fb9f3a"
             ],
             [
              0.8888888888888888,
              "#fdca26"
             ],
             [
              1,
              "#f0f921"
             ]
            ],
            "type": "surface"
           }
          ],
          "table": [
           {
            "cells": {
             "fill": {
              "color": "#EBF0F8"
             },
             "line": {
              "color": "white"
             }
            },
            "header": {
             "fill": {
              "color": "#C8D4E3"
             },
             "line": {
              "color": "white"
             }
            },
            "type": "table"
           }
          ]
         },
         "layout": {
          "annotationdefaults": {
           "arrowcolor": "#2a3f5f",
           "arrowhead": 0,
           "arrowwidth": 1
          },
          "autotypenumbers": "strict",
          "coloraxis": {
           "colorbar": {
            "outlinewidth": 0,
            "ticks": ""
           }
          },
          "colorscale": {
           "diverging": [
            [
             0,
             "#8e0152"
            ],
            [
             0.1,
             "#c51b7d"
            ],
            [
             0.2,
             "#de77ae"
            ],
            [
             0.3,
             "#f1b6da"
            ],
            [
             0.4,
             "#fde0ef"
            ],
            [
             0.5,
             "#f7f7f7"
            ],
            [
             0.6,
             "#e6f5d0"
            ],
            [
             0.7,
             "#b8e186"
            ],
            [
             0.8,
             "#7fbc41"
            ],
            [
             0.9,
             "#4d9221"
            ],
            [
             1,
             "#276419"
            ]
           ],
           "sequential": [
            [
             0,
             "#0d0887"
            ],
            [
             0.1111111111111111,
             "#46039f"
            ],
            [
             0.2222222222222222,
             "#7201a8"
            ],
            [
             0.3333333333333333,
             "#9c179e"
            ],
            [
             0.4444444444444444,
             "#bd3786"
            ],
            [
             0.5555555555555556,
             "#d8576b"
            ],
            [
             0.6666666666666666,
             "#ed7953"
            ],
            [
             0.7777777777777778,
             "#fb9f3a"
            ],
            [
             0.8888888888888888,
             "#fdca26"
            ],
            [
             1,
             "#f0f921"
            ]
           ],
           "sequentialminus": [
            [
             0,
             "#0d0887"
            ],
            [
             0.1111111111111111,
             "#46039f"
            ],
            [
             0.2222222222222222,
             "#7201a8"
            ],
            [
             0.3333333333333333,
             "#9c179e"
            ],
            [
             0.4444444444444444,
             "#bd3786"
            ],
            [
             0.5555555555555556,
             "#d8576b"
            ],
            [
             0.6666666666666666,
             "#ed7953"
            ],
            [
             0.7777777777777778,
             "#fb9f3a"
            ],
            [
             0.8888888888888888,
             "#fdca26"
            ],
            [
             1,
             "#f0f921"
            ]
           ]
          },
          "colorway": [
           "#636efa",
           "#EF553B",
           "#00cc96",
           "#ab63fa",
           "#FFA15A",
           "#19d3f3",
           "#FF6692",
           "#B6E880",
           "#FF97FF",
           "#FECB52"
          ],
          "font": {
           "color": "#2a3f5f"
          },
          "geo": {
           "bgcolor": "white",
           "lakecolor": "white",
           "landcolor": "#E5ECF6",
           "showlakes": true,
           "showland": true,
           "subunitcolor": "white"
          },
          "hoverlabel": {
           "align": "left"
          },
          "hovermode": "closest",
          "mapbox": {
           "style": "light"
          },
          "paper_bgcolor": "white",
          "plot_bgcolor": "#E5ECF6",
          "polar": {
           "angularaxis": {
            "gridcolor": "white",
            "linecolor": "white",
            "ticks": ""
           },
           "bgcolor": "#E5ECF6",
           "radialaxis": {
            "gridcolor": "white",
            "linecolor": "white",
            "ticks": ""
           }
          },
          "scene": {
           "xaxis": {
            "backgroundcolor": "#E5ECF6",
            "gridcolor": "white",
            "gridwidth": 2,
            "linecolor": "white",
            "showbackground": true,
            "ticks": "",
            "zerolinecolor": "white"
           },
           "yaxis": {
            "backgroundcolor": "#E5ECF6",
            "gridcolor": "white",
            "gridwidth": 2,
            "linecolor": "white",
            "showbackground": true,
            "ticks": "",
            "zerolinecolor": "white"
           },
           "zaxis": {
            "backgroundcolor": "#E5ECF6",
            "gridcolor": "white",
            "gridwidth": 2,
            "linecolor": "white",
            "showbackground": true,
            "ticks": "",
            "zerolinecolor": "white"
           }
          },
          "shapedefaults": {
           "line": {
            "color": "#2a3f5f"
           }
          },
          "ternary": {
           "aaxis": {
            "gridcolor": "white",
            "linecolor": "white",
            "ticks": ""
           },
           "baxis": {
            "gridcolor": "white",
            "linecolor": "white",
            "ticks": ""
           },
           "bgcolor": "#E5ECF6",
           "caxis": {
            "gridcolor": "white",
            "linecolor": "white",
            "ticks": ""
           }
          },
          "title": {
           "x": 0.05
          },
          "xaxis": {
           "automargin": true,
           "gridcolor": "white",
           "linecolor": "white",
           "ticks": "",
           "title": {
            "standoff": 15
           },
           "zerolinecolor": "white",
           "zerolinewidth": 2
          },
          "yaxis": {
           "automargin": true,
           "gridcolor": "white",
           "linecolor": "white",
           "ticks": "",
           "title": {
            "standoff": 15
           },
           "zerolinecolor": "white",
           "zerolinewidth": 2
          }
         }
        },
        "xaxis": {
         "anchor": "y",
         "domain": [
          0,
          1
         ],
         "title": {
          "text": "per_surv_train"
         }
        },
        "yaxis": {
         "anchor": "x",
         "domain": [
          0,
          1
         ],
         "title": {
          "text": "count"
         }
        }
       }
      },
      "text/html": [
       "<div>                            <div id=\"3cc651ef-fbb1-4552-8000-ffd4dbb8c5df\" class=\"plotly-graph-div\" style=\"height:525px; width:100%;\"></div>            <script type=\"text/javascript\">                require([\"plotly\"], function(Plotly) {                    window.PLOTLYENV=window.PLOTLYENV || {};                                    if (document.getElementById(\"3cc651ef-fbb1-4552-8000-ffd4dbb8c5df\")) {                    Plotly.newPlot(                        \"3cc651ef-fbb1-4552-8000-ffd4dbb8c5df\",                        [{\"alignmentgroup\": \"True\", \"bingroup\": \"x\", \"hovertemplate\": \"total_count=1<br>per_surv_train=%{x}<br>count=%{y}<extra></extra>\", \"legendgroup\": \"1\", \"marker\": {\"color\": \"#636efa\"}, \"name\": \"1\", \"offsetgroup\": \"1\", \"orientation\": \"v\", \"showlegend\": true, \"type\": \"histogram\", \"x\": [0.5, 0.5, 0.5, 0.5, 0.5, 0.5, 0.5, 0.5, 0.5, 0.5, 0.5, 0.5, 0.5, 0.5, 0.5, 0.5, 0.5, 0.5, 0.5, 0.5, 0.5, 0.5, 0.5, 0.5, 0.5, 0.5, 0.5, 0.5, 0.5, 0.5, 0.5, 0.5, 0.5, 0.5, 0.5, 0.5, 0.5, 0.5, 0.5, 0.5, 0.5, 0.5, 0.5, 0.5, 0.5, 0.5, 0.5, 0.5, 0.5, 0.5, 0.5, 0.5, 0.5, 0.5, 0.5, 0.5, 0.5, 0.5, 0.5, 0.5, 0.5, 0.5, 0.5, 0.5, 0.5, 0.5, 0.5, 0.5, 0.5, 0.5, 0.5, 0.5, 0.5, 0.5, 0.5, 0.5, 0.5, 0.5, 0.5, 0.5, 0.5, 0.5, 0.5, 0.5, 0.5, 0.5, 0.5, 0.5, 0.5, 0.5, 0.5, 0.5, 0.5, 0.5, 0.5, 0.5, 0.5, 0.5, 0.5, 0.5, 0.5, 0.5, 0.5, 0.5, 0.5, 0.5, 0.5, 0.5, 0.5, 0.5, 0.5, 0.5, 0.5, 0.5, 0.5, 0.5, 0.5, 0.5, 0.5, 0.5, 0.5, 0.5, 0.5, 0.5, 0.5, 0.5, 0.5, 0.5, 0.5, 0.5, 0.5, 0.5, 0.5, 0.5, 0.5, 0.5, 0.5, 0.5, 0.5, 0.5, 0.5, 0.5, 0.5, 0.5, 0.5, 0.5, 0.5, 0.5, 0.5, 0.5, 0.5, 0.5, 0.5, 0.5, 0.5, 0.5, 0.5, 0.5, 0.5, 0.5, 0.5, 0.5, 0.5, 0.5, 0.5, 0.5, 0.5, 0.5, 0.5, 0.5, 0.5, 0.5, 0.5, 0.5, 0.5, 0.5, 0.5, 0.5, 0.5, 0.5, 0.5, 0.5, 0.5, 0.5, 0.5, 0.5, 0.5, 0.5, 0.5, 0.5, 0.5, 0.5, 0.5, 0.5, 0.5, 0.5, 0.5, 0.5, 0.5, 0.5, 0.5, 0.5, 0.5, 0.5, 0.5, 0.5, 0.5, 0.5, 0.5, 0.5, 0.5, 0.5, 0.5, 0.5, 0.5, 0.5, 0.5, 0.5, 0.5, 0.5, 0.5, 0.5, 0.5, 0.5, 0.5, 0.5, 0.5, 0.5, 0.5, 0.5, 0.5, 0.5, 0.5, 0.5, 0.5, 0.5, 0.5, 0.5, 0.5, 0.5, 0.5, 0.5, 0.5, 0.5, 0.5, 0.5, 0.5, 0.5, 0.5, 0.5, 0.5, 0.5, 0.5, 0.5, 0.5, 0.5, 0.5, 0.5, 0.5, 0.5, 0.5, 0.5, 0.5, 0.5, 0.5, 0.5, 0.5, 0.5, 0.5, 0.5, 0.5, 0.5, 0.5, 0.5, 0.5, 0.5, 0.5, 0.5, 0.5, 0.5, 0.5, 0.5, 0.5, 0.5, 0.5, 0.5, 0.5, 0.5, 0.5, 0.5, 0.5, 0.5, 0.5, 0.5, 0.5, 0.5, 0.5, 0.5, 0.5, 0.5, 0.5, 0.5, 0.5, 0.5, 0.5, 0.5, 0.5, 0.5, 0.5, 0.5, 0.5, 0.5, 0.5, 0.5, 0.5, 0.5, 0.5, 0.5, 0.5, 0.5, 0.5, 0.5, 0.5, 0.5, 0.5, 0.5, 0.5, 0.5, 0.5, 0.5, 0.5, 0.5, 0.5, 0.5, 0.5, 0.5, 0.5, 0.5, 0.5, 0.5, 0.5, 0.5, 0.5, 0.5, 0.5, 0.5, 0.5, 0.5, 0.5, 0.5, 0.5, 0.5, 0.5, 0.5, 0.5, 0.5, 0.5, 0.5, 0.5, 0.5, 0.5, 0.5, 0.5, 0.5, 0.5, 0.5, 0.5, 0.5, 0.5, 0.5, 0.5, 0.5, 0.5, 0.5, 0.5, 0.5, 0.5, 0.5, 0.5, 0.5, 0.5, 0.5, 0.5, 0.5, 0.5, 0.5, 0.5, 0.5, 0.5, 0.5, 0.5, 0.5, 0.5, 0.5, 0.5, 0.5, 0.5, 0.5, 0.5, 0.5, 0.5, 0.5, 0.5, 0.5, 0.5, 0.5, 0.5, 0.5, 0.5, 0.5, 0.5, 0.5, 0.5, 0.5, 0.5, 0.5, 0.5, 0.5, 0.5, 0.5, 0.5, 0.5, 0.5, 0.5, 0.5, 0.5, 0.5, 0.5, 0.5, 0.5, 0.5, 0.5, 0.5, 0.5, 0.5, 0.5, 0.5, 0.5, 0.5, 0.5, 0.5, 0.5, 0.5, 0.5, 0.5, 0.5, 0.5, 0.5, 0.5, 0.5, 0.5, 0.5, 0.5, 0.5, 0.5, 0.5, 0.5, 0.5, 0.5, 0.5, 0.5, 0.5, 0.5, 0.5, 0.5, 0.5, 0.5, 0.5, 0.5, 0.5, 0.5, 0.5, 0.5, 0.5, 0.5, 0.5, 0.5, 0.5, 0.5, 0.5, 0.5], \"xaxis\": \"x\", \"yaxis\": \"y\"}, {\"alignmentgroup\": \"True\", \"bingroup\": \"x\", \"hovertemplate\": \"total_count=2<br>per_surv_train=%{x}<br>count=%{y}<extra></extra>\", \"legendgroup\": \"2\", \"marker\": {\"color\": \"#EF553B\"}, \"name\": \"2\", \"offsetgroup\": \"2\", \"orientation\": \"v\", \"showlegend\": true, \"type\": \"histogram\", \"x\": [1.0, 0.5, 0.0, 0.5, 0.0, 0.5, 0.5, 0.5, 0.5, 0.5, 0.5, 0.0, 0.5, 1.0, 0.0, 0.5, 0.5, 0.0, 0.5, 0.0, 0.5, 0.0, 1.0, 0.5, 0.5, 0.5, 0.5, 0.5, 0.5, 0.5, 0.5, 0.5, 0.5, 0.0, 1.0, 0.5, 0.5, 0.5, 0.5, 0.5, 0.0, 0.0, 1.0, 0.5, 0.5, 0.5, 0.5, 0.5, 0.5, 1.0, 0.5, 1.0, 0.5, 0.5, 0.0, 0.5, 0.5, 0.5, 0.5, 0.5, 0.5, 0.5, 1.0, 0.5, 0.5, 0.5, 0.5, 0.5, 0.5, 0.0, 0.5, 0.5, 0.5, 0.5, 0.5, 1.0, 0.5, 0.5, 0.0, 0.5, 0.5, 1.0, 0.5, 1.0, 0.5, 0.5, 0.5, 0.5, 0.0, 1.0, 0.5, 0.5, 1.0, 0.5, 0.5, 0.5, 1.0, 0.5, 0.5, 1.0, 0.5, 0.5, 0.5, 0.5, 0.0, 1.0, 1.0, 0.5, 0.0, 0.5, 0.5, 0.5, 0.0, 1.0, 1.0, 0.5, 0.5, 0.0, 1.0, 0.5, 1.0, 0.5, 0.0, 0.5, 0.5, 0.0, 0.0, 0.5, 0.5, 0.5, 1.0, 0.5, 0.5, 0.5, 0.5, 0.5, 0.5, 0.5, 0.0, 0.5, 1.0, 0.5, 0.5, 0.5, 0.5, 0.0, 0.5, 0.5, 0.0, 0.5, 0.5, 0.0, 0.5, 0.0, 0.5, 0.5, 0.5, 0.5, 1.0, 0.5, 0.5, 0.5, 0.5, 0.5, 1.0, 0.5, 0.0, 0.5, 0.5, 0.5, 0.5, 0.5, 0.5, 1.0, 0.5, 1.0, 0.0, 0.5, 0.5, 0.5, 0.5], \"xaxis\": \"x\", \"yaxis\": \"y\"}, {\"alignmentgroup\": \"True\", \"bingroup\": \"x\", \"hovertemplate\": \"total_count=5<br>per_surv_train=%{x}<br>count=%{y}<extra></extra>\", \"legendgroup\": \"5\", \"marker\": {\"color\": \"#00cc96\"}, \"name\": \"5\", \"offsetgroup\": \"5\", \"orientation\": \"v\", \"showlegend\": true, \"type\": \"histogram\", \"x\": [0.0, 0.0, 0.0, 0.0, 0.0, 0.0, 1.0, 1.0, 0.0, 0.0, 0.75, 0.0, 0.0, 0.0, 0.75, 0.0, 1.0, 0.75, 0.75, 0.0, 1.0], \"xaxis\": \"x\", \"yaxis\": \"y\"}, {\"alignmentgroup\": \"True\", \"bingroup\": \"x\", \"hovertemplate\": \"total_count=3<br>per_surv_train=%{x}<br>count=%{y}<extra></extra>\", \"legendgroup\": \"3\", \"marker\": {\"color\": \"#ab63fa\"}, \"name\": \"3\", \"offsetgroup\": \"3\", \"orientation\": \"v\", \"showlegend\": true, \"type\": \"histogram\", \"x\": [0.5, 1.0, 1.0, 0.0, 0.5, 1.0, 1.0, 0.5, 0.5, 1.0, 0.0, 0.5, 0.0, 0.5, 0.5, 1.0, 0.5, 1.0, 0.5, 0.5, 0.5, 0.0, 1.0, 0.5, 0.5, 0.5, 0.5, 0.5, 0.5, 0.5, 0.5, 1.0, 0.5, 1.0, 0.5, 1.0, 0.5, 1.0, 0.5, 0.5, 1.0, 1.0, 0.5, 1.0, 0.5, 0.5, 0.5, 1.0, 0.5, 0.0, 0.0, 0.5, 0.5, 1.0, 0.5, 1.0, 0.5, 0.5, 1.0, 0.0, 0.5, 1.0, 1.0, 0.5, 0.5, 0.5, 0.5, 0.5, 0.0, 0.5, 0.5, 0.5, 0.5, 0.0, 1.0, 0.5, 0.5, 0.5, 0.5, 0.5, 0.5, 0.5, 1.0, 0.5, 0.5, 0.5, 1.0, 0.5, 0.5, 0.5, 0.5, 0.5, 0.0, 0.5, 0.5, 0.5, 1.0, 0.5, 0.0, 0.5, 1.0], \"xaxis\": \"x\", \"yaxis\": \"y\"}, {\"alignmentgroup\": \"True\", \"bingroup\": \"x\", \"hovertemplate\": \"total_count=7<br>per_surv_train=%{x}<br>count=%{y}<extra></extra>\", \"legendgroup\": \"7\", \"marker\": {\"color\": \"#FFA15A\"}, \"name\": \"7\", \"offsetgroup\": \"7\", \"orientation\": \"v\", \"showlegend\": true, \"type\": \"histogram\", \"x\": [0.5, 0.75, 0.0, 0.0, 0.5, 0.0, 0.0, 0.75, 0.75, 0.75, 0.0, 1.0, 0.0, 0.5, 0.5, 0.5, 0.0, 0.0, 0.0, 0.0, 1.0, 0.5, 0.0, 0.5], \"xaxis\": \"x\", \"yaxis\": \"y\"}, {\"alignmentgroup\": \"True\", \"bingroup\": \"x\", \"hovertemplate\": \"total_count=6<br>per_surv_train=%{x}<br>count=%{y}<extra></extra>\", \"legendgroup\": \"6\", \"marker\": {\"color\": \"#19d3f3\"}, \"name\": \"6\", \"offsetgroup\": \"6\", \"orientation\": \"v\", \"showlegend\": true, \"type\": \"histogram\", \"x\": [0.0, 0.5, 0.5, 0.5, 0.5, 0.0, 0.0, 0.5, 0.5, 0.5, 0.5, 0.5, 0.5, 0.5, 0.5, 0.5, 0.0, 0.5, 0.0], \"xaxis\": \"x\", \"yaxis\": \"y\"}, {\"alignmentgroup\": \"True\", \"bingroup\": \"x\", \"hovertemplate\": \"total_count=4<br>per_surv_train=%{x}<br>count=%{y}<extra></extra>\", \"legendgroup\": \"4\", \"marker\": {\"color\": \"#FF6692\"}, \"name\": \"4\", \"offsetgroup\": \"4\", \"orientation\": \"v\", \"showlegend\": true, \"type\": \"histogram\", \"x\": [0.6666666666666666, 0.6666666666666666, 0.5, 0.5, 0.5, 1.0, 1.0, 0.6666666666666666, 0.5, 0.5, 0.5, 1.0, 0.6666666666666666, 0.6666666666666666, 0.5, 0.5, 0.5, 0.6666666666666666, 0.5, 0.6666666666666666, 1.0, 0.0, 0.5, 0.5, 0.5, 0.5, 0.6666666666666666, 1.0, 0.5, 1.0, 0.6666666666666666, 1.0, 0.5, 1.0, 1.0, 0.5, 1.0, 0.0, 0.5, 0.5, 1.0, 1.0, 0.5, 0.0], \"xaxis\": \"x\", \"yaxis\": \"y\"}, {\"alignmentgroup\": \"True\", \"bingroup\": \"x\", \"hovertemplate\": \"total_count=8<br>per_surv_train=%{x}<br>count=%{y}<extra></extra>\", \"legendgroup\": \"8\", \"marker\": {\"color\": \"#B6E880\"}, \"name\": \"8\", \"offsetgroup\": \"8\", \"orientation\": \"v\", \"showlegend\": true, \"type\": \"histogram\", \"x\": [0.0, 0.0, 0.7142857142857143, 0.7142857142857143, 0.0, 0.0, 0.7142857142857143, 0.7142857142857143, 0.0, 0.0, 0.7142857142857143, 0.7142857142857143, 0.7142857142857143], \"xaxis\": \"x\", \"yaxis\": \"y\"}, {\"alignmentgroup\": \"True\", \"bingroup\": \"x\", \"hovertemplate\": \"total_count=11<br>per_surv_train=%{x}<br>count=%{y}<extra></extra>\", \"legendgroup\": \"11\", \"marker\": {\"color\": \"#FF97FF\"}, \"name\": \"11\", \"offsetgroup\": \"11\", \"orientation\": \"v\", \"showlegend\": true, \"type\": \"histogram\", \"x\": [0.0, 0.0, 0.0, 0.0, 0.0, 0.0, 0.0], \"xaxis\": \"x\", \"yaxis\": \"y\"}],                        {\"barmode\": \"relative\", \"legend\": {\"title\": {\"text\": \"total_count\"}, \"tracegroupgap\": 0}, \"margin\": {\"t\": 60}, \"template\": {\"data\": {\"bar\": [{\"error_x\": {\"color\": \"#2a3f5f\"}, \"error_y\": {\"color\": \"#2a3f5f\"}, \"marker\": {\"line\": {\"color\": \"#E5ECF6\", \"width\": 0.5}}, \"type\": \"bar\"}], \"barpolar\": [{\"marker\": {\"line\": {\"color\": \"#E5ECF6\", \"width\": 0.5}}, \"type\": \"barpolar\"}], \"carpet\": [{\"aaxis\": {\"endlinecolor\": \"#2a3f5f\", \"gridcolor\": \"white\", \"linecolor\": \"white\", \"minorgridcolor\": \"white\", \"startlinecolor\": \"#2a3f5f\"}, \"baxis\": {\"endlinecolor\": \"#2a3f5f\", \"gridcolor\": \"white\", \"linecolor\": \"white\", \"minorgridcolor\": \"white\", \"startlinecolor\": \"#2a3f5f\"}, \"type\": \"carpet\"}], \"choropleth\": [{\"colorbar\": {\"outlinewidth\": 0, \"ticks\": \"\"}, \"type\": \"choropleth\"}], \"contour\": [{\"colorbar\": {\"outlinewidth\": 0, \"ticks\": \"\"}, \"colorscale\": [[0.0, \"#0d0887\"], [0.1111111111111111, \"#46039f\"], [0.2222222222222222, \"#7201a8\"], [0.3333333333333333, \"#9c179e\"], [0.4444444444444444, \"#bd3786\"], [0.5555555555555556, \"#d8576b\"], [0.6666666666666666, \"#ed7953\"], [0.7777777777777778, \"#fb9f3a\"], [0.8888888888888888, \"#fdca26\"], [1.0, \"#f0f921\"]], \"type\": \"contour\"}], \"contourcarpet\": [{\"colorbar\": {\"outlinewidth\": 0, \"ticks\": \"\"}, \"type\": \"contourcarpet\"}], \"heatmap\": [{\"colorbar\": {\"outlinewidth\": 0, \"ticks\": \"\"}, \"colorscale\": [[0.0, \"#0d0887\"], [0.1111111111111111, \"#46039f\"], [0.2222222222222222, \"#7201a8\"], [0.3333333333333333, \"#9c179e\"], [0.4444444444444444, \"#bd3786\"], [0.5555555555555556, \"#d8576b\"], [0.6666666666666666, \"#ed7953\"], [0.7777777777777778, \"#fb9f3a\"], [0.8888888888888888, \"#fdca26\"], [1.0, \"#f0f921\"]], \"type\": \"heatmap\"}], \"heatmapgl\": [{\"colorbar\": {\"outlinewidth\": 0, \"ticks\": \"\"}, \"colorscale\": [[0.0, \"#0d0887\"], [0.1111111111111111, \"#46039f\"], [0.2222222222222222, \"#7201a8\"], [0.3333333333333333, \"#9c179e\"], [0.4444444444444444, \"#bd3786\"], [0.5555555555555556, \"#d8576b\"], [0.6666666666666666, \"#ed7953\"], [0.7777777777777778, \"#fb9f3a\"], [0.8888888888888888, \"#fdca26\"], [1.0, \"#f0f921\"]], \"type\": \"heatmapgl\"}], \"histogram\": [{\"marker\": {\"colorbar\": {\"outlinewidth\": 0, \"ticks\": \"\"}}, \"type\": \"histogram\"}], \"histogram2d\": [{\"colorbar\": {\"outlinewidth\": 0, \"ticks\": \"\"}, \"colorscale\": [[0.0, \"#0d0887\"], [0.1111111111111111, \"#46039f\"], [0.2222222222222222, \"#7201a8\"], [0.3333333333333333, \"#9c179e\"], [0.4444444444444444, \"#bd3786\"], [0.5555555555555556, \"#d8576b\"], [0.6666666666666666, \"#ed7953\"], [0.7777777777777778, \"#fb9f3a\"], [0.8888888888888888, \"#fdca26\"], [1.0, \"#f0f921\"]], \"type\": \"histogram2d\"}], \"histogram2dcontour\": [{\"colorbar\": {\"outlinewidth\": 0, \"ticks\": \"\"}, \"colorscale\": [[0.0, \"#0d0887\"], [0.1111111111111111, \"#46039f\"], [0.2222222222222222, \"#7201a8\"], [0.3333333333333333, \"#9c179e\"], [0.4444444444444444, \"#bd3786\"], [0.5555555555555556, \"#d8576b\"], [0.6666666666666666, \"#ed7953\"], [0.7777777777777778, \"#fb9f3a\"], [0.8888888888888888, \"#fdca26\"], [1.0, \"#f0f921\"]], \"type\": \"histogram2dcontour\"}], \"mesh3d\": [{\"colorbar\": {\"outlinewidth\": 0, \"ticks\": \"\"}, \"type\": \"mesh3d\"}], \"parcoords\": [{\"line\": {\"colorbar\": {\"outlinewidth\": 0, \"ticks\": \"\"}}, \"type\": \"parcoords\"}], \"pie\": [{\"automargin\": true, \"type\": \"pie\"}], \"scatter\": [{\"marker\": {\"colorbar\": {\"outlinewidth\": 0, \"ticks\": \"\"}}, \"type\": \"scatter\"}], \"scatter3d\": [{\"line\": {\"colorbar\": {\"outlinewidth\": 0, \"ticks\": \"\"}}, \"marker\": {\"colorbar\": {\"outlinewidth\": 0, \"ticks\": \"\"}}, \"type\": \"scatter3d\"}], \"scattercarpet\": [{\"marker\": {\"colorbar\": {\"outlinewidth\": 0, \"ticks\": \"\"}}, \"type\": \"scattercarpet\"}], \"scattergeo\": [{\"marker\": {\"colorbar\": {\"outlinewidth\": 0, \"ticks\": \"\"}}, \"type\": \"scattergeo\"}], \"scattergl\": [{\"marker\": {\"colorbar\": {\"outlinewidth\": 0, \"ticks\": \"\"}}, \"type\": \"scattergl\"}], \"scattermapbox\": [{\"marker\": {\"colorbar\": {\"outlinewidth\": 0, \"ticks\": \"\"}}, \"type\": \"scattermapbox\"}], \"scatterpolar\": [{\"marker\": {\"colorbar\": {\"outlinewidth\": 0, \"ticks\": \"\"}}, \"type\": \"scatterpolar\"}], \"scatterpolargl\": [{\"marker\": {\"colorbar\": {\"outlinewidth\": 0, \"ticks\": \"\"}}, \"type\": \"scatterpolargl\"}], \"scatterternary\": [{\"marker\": {\"colorbar\": {\"outlinewidth\": 0, \"ticks\": \"\"}}, \"type\": \"scatterternary\"}], \"surface\": [{\"colorbar\": {\"outlinewidth\": 0, \"ticks\": \"\"}, \"colorscale\": [[0.0, \"#0d0887\"], [0.1111111111111111, \"#46039f\"], [0.2222222222222222, \"#7201a8\"], [0.3333333333333333, \"#9c179e\"], [0.4444444444444444, \"#bd3786\"], [0.5555555555555556, \"#d8576b\"], [0.6666666666666666, \"#ed7953\"], [0.7777777777777778, \"#fb9f3a\"], [0.8888888888888888, \"#fdca26\"], [1.0, \"#f0f921\"]], \"type\": \"surface\"}], \"table\": [{\"cells\": {\"fill\": {\"color\": \"#EBF0F8\"}, \"line\": {\"color\": \"white\"}}, \"header\": {\"fill\": {\"color\": \"#C8D4E3\"}, \"line\": {\"color\": \"white\"}}, \"type\": \"table\"}]}, \"layout\": {\"annotationdefaults\": {\"arrowcolor\": \"#2a3f5f\", \"arrowhead\": 0, \"arrowwidth\": 1}, \"autotypenumbers\": \"strict\", \"coloraxis\": {\"colorbar\": {\"outlinewidth\": 0, \"ticks\": \"\"}}, \"colorscale\": {\"diverging\": [[0, \"#8e0152\"], [0.1, \"#c51b7d\"], [0.2, \"#de77ae\"], [0.3, \"#f1b6da\"], [0.4, \"#fde0ef\"], [0.5, \"#f7f7f7\"], [0.6, \"#e6f5d0\"], [0.7, \"#b8e186\"], [0.8, \"#7fbc41\"], [0.9, \"#4d9221\"], [1, \"#276419\"]], \"sequential\": [[0.0, \"#0d0887\"], [0.1111111111111111, \"#46039f\"], [0.2222222222222222, \"#7201a8\"], [0.3333333333333333, \"#9c179e\"], [0.4444444444444444, \"#bd3786\"], [0.5555555555555556, \"#d8576b\"], [0.6666666666666666, \"#ed7953\"], [0.7777777777777778, \"#fb9f3a\"], [0.8888888888888888, \"#fdca26\"], [1.0, \"#f0f921\"]], \"sequentialminus\": [[0.0, \"#0d0887\"], [0.1111111111111111, \"#46039f\"], [0.2222222222222222, \"#7201a8\"], [0.3333333333333333, \"#9c179e\"], [0.4444444444444444, \"#bd3786\"], [0.5555555555555556, \"#d8576b\"], [0.6666666666666666, \"#ed7953\"], [0.7777777777777778, \"#fb9f3a\"], [0.8888888888888888, \"#fdca26\"], [1.0, \"#f0f921\"]]}, \"colorway\": [\"#636efa\", \"#EF553B\", \"#00cc96\", \"#ab63fa\", \"#FFA15A\", \"#19d3f3\", \"#FF6692\", \"#B6E880\", \"#FF97FF\", \"#FECB52\"], \"font\": {\"color\": \"#2a3f5f\"}, \"geo\": {\"bgcolor\": \"white\", \"lakecolor\": \"white\", \"landcolor\": \"#E5ECF6\", \"showlakes\": true, \"showland\": true, \"subunitcolor\": \"white\"}, \"hoverlabel\": {\"align\": \"left\"}, \"hovermode\": \"closest\", \"mapbox\": {\"style\": \"light\"}, \"paper_bgcolor\": \"white\", \"plot_bgcolor\": \"#E5ECF6\", \"polar\": {\"angularaxis\": {\"gridcolor\": \"white\", \"linecolor\": \"white\", \"ticks\": \"\"}, \"bgcolor\": \"#E5ECF6\", \"radialaxis\": {\"gridcolor\": \"white\", \"linecolor\": \"white\", \"ticks\": \"\"}}, \"scene\": {\"xaxis\": {\"backgroundcolor\": \"#E5ECF6\", \"gridcolor\": \"white\", \"gridwidth\": 2, \"linecolor\": \"white\", \"showbackground\": true, \"ticks\": \"\", \"zerolinecolor\": \"white\"}, \"yaxis\": {\"backgroundcolor\": \"#E5ECF6\", \"gridcolor\": \"white\", \"gridwidth\": 2, \"linecolor\": \"white\", \"showbackground\": true, \"ticks\": \"\", \"zerolinecolor\": \"white\"}, \"zaxis\": {\"backgroundcolor\": \"#E5ECF6\", \"gridcolor\": \"white\", \"gridwidth\": 2, \"linecolor\": \"white\", \"showbackground\": true, \"ticks\": \"\", \"zerolinecolor\": \"white\"}}, \"shapedefaults\": {\"line\": {\"color\": \"#2a3f5f\"}}, \"ternary\": {\"aaxis\": {\"gridcolor\": \"white\", \"linecolor\": \"white\", \"ticks\": \"\"}, \"baxis\": {\"gridcolor\": \"white\", \"linecolor\": \"white\", \"ticks\": \"\"}, \"bgcolor\": \"#E5ECF6\", \"caxis\": {\"gridcolor\": \"white\", \"linecolor\": \"white\", \"ticks\": \"\"}}, \"title\": {\"x\": 0.05}, \"xaxis\": {\"automargin\": true, \"gridcolor\": \"white\", \"linecolor\": \"white\", \"ticks\": \"\", \"title\": {\"standoff\": 15}, \"zerolinecolor\": \"white\", \"zerolinewidth\": 2}, \"yaxis\": {\"automargin\": true, \"gridcolor\": \"white\", \"linecolor\": \"white\", \"ticks\": \"\", \"title\": {\"standoff\": 15}, \"zerolinecolor\": \"white\", \"zerolinewidth\": 2}}}, \"xaxis\": {\"anchor\": \"y\", \"domain\": [0.0, 1.0], \"title\": {\"text\": \"per_surv_train\"}}, \"yaxis\": {\"anchor\": \"x\", \"domain\": [0.0, 1.0], \"title\": {\"text\": \"count\"}}},                        {\"responsive\": true}                    ).then(function(){\n",
       "                            \n",
       "var gd = document.getElementById('3cc651ef-fbb1-4552-8000-ffd4dbb8c5df');\n",
       "var x = new MutationObserver(function (mutations, observer) {{\n",
       "        var display = window.getComputedStyle(gd).display;\n",
       "        if (!display || display === 'none') {{\n",
       "            console.log([gd, 'removed!']);\n",
       "            Plotly.purge(gd);\n",
       "            observer.disconnect();\n",
       "        }}\n",
       "}});\n",
       "\n",
       "// Listen for the removal of the full notebook cells\n",
       "var notebookContainer = gd.closest('#notebook-container');\n",
       "if (notebookContainer) {{\n",
       "    x.observe(notebookContainer, {childList: true});\n",
       "}}\n",
       "\n",
       "// Listen for the clearing of the current output cell\n",
       "var outputEl = gd.closest('.output');\n",
       "if (outputEl) {{\n",
       "    x.observe(outputEl, {childList: true});\n",
       "}}\n",
       "\n",
       "                        })                };                });            </script>        </div>"
      ]
     },
     "metadata": {},
     "output_type": "display_data"
    }
   ],
   "source": [
    "px.histogram(train,x = 'per_surv_train',color ='total_count')"
   ]
  },
  {
   "cell_type": "code",
   "execution_count": 585,
   "metadata": {},
   "outputs": [
    {
     "data": {
      "text/plain": [
       "(481, 23)"
      ]
     },
     "execution_count": 585,
     "metadata": {},
     "output_type": "execute_result"
    }
   ],
   "source": [
    "train[train['total_count']==1].shape"
   ]
  },
  {
   "cell_type": "code",
   "execution_count": 659,
   "metadata": {},
   "outputs": [
    {
     "data": {
      "application/javascript": [
       "\n",
       "        if (window._pyforest_update_imports_cell) { window._pyforest_update_imports_cell('import pandas as pd\\nfrom sklearn.model_selection import train_test_split\\nimport plotly.express as px'); }\n",
       "    "
      ],
      "text/plain": [
       "<IPython.core.display.Javascript object>"
      ]
     },
     "metadata": {},
     "output_type": "display_data"
    },
    {
     "data": {
      "application/javascript": [
       "\n",
       "        if (window._pyforest_update_imports_cell) { window._pyforest_update_imports_cell('import pandas as pd\\nfrom sklearn.model_selection import train_test_split\\nimport plotly.express as px'); }\n",
       "    "
      ],
      "text/plain": [
       "<IPython.core.display.Javascript object>"
      ]
     },
     "metadata": {},
     "output_type": "display_data"
    }
   ],
   "source": [
    "#  encoding  of category column \n",
    "features = ['title','fare_cat','age_cat','newc']\n",
    "train_df = train.merge(pd.get_dummies(train[features]),how ='inner',left_index=True,right_index=True)\n",
    "test_df = test.merge(pd.get_dummies(test[features]),how ='inner',left_index=True,right_index=True)"
   ]
  },
  {
   "cell_type": "code",
   "execution_count": 483,
   "metadata": {},
   "outputs": [],
   "source": [
    "train_df = train_df[train_df['total_count'] == train_df['train_count']]"
   ]
  },
  {
   "cell_type": "code",
   "execution_count": 507,
   "metadata": {},
   "outputs": [],
   "source": [
    "train_df = train_df[train_df['total_count'] == 1]"
   ]
  },
  {
   "cell_type": "code",
   "execution_count": 660,
   "metadata": {},
   "outputs": [
    {
     "data": {
      "text/plain": [
       "(891, 41)"
      ]
     },
     "execution_count": 660,
     "metadata": {},
     "output_type": "execute_result"
    }
   ],
   "source": [
    "train_df.shape"
   ]
  },
  {
   "cell_type": "code",
   "execution_count": 661,
   "metadata": {},
   "outputs": [
    {
     "data": {
      "text/plain": [
       "PassengerId           int64\n",
       "Survived              int64\n",
       "Pclass                int64\n",
       "Name                 object\n",
       "Sex                  object\n",
       "Age                 float64\n",
       "SibSp                 int64\n",
       "Parch                 int64\n",
       "Ticket               object\n",
       "Fare                float64\n",
       "Cabin                object\n",
       "Embarked             object\n",
       "title                object\n",
       "age_cat            category\n",
       "newc                 object\n",
       "ticket               object\n",
       "total_count           int64\n",
       "per_fare            float64\n",
       "fare_cat           category\n",
       "count_1               int64\n",
       "per_surv            float64\n",
       "train_count           int64\n",
       "per_surv_train      float64\n",
       "title_Master          uint8\n",
       "title_Miss            uint8\n",
       "title_Mr              uint8\n",
       "title_Mrs             uint8\n",
       "title_rare            uint8\n",
       "fare_cat_fare_1       uint8\n",
       "fare_cat_fare_2       uint8\n",
       "fare_cat_fare_3       uint8\n",
       "age_cat_age1          uint8\n",
       "age_cat_age2          uint8\n",
       "age_cat_age3          uint8\n",
       "age_cat_age4          uint8\n",
       "newc_female_1         uint8\n",
       "newc_female_2         uint8\n",
       "newc_female_3         uint8\n",
       "newc_male_1           uint8\n",
       "newc_male_2           uint8\n",
       "newc_male_3           uint8\n",
       "dtype: object"
      ]
     },
     "execution_count": 661,
     "metadata": {},
     "output_type": "execute_result"
    }
   ],
   "source": [
    "train_df.dtypes"
   ]
  },
  {
   "cell_type": "code",
   "execution_count": 673,
   "metadata": {},
   "outputs": [
    {
     "data": {
      "text/plain": [
       "PassengerId           int64\n",
       "Pclass                int64\n",
       "Name                 object\n",
       "Sex                  object\n",
       "Age                 float64\n",
       "SibSp                 int64\n",
       "Parch                 int64\n",
       "Ticket               object\n",
       "Fare                float64\n",
       "Cabin                object\n",
       "Embarked             object\n",
       "title                object\n",
       "age_cat            category\n",
       "newc                 object\n",
       "ticket               object\n",
       "total_count           int64\n",
       "per_fare            float64\n",
       "fare_cat           category\n",
       "test_count          float64\n",
       "per_surv_train      float64\n",
       "title_Master          uint8\n",
       "title_Miss            uint8\n",
       "title_Mr              uint8\n",
       "title_Mrs             uint8\n",
       "title_rare            uint8\n",
       "fare_cat_fare_1       uint8\n",
       "fare_cat_fare_2       uint8\n",
       "fare_cat_fare_3       uint8\n",
       "age_cat_age1          uint8\n",
       "age_cat_age2          uint8\n",
       "age_cat_age3          uint8\n",
       "age_cat_age4          uint8\n",
       "newc_female_1         uint8\n",
       "newc_female_2         uint8\n",
       "newc_female_3         uint8\n",
       "newc_male_1           uint8\n",
       "newc_male_2           uint8\n",
       "newc_male_3           uint8\n",
       "dtype: object"
      ]
     },
     "execution_count": 673,
     "metadata": {},
     "output_type": "execute_result"
    }
   ],
   "source": [
    "test_df.dtypes"
   ]
  },
  {
   "cell_type": "code",
   "execution_count": 663,
   "metadata": {},
   "outputs": [
    {
     "data": {
      "application/javascript": [
       "\n",
       "        if (window._pyforest_update_imports_cell) { window._pyforest_update_imports_cell('import pandas as pd\\nfrom sklearn.model_selection import train_test_split\\nimport plotly.express as px'); }\n",
       "    "
      ],
      "text/plain": [
       "<IPython.core.display.Javascript object>"
      ]
     },
     "metadata": {},
     "output_type": "display_data"
    }
   ],
   "source": [
    "feature_names = ['newc_female_1','newc_female_2','newc_female_3','newc_male_1','newc_male_2','newc_male_3','title_Miss','title_Mr','title_Mrs','fare_cat_fare_1','fare_cat_fare_2','fare_cat_fare_3','title_rare','title_Master','age_cat_age1','age_cat_age2','age_cat_age3','age_cat_age4','per_surv_train'] \n",
    "xtrain,xvalid,ytrain,yvalid = train_test_split(train_df[feature_names],train_df['Survived'],test_size = 0.3, stratify=train_df['Survived'],random_state=35)\n",
    "# xtest = test_df[feature_names]"
   ]
  },
  {
   "cell_type": "code",
   "execution_count": 664,
   "metadata": {},
   "outputs": [],
   "source": [
    "# for grid search \n",
    "X = train_df[feature_names]\n",
    "Y = train_df['Survived']"
   ]
  },
  {
   "cell_type": "code",
   "execution_count": 665,
   "metadata": {},
   "outputs": [],
   "source": [
    "#KNN CLASSIFIER\n",
    "knn = KNeighborsClassifier()\n",
    "# knn.fit(xtrain,ytrain)\n",
    "# sub = knn.predict(xvalid)\n",
    "# print(f'accuracy_score : {accuracy_score(yvalid,sub)}')\n",
    "# print(f'auc_roc_score : {roc_auc_score(yvalid,sub)}')"
   ]
  },
  {
   "cell_type": "code",
   "execution_count": 666,
   "metadata": {},
   "outputs": [
    {
     "name": "stdout",
     "output_type": "stream",
     "text": [
      "{'algorithm': 'brute', 'n_neighbors': 9, 'weights': 'distance'}\n",
      "0.8459549411162314\n"
     ]
    }
   ],
   "source": [
    "# Tuning of KNN Classifier\n",
    "param_grid  = dict(n_neighbors = list(range(1,31)), weights = ['uniform','distance'],algorithm = ['auto','ball_tree', 'kd_tree', 'brute'])\n",
    "grid = GridSearchCV(knn,param_grid,cv=10,scoring ='accuracy',n_jobs= -1)\n",
    "grid.fit(xtrain,ytrain)\n",
    "print(grid.best_params_)\n",
    "print(grid.best_score_)"
   ]
  },
  {
   "cell_type": "code",
   "execution_count": 667,
   "metadata": {},
   "outputs": [
    {
     "name": "stdout",
     "output_type": "stream",
     "text": [
      "accuracy_score : 0.8432835820895522\n",
      "auc_roc_score : 0.8143571638717271\n"
     ]
    }
   ],
   "source": [
    "# Decision Tree\n",
    "dc = DecisionTreeClassifier()\n",
    "dc.fit(xtrain,ytrain)\n",
    "sub = dc.predict(xvalid)\n",
    "print(f'accuracy_score : {accuracy_score(yvalid,sub)}')\n",
    "print(f'auc_roc_score : {roc_auc_score(yvalid,sub)}')"
   ]
  },
  {
   "cell_type": "code",
   "execution_count": 668,
   "metadata": {},
   "outputs": [
    {
     "name": "stdout",
     "output_type": "stream",
     "text": [
      "{'criterion': 'gini', 'min_samples_leaf': 7}\n",
      "0.8394881398252185\n"
     ]
    }
   ],
   "source": [
    "# Grid Search for Decision Tree\n",
    "param_grid = dict(criterion = ['gini','entropy'],min_samples_leaf = list(range(2,20)))\n",
    "grid = GridSearchCV(dc,param_grid,cv=10,scoring ='accuracy',n_jobs= -1)\n",
    "grid.fit(X,Y)\n",
    "print(grid.best_params_)\n",
    "print(grid.best_score_)"
   ]
  },
  {
   "cell_type": "code",
   "execution_count": 669,
   "metadata": {},
   "outputs": [
    {
     "name": "stdout",
     "output_type": "stream",
     "text": [
      "{'criterion': 'gini', 'min_samples_leaf': 6, 'n_estimators': 10}\n",
      "0.8406242197253434\n"
     ]
    }
   ],
   "source": [
    "rfc = RandomForestClassifier(n_jobs = -1)\n",
    "param_grid = dict(n_estimators = list(range(10,100,10)), criterion = ['gini','entropy'],min_samples_leaf = list(range(2,11)))\n",
    "grid = GridSearchCV(rfc,param_grid,cv = 10, scoring='accuracy',n_jobs = -1)\n",
    "grid.fit(X,Y)\n",
    "print(grid.best_params_)\n",
    "print(grid.best_score_)"
   ]
  },
  {
   "cell_type": "code",
   "execution_count": 689,
   "metadata": {},
   "outputs": [
    {
     "name": "stdout",
     "output_type": "stream",
     "text": [
      "{'boosting_type': 'dart', 'min_child_samples': 10, 'n_estimators': 20}\n",
      "0.8417353308364544\n"
     ]
    }
   ],
   "source": [
    "lgbmc = LGBMClassifier()\n",
    "param_grid = dict(n_estimators = list(range(10,100,10)), boosting_type = ['dart','gbdt'],min_child_samples = list(range(2,11)))\n",
    "grid = GridSearchCV(lgbmc,param_grid,cv = 10, scoring='accuracy',n_jobs = -1)\n",
    "grid.fit(X,Y)\n",
    "print(grid.best_params_)\n",
    "print(grid.best_score_)"
   ]
  },
  {
   "cell_type": "code",
   "execution_count": 678,
   "metadata": {},
   "outputs": [
    {
     "name": "stdout",
     "output_type": "stream",
     "text": [
      "accuracy_score -  0.8507462686567164\n",
      "auc_roc_score -  0.8295380994410122\n"
     ]
    }
   ],
   "source": [
    "# Light GBM classifier\n",
    "lgbmc = LGBMClassifier(boosting_type='dart')\n",
    "lgbmc.fit(xtrain,ytrain)\n",
    "sub = lgbmc.predict(xvalid)\n",
    "print('accuracy_score - ',accuracy_score(sub,yvalid))\n",
    "print('auc_roc_score - ', roc_auc_score(yvalid,sub))"
   ]
  },
  {
   "cell_type": "code",
   "execution_count": 674,
   "metadata": {},
   "outputs": [],
   "source": [
    "rfc = RandomForestClassifier(criterion=  'gini', min_samples_leaf = 6, n_estimators =  10)\n",
    "rfc.fit(X,Y)\n",
    "sub = rfc.predict(test_df[feature_names])"
   ]
  },
  {
   "cell_type": "code",
   "execution_count": 690,
   "metadata": {},
   "outputs": [],
   "source": [
    "lgbmc = LGBMClassifier(boosting_type ='dart',min_child_samples=10,n_estimators=20)\n",
    "lgbmc.fit(X,Y)\n",
    "sub = lgbmc.predict(test_df[feature_names])"
   ]
  },
  {
   "cell_type": "code",
   "execution_count": 685,
   "metadata": {},
   "outputs": [],
   "source": [
    "sub =lgbmc.predict(test_df[feature_names])"
   ]
  },
  {
   "cell_type": "code",
   "execution_count": 692,
   "metadata": {},
   "outputs": [
    {
     "name": "stderr",
     "output_type": "stream",
     "text": [
      "<ipython-input-692-d80d6688a63e>:2: SettingWithCopyWarning:\n",
      "\n",
      "\n",
      "A value is trying to be set on a copy of a slice from a DataFrame.\n",
      "Try using .loc[row_indexer,col_indexer] = value instead\n",
      "\n",
      "See the caveats in the documentation: https://pandas.pydata.org/pandas-docs/stable/user_guide/indexing.html#returning-a-view-versus-a-copy\n",
      "\n"
     ]
    }
   ],
   "source": [
    "df_sub = test_df[['PassengerId','Age']]\n",
    "df_sub['Survived'] = sub\n",
    "df_sub = df_sub.drop(['Age'],axis =1)\n",
    "df_sub.to_csv('/Users/karanam.rama/Downloads/my_submission1.csv',index =False)"
   ]
  },
  {
   "cell_type": "code",
   "execution_count": 687,
   "metadata": {},
   "outputs": [],
   "source": []
  },
  {
   "cell_type": "code",
   "execution_count": 588,
   "metadata": {},
   "outputs": [
    {
     "data": {
      "image/svg+xml": [
       "<?xml version=\"1.0\" encoding=\"UTF-8\" standalone=\"no\"?>\n",
       "<!DOCTYPE svg PUBLIC \"-//W3C//DTD SVG 1.1//EN\"\n",
       " \"http://www.w3.org/Graphics/SVG/1.1/DTD/svg11.dtd\">\n",
       "<!-- Generated by graphviz version 2.47.0 (20210316.0004)\n",
       " -->\n",
       "<!-- Title: Tree Pages: 1 -->\n",
       "<svg width=\"2797pt\" height=\"1309pt\"\n",
       " viewBox=\"0.00 0.00 2796.50 1309.00\" xmlns=\"http://www.w3.org/2000/svg\" xmlns:xlink=\"http://www.w3.org/1999/xlink\">\n",
       "<g id=\"graph0\" class=\"graph\" transform=\"scale(1 1) rotate(0) translate(4 1305)\">\n",
       "<title>Tree</title>\n",
       "<polygon fill=\"white\" stroke=\"transparent\" points=\"-4,4 -4,-1305 2792.5,-1305 2792.5,4 -4,4\"/>\n",
       "<!-- 0 -->\n",
       "<g id=\"node1\" class=\"node\">\n",
       "<title>0</title>\n",
       "<polygon fill=\"none\" stroke=\"black\" points=\"1891.5,-1301 1772.5,-1301 1772.5,-1233 1891.5,-1233 1891.5,-1301\"/>\n",
       "<text text-anchor=\"middle\" x=\"1832\" y=\"-1285.8\" font-family=\"Times,serif\" font-size=\"14.00\">title_Mr &lt;= 0.5</text>\n",
       "<text text-anchor=\"middle\" x=\"1832\" y=\"-1270.8\" font-family=\"Times,serif\" font-size=\"14.00\">gini = 0.473</text>\n",
       "<text text-anchor=\"middle\" x=\"1832\" y=\"-1255.8\" font-family=\"Times,serif\" font-size=\"14.00\">samples = 623</text>\n",
       "<text text-anchor=\"middle\" x=\"1832\" y=\"-1240.8\" font-family=\"Times,serif\" font-size=\"14.00\">value = [384, 239]</text>\n",
       "</g>\n",
       "<!-- 1 -->\n",
       "<g id=\"node2\" class=\"node\">\n",
       "<title>1</title>\n",
       "<polygon fill=\"none\" stroke=\"black\" points=\"1539.5,-1197 1396.5,-1197 1396.5,-1129 1539.5,-1129 1539.5,-1197\"/>\n",
       "<text text-anchor=\"middle\" x=\"1468\" y=\"-1181.8\" font-family=\"Times,serif\" font-size=\"14.00\">per_surv_train &lt;= 0.25</text>\n",
       "<text text-anchor=\"middle\" x=\"1468\" y=\"-1166.8\" font-family=\"Times,serif\" font-size=\"14.00\">gini = 0.437</text>\n",
       "<text text-anchor=\"middle\" x=\"1468\" y=\"-1151.8\" font-family=\"Times,serif\" font-size=\"14.00\">samples = 263</text>\n",
       "<text text-anchor=\"middle\" x=\"1468\" y=\"-1136.8\" font-family=\"Times,serif\" font-size=\"14.00\">value = [85, 178]</text>\n",
       "</g>\n",
       "<!-- 0&#45;&gt;1 -->\n",
       "<g id=\"edge1\" class=\"edge\">\n",
       "<title>0&#45;&gt;1</title>\n",
       "<path fill=\"none\" stroke=\"black\" d=\"M1772.3,-1249.27C1711.55,-1232.25 1616.97,-1205.75 1549.39,-1186.81\"/>\n",
       "<polygon fill=\"black\" stroke=\"black\" points=\"1550.19,-1183.4 1539.62,-1184.07 1548.3,-1190.14 1550.19,-1183.4\"/>\n",
       "<text text-anchor=\"middle\" x=\"1551.87\" y=\"-1202.16\" font-family=\"Times,serif\" font-size=\"14.00\">True</text>\n",
       "</g>\n",
       "<!-- 64 -->\n",
       "<g id=\"node65\" class=\"node\">\n",
       "<title>64</title>\n",
       "<polygon fill=\"none\" stroke=\"black\" points=\"2060.5,-1197 1917.5,-1197 1917.5,-1129 2060.5,-1129 2060.5,-1197\"/>\n",
       "<text text-anchor=\"middle\" x=\"1989\" y=\"-1181.8\" font-family=\"Times,serif\" font-size=\"14.00\">per_surv_train &lt;= 0.69</text>\n",
       "<text text-anchor=\"middle\" x=\"1989\" y=\"-1166.8\" font-family=\"Times,serif\" font-size=\"14.00\">gini = 0.281</text>\n",
       "<text text-anchor=\"middle\" x=\"1989\" y=\"-1151.8\" font-family=\"Times,serif\" font-size=\"14.00\">samples = 360</text>\n",
       "<text text-anchor=\"middle\" x=\"1989\" y=\"-1136.8\" font-family=\"Times,serif\" font-size=\"14.00\">value = [299, 61]</text>\n",
       "</g>\n",
       "<!-- 0&#45;&gt;64 -->\n",
       "<g id=\"edge64\" class=\"edge\">\n",
       "<title>0&#45;&gt;64</title>\n",
       "<path fill=\"none\" stroke=\"black\" d=\"M1882.97,-1232.88C1897.86,-1223.21 1914.25,-1212.56 1929.61,-1202.59\"/>\n",
       "<polygon fill=\"black\" stroke=\"black\" points=\"1931.54,-1205.51 1938.01,-1197.12 1927.72,-1199.64 1931.54,-1205.51\"/>\n",
       "<text text-anchor=\"middle\" x=\"1932.82\" y=\"-1217.88\" font-family=\"Times,serif\" font-size=\"14.00\">False</text>\n",
       "</g>\n",
       "<!-- 2 -->\n",
       "<g id=\"node3\" class=\"node\">\n",
       "<title>2</title>\n",
       "<polygon fill=\"none\" stroke=\"black\" points=\"1378,-1085.5 1280,-1085.5 1280,-1032.5 1378,-1032.5 1378,-1085.5\"/>\n",
       "<text text-anchor=\"middle\" x=\"1329\" y=\"-1070.3\" font-family=\"Times,serif\" font-size=\"14.00\">gini = 0.0</text>\n",
       "<text text-anchor=\"middle\" x=\"1329\" y=\"-1055.3\" font-family=\"Times,serif\" font-size=\"14.00\">samples = 27</text>\n",
       "<text text-anchor=\"middle\" x=\"1329\" y=\"-1040.3\" font-family=\"Times,serif\" font-size=\"14.00\">value = [27, 0]</text>\n",
       "</g>\n",
       "<!-- 1&#45;&gt;2 -->\n",
       "<g id=\"edge2\" class=\"edge\">\n",
       "<title>1&#45;&gt;2</title>\n",
       "<path fill=\"none\" stroke=\"black\" d=\"M1422.87,-1128.88C1406.53,-1116.9 1388.14,-1103.4 1371.99,-1091.55\"/>\n",
       "<polygon fill=\"black\" stroke=\"black\" points=\"1373.91,-1088.61 1363.78,-1085.52 1369.77,-1094.26 1373.91,-1088.61\"/>\n",
       "</g>\n",
       "<!-- 3 -->\n",
       "<g id=\"node4\" class=\"node\">\n",
       "<title>3</title>\n",
       "<polygon fill=\"none\" stroke=\"black\" points=\"1540,-1093 1396,-1093 1396,-1025 1540,-1025 1540,-1093\"/>\n",
       "<text text-anchor=\"middle\" x=\"1468\" y=\"-1077.8\" font-family=\"Times,serif\" font-size=\"14.00\">newc_female_3 &lt;= 0.5</text>\n",
       "<text text-anchor=\"middle\" x=\"1468\" y=\"-1062.8\" font-family=\"Times,serif\" font-size=\"14.00\">gini = 0.371</text>\n",
       "<text text-anchor=\"middle\" x=\"1468\" y=\"-1047.8\" font-family=\"Times,serif\" font-size=\"14.00\">samples = 236</text>\n",
       "<text text-anchor=\"middle\" x=\"1468\" y=\"-1032.8\" font-family=\"Times,serif\" font-size=\"14.00\">value = [58, 178]</text>\n",
       "</g>\n",
       "<!-- 1&#45;&gt;3 -->\n",
       "<g id=\"edge3\" class=\"edge\">\n",
       "<title>1&#45;&gt;3</title>\n",
       "<path fill=\"none\" stroke=\"black\" d=\"M1468,-1128.88C1468,-1120.78 1468,-1111.98 1468,-1103.47\"/>\n",
       "<polygon fill=\"black\" stroke=\"black\" points=\"1471.5,-1103.3 1468,-1093.3 1464.5,-1103.3 1471.5,-1103.3\"/>\n",
       "</g>\n",
       "<!-- 4 -->\n",
       "<g id=\"node5\" class=\"node\">\n",
       "<title>4</title>\n",
       "<polygon fill=\"none\" stroke=\"black\" points=\"1240,-989 1128,-989 1128,-921 1240,-921 1240,-989\"/>\n",
       "<text text-anchor=\"middle\" x=\"1184\" y=\"-973.8\" font-family=\"Times,serif\" font-size=\"14.00\">title_rare &lt;= 0.5</text>\n",
       "<text text-anchor=\"middle\" x=\"1184\" y=\"-958.8\" font-family=\"Times,serif\" font-size=\"14.00\">gini = 0.227</text>\n",
       "<text text-anchor=\"middle\" x=\"1184\" y=\"-943.8\" font-family=\"Times,serif\" font-size=\"14.00\">samples = 153</text>\n",
       "<text text-anchor=\"middle\" x=\"1184\" y=\"-928.8\" font-family=\"Times,serif\" font-size=\"14.00\">value = [20, 133]</text>\n",
       "</g>\n",
       "<!-- 3&#45;&gt;4 -->\n",
       "<g id=\"edge4\" class=\"edge\">\n",
       "<title>3&#45;&gt;4</title>\n",
       "<path fill=\"none\" stroke=\"black\" d=\"M1395.66,-1028.28C1392.74,-1027.16 1389.85,-1026.06 1387,-1025 1341.57,-1008.04 1289.82,-990.48 1249.94,-977.31\"/>\n",
       "<polygon fill=\"black\" stroke=\"black\" points=\"1250.92,-973.95 1240.32,-974.15 1248.73,-980.6 1250.92,-973.95\"/>\n",
       "</g>\n",
       "<!-- 47 -->\n",
       "<g id=\"node48\" class=\"node\">\n",
       "<title>47</title>\n",
       "<polygon fill=\"none\" stroke=\"black\" points=\"1543,-989 1393,-989 1393,-921 1543,-921 1543,-989\"/>\n",
       "<text text-anchor=\"middle\" x=\"1468\" y=\"-973.8\" font-family=\"Times,serif\" font-size=\"14.00\">per_surv_train &lt;= 0.625</text>\n",
       "<text text-anchor=\"middle\" x=\"1468\" y=\"-958.8\" font-family=\"Times,serif\" font-size=\"14.00\">gini = 0.496</text>\n",
       "<text text-anchor=\"middle\" x=\"1468\" y=\"-943.8\" font-family=\"Times,serif\" font-size=\"14.00\">samples = 83</text>\n",
       "<text text-anchor=\"middle\" x=\"1468\" y=\"-928.8\" font-family=\"Times,serif\" font-size=\"14.00\">value = [38, 45]</text>\n",
       "</g>\n",
       "<!-- 3&#45;&gt;47 -->\n",
       "<g id=\"edge47\" class=\"edge\">\n",
       "<title>3&#45;&gt;47</title>\n",
       "<path fill=\"none\" stroke=\"black\" d=\"M1468,-1024.88C1468,-1016.78 1468,-1007.98 1468,-999.47\"/>\n",
       "<polygon fill=\"black\" stroke=\"black\" points=\"1471.5,-999.3 1468,-989.3 1464.5,-999.3 1471.5,-999.3\"/>\n",
       "</g>\n",
       "<!-- 5 -->\n",
       "<g id=\"node6\" class=\"node\">\n",
       "<title>5</title>\n",
       "<polygon fill=\"none\" stroke=\"black\" points=\"1001,-885 851,-885 851,-817 1001,-817 1001,-885\"/>\n",
       "<text text-anchor=\"middle\" x=\"926\" y=\"-869.8\" font-family=\"Times,serif\" font-size=\"14.00\">per_surv_train &lt;= 0.583</text>\n",
       "<text text-anchor=\"middle\" x=\"926\" y=\"-854.8\" font-family=\"Times,serif\" font-size=\"14.00\">gini = 0.125</text>\n",
       "<text text-anchor=\"middle\" x=\"926\" y=\"-839.8\" font-family=\"Times,serif\" font-size=\"14.00\">samples = 134</text>\n",
       "<text text-anchor=\"middle\" x=\"926\" y=\"-824.8\" font-family=\"Times,serif\" font-size=\"14.00\">value = [9, 125]</text>\n",
       "</g>\n",
       "<!-- 4&#45;&gt;5 -->\n",
       "<g id=\"edge5\" class=\"edge\">\n",
       "<title>4&#45;&gt;5</title>\n",
       "<path fill=\"none\" stroke=\"black\" d=\"M1127.7,-931.74C1093.53,-918.23 1049.25,-900.73 1010.89,-885.56\"/>\n",
       "<polygon fill=\"black\" stroke=\"black\" points=\"1011.86,-882.18 1001.28,-881.76 1009.29,-888.69 1011.86,-882.18\"/>\n",
       "</g>\n",
       "<!-- 40 -->\n",
       "<g id=\"node41\" class=\"node\">\n",
       "<title>40</title>\n",
       "<polygon fill=\"none\" stroke=\"black\" points=\"1251,-885 1117,-885 1117,-817 1251,-817 1251,-885\"/>\n",
       "<text text-anchor=\"middle\" x=\"1184\" y=\"-869.8\" font-family=\"Times,serif\" font-size=\"14.00\">newc_male_2 &lt;= 0.5</text>\n",
       "<text text-anchor=\"middle\" x=\"1184\" y=\"-854.8\" font-family=\"Times,serif\" font-size=\"14.00\">gini = 0.488</text>\n",
       "<text text-anchor=\"middle\" x=\"1184\" y=\"-839.8\" font-family=\"Times,serif\" font-size=\"14.00\">samples = 19</text>\n",
       "<text text-anchor=\"middle\" x=\"1184\" y=\"-824.8\" font-family=\"Times,serif\" font-size=\"14.00\">value = [11, 8]</text>\n",
       "</g>\n",
       "<!-- 4&#45;&gt;40 -->\n",
       "<g id=\"edge40\" class=\"edge\">\n",
       "<title>4&#45;&gt;40</title>\n",
       "<path fill=\"none\" stroke=\"black\" d=\"M1184,-920.88C1184,-912.78 1184,-903.98 1184,-895.47\"/>\n",
       "<polygon fill=\"black\" stroke=\"black\" points=\"1187.5,-895.3 1184,-885.3 1180.5,-895.3 1187.5,-895.3\"/>\n",
       "</g>\n",
       "<!-- 6 -->\n",
       "<g id=\"node7\" class=\"node\">\n",
       "<title>6</title>\n",
       "<polygon fill=\"none\" stroke=\"black\" points=\"859,-781 725,-781 725,-713 859,-713 859,-781\"/>\n",
       "<text text-anchor=\"middle\" x=\"792\" y=\"-765.8\" font-family=\"Times,serif\" font-size=\"14.00\">newc_male_3 &lt;= 0.5</text>\n",
       "<text text-anchor=\"middle\" x=\"792\" y=\"-750.8\" font-family=\"Times,serif\" font-size=\"14.00\">gini = 0.173</text>\n",
       "<text text-anchor=\"middle\" x=\"792\" y=\"-735.8\" font-family=\"Times,serif\" font-size=\"14.00\">samples = 94</text>\n",
       "<text text-anchor=\"middle\" x=\"792\" y=\"-720.8\" font-family=\"Times,serif\" font-size=\"14.00\">value = [9, 85]</text>\n",
       "</g>\n",
       "<!-- 5&#45;&gt;6 -->\n",
       "<g id=\"edge6\" class=\"edge\">\n",
       "<title>5&#45;&gt;6</title>\n",
       "<path fill=\"none\" stroke=\"black\" d=\"M882.49,-816.88C870.21,-807.53 856.71,-797.26 843.98,-787.57\"/>\n",
       "<polygon fill=\"black\" stroke=\"black\" points=\"845.82,-784.57 835.75,-781.3 841.58,-790.14 845.82,-784.57\"/>\n",
       "</g>\n",
       "<!-- 39 -->\n",
       "<g id=\"node40\" class=\"node\">\n",
       "<title>39</title>\n",
       "<polygon fill=\"none\" stroke=\"black\" points=\"975,-773.5 877,-773.5 877,-720.5 975,-720.5 975,-773.5\"/>\n",
       "<text text-anchor=\"middle\" x=\"926\" y=\"-758.3\" font-family=\"Times,serif\" font-size=\"14.00\">gini = 0.0</text>\n",
       "<text text-anchor=\"middle\" x=\"926\" y=\"-743.3\" font-family=\"Times,serif\" font-size=\"14.00\">samples = 40</text>\n",
       "<text text-anchor=\"middle\" x=\"926\" y=\"-728.3\" font-family=\"Times,serif\" font-size=\"14.00\">value = [0, 40]</text>\n",
       "</g>\n",
       "<!-- 5&#45;&gt;39 -->\n",
       "<g id=\"edge39\" class=\"edge\">\n",
       "<title>5&#45;&gt;39</title>\n",
       "<path fill=\"none\" stroke=\"black\" d=\"M926,-816.88C926,-806.33 926,-794.6 926,-783.85\"/>\n",
       "<polygon fill=\"black\" stroke=\"black\" points=\"929.5,-783.52 926,-773.52 922.5,-783.52 929.5,-783.52\"/>\n",
       "</g>\n",
       "<!-- 7 -->\n",
       "<g id=\"node8\" class=\"node\">\n",
       "<title>7</title>\n",
       "<polygon fill=\"none\" stroke=\"black\" points=\"749.5,-677 618.5,-677 618.5,-609 749.5,-609 749.5,-677\"/>\n",
       "<text text-anchor=\"middle\" x=\"684\" y=\"-661.8\" font-family=\"Times,serif\" font-size=\"14.00\">age_cat_age4 &lt;= 0.5</text>\n",
       "<text text-anchor=\"middle\" x=\"684\" y=\"-646.8\" font-family=\"Times,serif\" font-size=\"14.00\">gini = 0.146</text>\n",
       "<text text-anchor=\"middle\" x=\"684\" y=\"-631.8\" font-family=\"Times,serif\" font-size=\"14.00\">samples = 88</text>\n",
       "<text text-anchor=\"middle\" x=\"684\" y=\"-616.8\" font-family=\"Times,serif\" font-size=\"14.00\">value = [7, 81]</text>\n",
       "</g>\n",
       "<!-- 6&#45;&gt;7 -->\n",
       "<g id=\"edge7\" class=\"edge\">\n",
       "<title>6&#45;&gt;7</title>\n",
       "<path fill=\"none\" stroke=\"black\" d=\"M756.94,-712.88C747.32,-703.8 736.78,-693.85 726.78,-684.4\"/>\n",
       "<polygon fill=\"black\" stroke=\"black\" points=\"728.93,-681.62 719.26,-677.3 724.13,-686.71 728.93,-681.62\"/>\n",
       "</g>\n",
       "<!-- 38 -->\n",
       "<g id=\"node39\" class=\"node\">\n",
       "<title>38</title>\n",
       "<polygon fill=\"none\" stroke=\"black\" points=\"860,-669.5 768,-669.5 768,-616.5 860,-616.5 860,-669.5\"/>\n",
       "<text text-anchor=\"middle\" x=\"814\" y=\"-654.3\" font-family=\"Times,serif\" font-size=\"14.00\">gini = 0.444</text>\n",
       "<text text-anchor=\"middle\" x=\"814\" y=\"-639.3\" font-family=\"Times,serif\" font-size=\"14.00\">samples = 6</text>\n",
       "<text text-anchor=\"middle\" x=\"814\" y=\"-624.3\" font-family=\"Times,serif\" font-size=\"14.00\">value = [2, 4]</text>\n",
       "</g>\n",
       "<!-- 6&#45;&gt;38 -->\n",
       "<g id=\"edge38\" class=\"edge\">\n",
       "<title>6&#45;&gt;38</title>\n",
       "<path fill=\"none\" stroke=\"black\" d=\"M799.14,-712.88C801.44,-702.22 804,-690.35 806.34,-679.52\"/>\n",
       "<polygon fill=\"black\" stroke=\"black\" points=\"809.81,-680.03 808.5,-669.52 802.97,-678.56 809.81,-680.03\"/>\n",
       "</g>\n",
       "<!-- 8 -->\n",
       "<g id=\"node9\" class=\"node\">\n",
       "<title>8</title>\n",
       "<polygon fill=\"none\" stroke=\"black\" points=\"735.5,-573 592.5,-573 592.5,-505 735.5,-505 735.5,-573\"/>\n",
       "<text text-anchor=\"middle\" x=\"664\" y=\"-557.8\" font-family=\"Times,serif\" font-size=\"14.00\">fare_cat_fare_2 &lt;= 0.5</text>\n",
       "<text text-anchor=\"middle\" x=\"664\" y=\"-542.8\" font-family=\"Times,serif\" font-size=\"14.00\">gini = 0.124</text>\n",
       "<text text-anchor=\"middle\" x=\"664\" y=\"-527.8\" font-family=\"Times,serif\" font-size=\"14.00\">samples = 75</text>\n",
       "<text text-anchor=\"middle\" x=\"664\" y=\"-512.8\" font-family=\"Times,serif\" font-size=\"14.00\">value = [5, 70]</text>\n",
       "</g>\n",
       "<!-- 7&#45;&gt;8 -->\n",
       "<g id=\"edge8\" class=\"edge\">\n",
       "<title>7&#45;&gt;8</title>\n",
       "<path fill=\"none\" stroke=\"black\" d=\"M677.51,-608.88C675.9,-600.69 674.15,-591.79 672.47,-583.19\"/>\n",
       "<polygon fill=\"black\" stroke=\"black\" points=\"675.89,-582.44 670.53,-573.3 669.02,-583.79 675.89,-582.44\"/>\n",
       "</g>\n",
       "<!-- 31 -->\n",
       "<g id=\"node32\" class=\"node\">\n",
       "<title>31</title>\n",
       "<polygon fill=\"none\" stroke=\"black\" points=\"993.5,-573 850.5,-573 850.5,-505 993.5,-505 993.5,-573\"/>\n",
       "<text text-anchor=\"middle\" x=\"922\" y=\"-557.8\" font-family=\"Times,serif\" font-size=\"14.00\">fare_cat_fare_1 &lt;= 0.5</text>\n",
       "<text text-anchor=\"middle\" x=\"922\" y=\"-542.8\" font-family=\"Times,serif\" font-size=\"14.00\">gini = 0.26</text>\n",
       "<text text-anchor=\"middle\" x=\"922\" y=\"-527.8\" font-family=\"Times,serif\" font-size=\"14.00\">samples = 13</text>\n",
       "<text text-anchor=\"middle\" x=\"922\" y=\"-512.8\" font-family=\"Times,serif\" font-size=\"14.00\">value = [2, 11]</text>\n",
       "</g>\n",
       "<!-- 7&#45;&gt;31 -->\n",
       "<g id=\"edge31\" class=\"edge\">\n",
       "<title>7&#45;&gt;31</title>\n",
       "<path fill=\"none\" stroke=\"black\" d=\"M749.83,-612.97C752.93,-611.63 756,-610.3 759,-609 785.64,-597.5 814.79,-585.1 840.99,-574.03\"/>\n",
       "<polygon fill=\"black\" stroke=\"black\" points=\"842.65,-577.13 850.5,-570.01 839.92,-570.68 842.65,-577.13\"/>\n",
       "</g>\n",
       "<!-- 9 -->\n",
       "<g id=\"node10\" class=\"node\">\n",
       "<title>9</title>\n",
       "<polygon fill=\"none\" stroke=\"black\" points=\"573.5,-469 442.5,-469 442.5,-401 573.5,-401 573.5,-469\"/>\n",
       "<text text-anchor=\"middle\" x=\"508\" y=\"-453.8\" font-family=\"Times,serif\" font-size=\"14.00\">age_cat_age3 &lt;= 0.5</text>\n",
       "<text text-anchor=\"middle\" x=\"508\" y=\"-438.8\" font-family=\"Times,serif\" font-size=\"14.00\">gini = 0.085</text>\n",
       "<text text-anchor=\"middle\" x=\"508\" y=\"-423.8\" font-family=\"Times,serif\" font-size=\"14.00\">samples = 45</text>\n",
       "<text text-anchor=\"middle\" x=\"508\" y=\"-408.8\" font-family=\"Times,serif\" font-size=\"14.00\">value = [2, 43]</text>\n",
       "</g>\n",
       "<!-- 8&#45;&gt;9 -->\n",
       "<g id=\"edge9\" class=\"edge\">\n",
       "<title>8&#45;&gt;9</title>\n",
       "<path fill=\"none\" stroke=\"black\" d=\"M613.35,-504.88C598.7,-495.3 582.58,-484.76 567.44,-474.86\"/>\n",
       "<polygon fill=\"black\" stroke=\"black\" points=\"568.95,-471.67 558.66,-469.12 565.12,-477.53 568.95,-471.67\"/>\n",
       "</g>\n",
       "<!-- 22 -->\n",
       "<g id=\"node23\" class=\"node\">\n",
       "<title>22</title>\n",
       "<polygon fill=\"none\" stroke=\"black\" points=\"718,-469 610,-469 610,-401 718,-401 718,-469\"/>\n",
       "<text text-anchor=\"middle\" x=\"664\" y=\"-453.8\" font-family=\"Times,serif\" font-size=\"14.00\">title_Mrs &lt;= 0.5</text>\n",
       "<text text-anchor=\"middle\" x=\"664\" y=\"-438.8\" font-family=\"Times,serif\" font-size=\"14.00\">gini = 0.18</text>\n",
       "<text text-anchor=\"middle\" x=\"664\" y=\"-423.8\" font-family=\"Times,serif\" font-size=\"14.00\">samples = 30</text>\n",
       "<text text-anchor=\"middle\" x=\"664\" y=\"-408.8\" font-family=\"Times,serif\" font-size=\"14.00\">value = [3, 27]</text>\n",
       "</g>\n",
       "<!-- 8&#45;&gt;22 -->\n",
       "<g id=\"edge22\" class=\"edge\">\n",
       "<title>8&#45;&gt;22</title>\n",
       "<path fill=\"none\" stroke=\"black\" d=\"M664,-504.88C664,-496.78 664,-487.98 664,-479.47\"/>\n",
       "<polygon fill=\"black\" stroke=\"black\" points=\"667.5,-479.3 664,-469.3 660.5,-479.3 667.5,-479.3\"/>\n",
       "</g>\n",
       "<!-- 10 -->\n",
       "<g id=\"node11\" class=\"node\">\n",
       "<title>10</title>\n",
       "<polygon fill=\"none\" stroke=\"black\" points=\"438,-365 330,-365 330,-297 438,-297 438,-365\"/>\n",
       "<text text-anchor=\"middle\" x=\"384\" y=\"-349.8\" font-family=\"Times,serif\" font-size=\"14.00\">title_Mrs &lt;= 0.5</text>\n",
       "<text text-anchor=\"middle\" x=\"384\" y=\"-334.8\" font-family=\"Times,serif\" font-size=\"14.00\">gini = 0.128</text>\n",
       "<text text-anchor=\"middle\" x=\"384\" y=\"-319.8\" font-family=\"Times,serif\" font-size=\"14.00\">samples = 29</text>\n",
       "<text text-anchor=\"middle\" x=\"384\" y=\"-304.8\" font-family=\"Times,serif\" font-size=\"14.00\">value = [2, 27]</text>\n",
       "</g>\n",
       "<!-- 9&#45;&gt;10 -->\n",
       "<g id=\"edge10\" class=\"edge\">\n",
       "<title>9&#45;&gt;10</title>\n",
       "<path fill=\"none\" stroke=\"black\" d=\"M467.74,-400.88C456.48,-391.62 444.12,-381.45 432.44,-371.85\"/>\n",
       "<polygon fill=\"black\" stroke=\"black\" points=\"434.43,-368.95 424.48,-365.3 429.98,-374.36 434.43,-368.95\"/>\n",
       "</g>\n",
       "<!-- 21 -->\n",
       "<g id=\"node22\" class=\"node\">\n",
       "<title>21</title>\n",
       "<polygon fill=\"none\" stroke=\"black\" points=\"557,-357.5 459,-357.5 459,-304.5 557,-304.5 557,-357.5\"/>\n",
       "<text text-anchor=\"middle\" x=\"508\" y=\"-342.3\" font-family=\"Times,serif\" font-size=\"14.00\">gini = 0.0</text>\n",
       "<text text-anchor=\"middle\" x=\"508\" y=\"-327.3\" font-family=\"Times,serif\" font-size=\"14.00\">samples = 16</text>\n",
       "<text text-anchor=\"middle\" x=\"508\" y=\"-312.3\" font-family=\"Times,serif\" font-size=\"14.00\">value = [0, 16]</text>\n",
       "</g>\n",
       "<!-- 9&#45;&gt;21 -->\n",
       "<g id=\"edge21\" class=\"edge\">\n",
       "<title>9&#45;&gt;21</title>\n",
       "<path fill=\"none\" stroke=\"black\" d=\"M508,-400.88C508,-390.33 508,-378.6 508,-367.85\"/>\n",
       "<polygon fill=\"black\" stroke=\"black\" points=\"511.5,-367.52 508,-357.52 504.5,-367.52 511.5,-367.52\"/>\n",
       "</g>\n",
       "<!-- 11 -->\n",
       "<g id=\"node12\" class=\"node\">\n",
       "<title>11</title>\n",
       "<polygon fill=\"none\" stroke=\"black\" points=\"294.5,-261 163.5,-261 163.5,-193 294.5,-193 294.5,-261\"/>\n",
       "<text text-anchor=\"middle\" x=\"229\" y=\"-245.8\" font-family=\"Times,serif\" font-size=\"14.00\">age_cat_age2 &lt;= 0.5</text>\n",
       "<text text-anchor=\"middle\" x=\"229\" y=\"-230.8\" font-family=\"Times,serif\" font-size=\"14.00\">gini = 0.077</text>\n",
       "<text text-anchor=\"middle\" x=\"229\" y=\"-215.8\" font-family=\"Times,serif\" font-size=\"14.00\">samples = 25</text>\n",
       "<text text-anchor=\"middle\" x=\"229\" y=\"-200.8\" font-family=\"Times,serif\" font-size=\"14.00\">value = [1, 24]</text>\n",
       "</g>\n",
       "<!-- 10&#45;&gt;11 -->\n",
       "<g id=\"edge11\" class=\"edge\">\n",
       "<title>10&#45;&gt;11</title>\n",
       "<path fill=\"none\" stroke=\"black\" d=\"M333.68,-296.88C319.12,-287.3 303.1,-276.76 288.06,-266.86\"/>\n",
       "<polygon fill=\"black\" stroke=\"black\" points=\"289.61,-263.7 279.34,-261.12 285.77,-269.55 289.61,-263.7\"/>\n",
       "</g>\n",
       "<!-- 16 -->\n",
       "<g id=\"node17\" class=\"node\">\n",
       "<title>16</title>\n",
       "<polygon fill=\"none\" stroke=\"black\" points=\"455.5,-261 312.5,-261 312.5,-193 455.5,-193 455.5,-261\"/>\n",
       "<text text-anchor=\"middle\" x=\"384\" y=\"-245.8\" font-family=\"Times,serif\" font-size=\"14.00\">fare_cat_fare_3 &lt;= 0.5</text>\n",
       "<text text-anchor=\"middle\" x=\"384\" y=\"-230.8\" font-family=\"Times,serif\" font-size=\"14.00\">gini = 0.375</text>\n",
       "<text text-anchor=\"middle\" x=\"384\" y=\"-215.8\" font-family=\"Times,serif\" font-size=\"14.00\">samples = 4</text>\n",
       "<text text-anchor=\"middle\" x=\"384\" y=\"-200.8\" font-family=\"Times,serif\" font-size=\"14.00\">value = [1, 3]</text>\n",
       "</g>\n",
       "<!-- 10&#45;&gt;16 -->\n",
       "<g id=\"edge16\" class=\"edge\">\n",
       "<title>10&#45;&gt;16</title>\n",
       "<path fill=\"none\" stroke=\"black\" d=\"M384,-296.88C384,-288.78 384,-279.98 384,-271.47\"/>\n",
       "<polygon fill=\"black\" stroke=\"black\" points=\"387.5,-271.3 384,-261.3 380.5,-271.3 387.5,-271.3\"/>\n",
       "</g>\n",
       "<!-- 12 -->\n",
       "<g id=\"node13\" class=\"node\">\n",
       "<title>12</title>\n",
       "<polygon fill=\"none\" stroke=\"black\" points=\"173,-157 29,-157 29,-89 173,-89 173,-157\"/>\n",
       "<text text-anchor=\"middle\" x=\"101\" y=\"-141.8\" font-family=\"Times,serif\" font-size=\"14.00\">newc_female_1 &lt;= 0.5</text>\n",
       "<text text-anchor=\"middle\" x=\"101\" y=\"-126.8\" font-family=\"Times,serif\" font-size=\"14.00\">gini = 0.153</text>\n",
       "<text text-anchor=\"middle\" x=\"101\" y=\"-111.8\" font-family=\"Times,serif\" font-size=\"14.00\">samples = 12</text>\n",
       "<text text-anchor=\"middle\" x=\"101\" y=\"-96.8\" font-family=\"Times,serif\" font-size=\"14.00\">value = [1, 11]</text>\n",
       "</g>\n",
       "<!-- 11&#45;&gt;12 -->\n",
       "<g id=\"edge12\" class=\"edge\">\n",
       "<title>11&#45;&gt;12</title>\n",
       "<path fill=\"none\" stroke=\"black\" d=\"M187.44,-192.88C175.71,-183.53 162.82,-173.26 150.65,-163.57\"/>\n",
       "<polygon fill=\"black\" stroke=\"black\" points=\"152.79,-160.79 142.79,-157.3 148.43,-166.27 152.79,-160.79\"/>\n",
       "</g>\n",
       "<!-- 15 -->\n",
       "<g id=\"node16\" class=\"node\">\n",
       "<title>15</title>\n",
       "<polygon fill=\"none\" stroke=\"black\" points=\"289,-149.5 191,-149.5 191,-96.5 289,-96.5 289,-149.5\"/>\n",
       "<text text-anchor=\"middle\" x=\"240\" y=\"-134.3\" font-family=\"Times,serif\" font-size=\"14.00\">gini = 0.0</text>\n",
       "<text text-anchor=\"middle\" x=\"240\" y=\"-119.3\" font-family=\"Times,serif\" font-size=\"14.00\">samples = 13</text>\n",
       "<text text-anchor=\"middle\" x=\"240\" y=\"-104.3\" font-family=\"Times,serif\" font-size=\"14.00\">value = [0, 13]</text>\n",
       "</g>\n",
       "<!-- 11&#45;&gt;15 -->\n",
       "<g id=\"edge15\" class=\"edge\">\n",
       "<title>11&#45;&gt;15</title>\n",
       "<path fill=\"none\" stroke=\"black\" d=\"M232.57,-192.88C233.72,-182.22 235,-170.35 236.17,-159.52\"/>\n",
       "<polygon fill=\"black\" stroke=\"black\" points=\"239.66,-159.84 237.25,-149.52 232.7,-159.09 239.66,-159.84\"/>\n",
       "</g>\n",
       "<!-- 13 -->\n",
       "<g id=\"node14\" class=\"node\">\n",
       "<title>13</title>\n",
       "<polygon fill=\"none\" stroke=\"black\" points=\"92,-53 0,-53 0,0 92,0 92,-53\"/>\n",
       "<text text-anchor=\"middle\" x=\"46\" y=\"-37.8\" font-family=\"Times,serif\" font-size=\"14.00\">gini = 0.0</text>\n",
       "<text text-anchor=\"middle\" x=\"46\" y=\"-22.8\" font-family=\"Times,serif\" font-size=\"14.00\">samples = 7</text>\n",
       "<text text-anchor=\"middle\" x=\"46\" y=\"-7.8\" font-family=\"Times,serif\" font-size=\"14.00\">value = [0, 7]</text>\n",
       "</g>\n",
       "<!-- 12&#45;&gt;13 -->\n",
       "<g id=\"edge13\" class=\"edge\">\n",
       "<title>12&#45;&gt;13</title>\n",
       "<path fill=\"none\" stroke=\"black\" d=\"M81.76,-88.95C76.71,-80.26 71.24,-70.86 66.13,-62.09\"/>\n",
       "<polygon fill=\"black\" stroke=\"black\" points=\"69.03,-60.12 60.98,-53.24 62.98,-63.64 69.03,-60.12\"/>\n",
       "</g>\n",
       "<!-- 14 -->\n",
       "<g id=\"node15\" class=\"node\">\n",
       "<title>14</title>\n",
       "<polygon fill=\"none\" stroke=\"black\" points=\"202,-53 110,-53 110,0 202,0 202,-53\"/>\n",
       "<text text-anchor=\"middle\" x=\"156\" y=\"-37.8\" font-family=\"Times,serif\" font-size=\"14.00\">gini = 0.32</text>\n",
       "<text text-anchor=\"middle\" x=\"156\" y=\"-22.8\" font-family=\"Times,serif\" font-size=\"14.00\">samples = 5</text>\n",
       "<text text-anchor=\"middle\" x=\"156\" y=\"-7.8\" font-family=\"Times,serif\" font-size=\"14.00\">value = [1, 4]</text>\n",
       "</g>\n",
       "<!-- 12&#45;&gt;14 -->\n",
       "<g id=\"edge14\" class=\"edge\">\n",
       "<title>12&#45;&gt;14</title>\n",
       "<path fill=\"none\" stroke=\"black\" d=\"M120.24,-88.95C125.29,-80.26 130.76,-70.86 135.87,-62.09\"/>\n",
       "<polygon fill=\"black\" stroke=\"black\" points=\"139.02,-63.64 141.02,-53.24 132.97,-60.12 139.02,-63.64\"/>\n",
       "</g>\n",
       "<!-- 17 -->\n",
       "<g id=\"node18\" class=\"node\">\n",
       "<title>17</title>\n",
       "<polygon fill=\"none\" stroke=\"black\" points=\"420,-149.5 328,-149.5 328,-96.5 420,-96.5 420,-149.5\"/>\n",
       "<text text-anchor=\"middle\" x=\"374\" y=\"-134.3\" font-family=\"Times,serif\" font-size=\"14.00\">gini = 0.0</text>\n",
       "<text text-anchor=\"middle\" x=\"374\" y=\"-119.3\" font-family=\"Times,serif\" font-size=\"14.00\">samples = 2</text>\n",
       "<text text-anchor=\"middle\" x=\"374\" y=\"-104.3\" font-family=\"Times,serif\" font-size=\"14.00\">value = [0, 2]</text>\n",
       "</g>\n",
       "<!-- 16&#45;&gt;17 -->\n",
       "<g id=\"edge17\" class=\"edge\">\n",
       "<title>16&#45;&gt;17</title>\n",
       "<path fill=\"none\" stroke=\"black\" d=\"M380.75,-192.88C379.71,-182.22 378.54,-170.35 377.48,-159.52\"/>\n",
       "<polygon fill=\"black\" stroke=\"black\" points=\"380.96,-159.13 376.5,-149.52 373.99,-159.81 380.96,-159.13\"/>\n",
       "</g>\n",
       "<!-- 18 -->\n",
       "<g id=\"node19\" class=\"node\">\n",
       "<title>18</title>\n",
       "<polygon fill=\"none\" stroke=\"black\" points=\"569.5,-157 438.5,-157 438.5,-89 569.5,-89 569.5,-157\"/>\n",
       "<text text-anchor=\"middle\" x=\"504\" y=\"-141.8\" font-family=\"Times,serif\" font-size=\"14.00\">age_cat_age2 &lt;= 0.5</text>\n",
       "<text text-anchor=\"middle\" x=\"504\" y=\"-126.8\" font-family=\"Times,serif\" font-size=\"14.00\">gini = 0.5</text>\n",
       "<text text-anchor=\"middle\" x=\"504\" y=\"-111.8\" font-family=\"Times,serif\" font-size=\"14.00\">samples = 2</text>\n",
       "<text text-anchor=\"middle\" x=\"504\" y=\"-96.8\" font-family=\"Times,serif\" font-size=\"14.00\">value = [1, 1]</text>\n",
       "</g>\n",
       "<!-- 16&#45;&gt;18 -->\n",
       "<g id=\"edge18\" class=\"edge\">\n",
       "<title>16&#45;&gt;18</title>\n",
       "<path fill=\"none\" stroke=\"black\" d=\"M422.96,-192.88C433.86,-183.62 445.82,-173.45 457.12,-163.85\"/>\n",
       "<polygon fill=\"black\" stroke=\"black\" points=\"459.47,-166.44 464.82,-157.3 454.94,-161.11 459.47,-166.44\"/>\n",
       "</g>\n",
       "<!-- 19 -->\n",
       "<g id=\"node20\" class=\"node\">\n",
       "<title>19</title>\n",
       "<polygon fill=\"none\" stroke=\"black\" points=\"495,-53 403,-53 403,0 495,0 495,-53\"/>\n",
       "<text text-anchor=\"middle\" x=\"449\" y=\"-37.8\" font-family=\"Times,serif\" font-size=\"14.00\">gini = 0.0</text>\n",
       "<text text-anchor=\"middle\" x=\"449\" y=\"-22.8\" font-family=\"Times,serif\" font-size=\"14.00\">samples = 1</text>\n",
       "<text text-anchor=\"middle\" x=\"449\" y=\"-7.8\" font-family=\"Times,serif\" font-size=\"14.00\">value = [0, 1]</text>\n",
       "</g>\n",
       "<!-- 18&#45;&gt;19 -->\n",
       "<g id=\"edge19\" class=\"edge\">\n",
       "<title>18&#45;&gt;19</title>\n",
       "<path fill=\"none\" stroke=\"black\" d=\"M484.76,-88.95C479.71,-80.26 474.24,-70.86 469.13,-62.09\"/>\n",
       "<polygon fill=\"black\" stroke=\"black\" points=\"472.03,-60.12 463.98,-53.24 465.98,-63.64 472.03,-60.12\"/>\n",
       "</g>\n",
       "<!-- 20 -->\n",
       "<g id=\"node21\" class=\"node\">\n",
       "<title>20</title>\n",
       "<polygon fill=\"none\" stroke=\"black\" points=\"605,-53 513,-53 513,0 605,0 605,-53\"/>\n",
       "<text text-anchor=\"middle\" x=\"559\" y=\"-37.8\" font-family=\"Times,serif\" font-size=\"14.00\">gini = 0.0</text>\n",
       "<text text-anchor=\"middle\" x=\"559\" y=\"-22.8\" font-family=\"Times,serif\" font-size=\"14.00\">samples = 1</text>\n",
       "<text text-anchor=\"middle\" x=\"559\" y=\"-7.8\" font-family=\"Times,serif\" font-size=\"14.00\">value = [1, 0]</text>\n",
       "</g>\n",
       "<!-- 18&#45;&gt;20 -->\n",
       "<g id=\"edge20\" class=\"edge\">\n",
       "<title>18&#45;&gt;20</title>\n",
       "<path fill=\"none\" stroke=\"black\" d=\"M523.24,-88.95C528.29,-80.26 533.76,-70.86 538.87,-62.09\"/>\n",
       "<polygon fill=\"black\" stroke=\"black\" points=\"542.02,-63.64 544.02,-53.24 535.97,-60.12 542.02,-63.64\"/>\n",
       "</g>\n",
       "<!-- 23 -->\n",
       "<g id=\"node24\" class=\"node\">\n",
       "<title>23</title>\n",
       "<polygon fill=\"none\" stroke=\"black\" points=\"708.5,-365 577.5,-365 577.5,-297 708.5,-297 708.5,-365\"/>\n",
       "<text text-anchor=\"middle\" x=\"643\" y=\"-349.8\" font-family=\"Times,serif\" font-size=\"14.00\">age_cat_age2 &lt;= 0.5</text>\n",
       "<text text-anchor=\"middle\" x=\"643\" y=\"-334.8\" font-family=\"Times,serif\" font-size=\"14.00\">gini = 0.117</text>\n",
       "<text text-anchor=\"middle\" x=\"643\" y=\"-319.8\" font-family=\"Times,serif\" font-size=\"14.00\">samples = 16</text>\n",
       "<text text-anchor=\"middle\" x=\"643\" y=\"-304.8\" font-family=\"Times,serif\" font-size=\"14.00\">value = [1, 15]</text>\n",
       "</g>\n",
       "<!-- 22&#45;&gt;23 -->\n",
       "<g id=\"edge23\" class=\"edge\">\n",
       "<title>22&#45;&gt;23</title>\n",
       "<path fill=\"none\" stroke=\"black\" d=\"M657.18,-400.88C655.49,-392.69 653.66,-383.79 651.89,-375.19\"/>\n",
       "<polygon fill=\"black\" stroke=\"black\" points=\"655.3,-374.39 649.86,-365.3 648.44,-375.8 655.3,-374.39\"/>\n",
       "</g>\n",
       "<!-- 28 -->\n",
       "<g id=\"node29\" class=\"node\">\n",
       "<title>28</title>\n",
       "<polygon fill=\"none\" stroke=\"black\" points=\"857.5,-365 726.5,-365 726.5,-297 857.5,-297 857.5,-365\"/>\n",
       "<text text-anchor=\"middle\" x=\"792\" y=\"-349.8\" font-family=\"Times,serif\" font-size=\"14.00\">age_cat_age2 &lt;= 0.5</text>\n",
       "<text text-anchor=\"middle\" x=\"792\" y=\"-334.8\" font-family=\"Times,serif\" font-size=\"14.00\">gini = 0.245</text>\n",
       "<text text-anchor=\"middle\" x=\"792\" y=\"-319.8\" font-family=\"Times,serif\" font-size=\"14.00\">samples = 14</text>\n",
       "<text text-anchor=\"middle\" x=\"792\" y=\"-304.8\" font-family=\"Times,serif\" font-size=\"14.00\">value = [2, 12]</text>\n",
       "</g>\n",
       "<!-- 22&#45;&gt;28 -->\n",
       "<g id=\"edge28\" class=\"edge\">\n",
       "<title>22&#45;&gt;28</title>\n",
       "<path fill=\"none\" stroke=\"black\" d=\"M705.56,-400.88C717.29,-391.53 730.18,-381.26 742.35,-371.57\"/>\n",
       "<polygon fill=\"black\" stroke=\"black\" points=\"744.57,-374.27 750.21,-365.3 740.21,-368.79 744.57,-374.27\"/>\n",
       "</g>\n",
       "<!-- 24 -->\n",
       "<g id=\"node25\" class=\"node\">\n",
       "<title>24</title>\n",
       "<polygon fill=\"none\" stroke=\"black\" points=\"566,-253.5 474,-253.5 474,-200.5 566,-200.5 566,-253.5\"/>\n",
       "<text text-anchor=\"middle\" x=\"520\" y=\"-238.3\" font-family=\"Times,serif\" font-size=\"14.00\">gini = 0.0</text>\n",
       "<text text-anchor=\"middle\" x=\"520\" y=\"-223.3\" font-family=\"Times,serif\" font-size=\"14.00\">samples = 7</text>\n",
       "<text text-anchor=\"middle\" x=\"520\" y=\"-208.3\" font-family=\"Times,serif\" font-size=\"14.00\">value = [0, 7]</text>\n",
       "</g>\n",
       "<!-- 23&#45;&gt;24 -->\n",
       "<g id=\"edge24\" class=\"edge\">\n",
       "<title>23&#45;&gt;24</title>\n",
       "<path fill=\"none\" stroke=\"black\" d=\"M603.07,-296.88C588.87,-285.12 572.93,-271.89 558.83,-260.2\"/>\n",
       "<polygon fill=\"black\" stroke=\"black\" points=\"560.71,-257.21 550.77,-253.52 556.24,-262.6 560.71,-257.21\"/>\n",
       "</g>\n",
       "<!-- 25 -->\n",
       "<g id=\"node26\" class=\"node\">\n",
       "<title>25</title>\n",
       "<polygon fill=\"none\" stroke=\"black\" points=\"728,-261 584,-261 584,-193 728,-193 728,-261\"/>\n",
       "<text text-anchor=\"middle\" x=\"656\" y=\"-245.8\" font-family=\"Times,serif\" font-size=\"14.00\">newc_female_2 &lt;= 0.5</text>\n",
       "<text text-anchor=\"middle\" x=\"656\" y=\"-230.8\" font-family=\"Times,serif\" font-size=\"14.00\">gini = 0.198</text>\n",
       "<text text-anchor=\"middle\" x=\"656\" y=\"-215.8\" font-family=\"Times,serif\" font-size=\"14.00\">samples = 9</text>\n",
       "<text text-anchor=\"middle\" x=\"656\" y=\"-200.8\" font-family=\"Times,serif\" font-size=\"14.00\">value = [1, 8]</text>\n",
       "</g>\n",
       "<!-- 23&#45;&gt;25 -->\n",
       "<g id=\"edge25\" class=\"edge\">\n",
       "<title>23&#45;&gt;25</title>\n",
       "<path fill=\"none\" stroke=\"black\" d=\"M647.22,-296.88C648.25,-288.78 649.37,-279.98 650.46,-271.47\"/>\n",
       "<polygon fill=\"black\" stroke=\"black\" points=\"653.96,-271.66 651.76,-261.3 647.02,-270.78 653.96,-271.66\"/>\n",
       "</g>\n",
       "<!-- 26 -->\n",
       "<g id=\"node27\" class=\"node\">\n",
       "<title>26</title>\n",
       "<polygon fill=\"none\" stroke=\"black\" points=\"691,-149.5 599,-149.5 599,-96.5 691,-96.5 691,-149.5\"/>\n",
       "<text text-anchor=\"middle\" x=\"645\" y=\"-134.3\" font-family=\"Times,serif\" font-size=\"14.00\">gini = 0.0</text>\n",
       "<text text-anchor=\"middle\" x=\"645\" y=\"-119.3\" font-family=\"Times,serif\" font-size=\"14.00\">samples = 1</text>\n",
       "<text text-anchor=\"middle\" x=\"645\" y=\"-104.3\" font-family=\"Times,serif\" font-size=\"14.00\">value = [0, 1]</text>\n",
       "</g>\n",
       "<!-- 25&#45;&gt;26 -->\n",
       "<g id=\"edge26\" class=\"edge\">\n",
       "<title>25&#45;&gt;26</title>\n",
       "<path fill=\"none\" stroke=\"black\" d=\"M652.43,-192.88C651.28,-182.22 650,-170.35 648.83,-159.52\"/>\n",
       "<polygon fill=\"black\" stroke=\"black\" points=\"652.3,-159.09 647.75,-149.52 645.34,-159.84 652.3,-159.09\"/>\n",
       "</g>\n",
       "<!-- 27 -->\n",
       "<g id=\"node28\" class=\"node\">\n",
       "<title>27</title>\n",
       "<polygon fill=\"none\" stroke=\"black\" points=\"801,-149.5 709,-149.5 709,-96.5 801,-96.5 801,-149.5\"/>\n",
       "<text text-anchor=\"middle\" x=\"755\" y=\"-134.3\" font-family=\"Times,serif\" font-size=\"14.00\">gini = 0.219</text>\n",
       "<text text-anchor=\"middle\" x=\"755\" y=\"-119.3\" font-family=\"Times,serif\" font-size=\"14.00\">samples = 8</text>\n",
       "<text text-anchor=\"middle\" x=\"755\" y=\"-104.3\" font-family=\"Times,serif\" font-size=\"14.00\">value = [1, 7]</text>\n",
       "</g>\n",
       "<!-- 25&#45;&gt;27 -->\n",
       "<g id=\"edge27\" class=\"edge\">\n",
       "<title>25&#45;&gt;27</title>\n",
       "<path fill=\"none\" stroke=\"black\" d=\"M688.14,-192.88C699.35,-181.34 711.92,-168.39 723.11,-156.86\"/>\n",
       "<polygon fill=\"black\" stroke=\"black\" points=\"725.78,-159.13 730.23,-149.52 720.75,-154.26 725.78,-159.13\"/>\n",
       "</g>\n",
       "<!-- 29 -->\n",
       "<g id=\"node30\" class=\"node\">\n",
       "<title>29</title>\n",
       "<polygon fill=\"none\" stroke=\"black\" points=\"838,-253.5 746,-253.5 746,-200.5 838,-200.5 838,-253.5\"/>\n",
       "<text text-anchor=\"middle\" x=\"792\" y=\"-238.3\" font-family=\"Times,serif\" font-size=\"14.00\">gini = 0.245</text>\n",
       "<text text-anchor=\"middle\" x=\"792\" y=\"-223.3\" font-family=\"Times,serif\" font-size=\"14.00\">samples = 7</text>\n",
       "<text text-anchor=\"middle\" x=\"792\" y=\"-208.3\" font-family=\"Times,serif\" font-size=\"14.00\">value = [1, 6]</text>\n",
       "</g>\n",
       "<!-- 28&#45;&gt;29 -->\n",
       "<g id=\"edge29\" class=\"edge\">\n",
       "<title>28&#45;&gt;29</title>\n",
       "<path fill=\"none\" stroke=\"black\" d=\"M792,-296.88C792,-286.33 792,-274.6 792,-263.85\"/>\n",
       "<polygon fill=\"black\" stroke=\"black\" points=\"795.5,-263.52 792,-253.52 788.5,-263.52 795.5,-263.52\"/>\n",
       "</g>\n",
       "<!-- 30 -->\n",
       "<g id=\"node31\" class=\"node\">\n",
       "<title>30</title>\n",
       "<polygon fill=\"none\" stroke=\"black\" points=\"948,-253.5 856,-253.5 856,-200.5 948,-200.5 948,-253.5\"/>\n",
       "<text text-anchor=\"middle\" x=\"902\" y=\"-238.3\" font-family=\"Times,serif\" font-size=\"14.00\">gini = 0.245</text>\n",
       "<text text-anchor=\"middle\" x=\"902\" y=\"-223.3\" font-family=\"Times,serif\" font-size=\"14.00\">samples = 7</text>\n",
       "<text text-anchor=\"middle\" x=\"902\" y=\"-208.3\" font-family=\"Times,serif\" font-size=\"14.00\">value = [1, 6]</text>\n",
       "</g>\n",
       "<!-- 28&#45;&gt;30 -->\n",
       "<g id=\"edge30\" class=\"edge\">\n",
       "<title>28&#45;&gt;30</title>\n",
       "<path fill=\"none\" stroke=\"black\" d=\"M827.71,-296.88C840.29,-285.23 854.4,-272.14 866.92,-260.53\"/>\n",
       "<polygon fill=\"black\" stroke=\"black\" points=\"869.53,-262.89 874.48,-253.52 864.77,-257.75 869.53,-262.89\"/>\n",
       "</g>\n",
       "<!-- 32 -->\n",
       "<g id=\"node33\" class=\"node\">\n",
       "<title>32</title>\n",
       "<polygon fill=\"none\" stroke=\"black\" points=\"978.5,-469 865.5,-469 865.5,-401 978.5,-401 978.5,-469\"/>\n",
       "<text text-anchor=\"middle\" x=\"922\" y=\"-453.8\" font-family=\"Times,serif\" font-size=\"14.00\">title_Miss &lt;= 0.5</text>\n",
       "<text text-anchor=\"middle\" x=\"922\" y=\"-438.8\" font-family=\"Times,serif\" font-size=\"14.00\">gini = 0.153</text>\n",
       "<text text-anchor=\"middle\" x=\"922\" y=\"-423.8\" font-family=\"Times,serif\" font-size=\"14.00\">samples = 12</text>\n",
       "<text text-anchor=\"middle\" x=\"922\" y=\"-408.8\" font-family=\"Times,serif\" font-size=\"14.00\">value = [1, 11]</text>\n",
       "</g>\n",
       "<!-- 31&#45;&gt;32 -->\n",
       "<g id=\"edge32\" class=\"edge\">\n",
       "<title>31&#45;&gt;32</title>\n",
       "<path fill=\"none\" stroke=\"black\" d=\"M922,-504.88C922,-496.78 922,-487.98 922,-479.47\"/>\n",
       "<polygon fill=\"black\" stroke=\"black\" points=\"925.5,-479.3 922,-469.3 918.5,-479.3 925.5,-479.3\"/>\n",
       "</g>\n",
       "<!-- 37 -->\n",
       "<g id=\"node38\" class=\"node\">\n",
       "<title>37</title>\n",
       "<polygon fill=\"none\" stroke=\"black\" points=\"1089,-461.5 997,-461.5 997,-408.5 1089,-408.5 1089,-461.5\"/>\n",
       "<text text-anchor=\"middle\" x=\"1043\" y=\"-446.3\" font-family=\"Times,serif\" font-size=\"14.00\">gini = 0.0</text>\n",
       "<text text-anchor=\"middle\" x=\"1043\" y=\"-431.3\" font-family=\"Times,serif\" font-size=\"14.00\">samples = 1</text>\n",
       "<text text-anchor=\"middle\" x=\"1043\" y=\"-416.3\" font-family=\"Times,serif\" font-size=\"14.00\">value = [1, 0]</text>\n",
       "</g>\n",
       "<!-- 31&#45;&gt;37 -->\n",
       "<g id=\"edge37\" class=\"edge\">\n",
       "<title>31&#45;&gt;37</title>\n",
       "<path fill=\"none\" stroke=\"black\" d=\"M961.29,-504.88C975.24,-493.12 990.93,-479.89 1004.8,-468.2\"/>\n",
       "<polygon fill=\"black\" stroke=\"black\" points=\"1007.34,-470.64 1012.73,-461.52 1002.82,-465.29 1007.34,-470.64\"/>\n",
       "</g>\n",
       "<!-- 33 -->\n",
       "<g id=\"node34\" class=\"node\">\n",
       "<title>33</title>\n",
       "<polygon fill=\"none\" stroke=\"black\" points=\"968,-357.5 876,-357.5 876,-304.5 968,-304.5 968,-357.5\"/>\n",
       "<text text-anchor=\"middle\" x=\"922\" y=\"-342.3\" font-family=\"Times,serif\" font-size=\"14.00\">gini = 0.0</text>\n",
       "<text text-anchor=\"middle\" x=\"922\" y=\"-327.3\" font-family=\"Times,serif\" font-size=\"14.00\">samples = 7</text>\n",
       "<text text-anchor=\"middle\" x=\"922\" y=\"-312.3\" font-family=\"Times,serif\" font-size=\"14.00\">value = [0, 7]</text>\n",
       "</g>\n",
       "<!-- 32&#45;&gt;33 -->\n",
       "<g id=\"edge33\" class=\"edge\">\n",
       "<title>32&#45;&gt;33</title>\n",
       "<path fill=\"none\" stroke=\"black\" d=\"M922,-400.88C922,-390.33 922,-378.6 922,-367.85\"/>\n",
       "<polygon fill=\"black\" stroke=\"black\" points=\"925.5,-367.52 922,-357.52 918.5,-367.52 925.5,-367.52\"/>\n",
       "</g>\n",
       "<!-- 34 -->\n",
       "<g id=\"node35\" class=\"node\">\n",
       "<title>34</title>\n",
       "<polygon fill=\"none\" stroke=\"black\" points=\"1129.5,-365 986.5,-365 986.5,-297 1129.5,-297 1129.5,-365\"/>\n",
       "<text text-anchor=\"middle\" x=\"1058\" y=\"-349.8\" font-family=\"Times,serif\" font-size=\"14.00\">fare_cat_fare_2 &lt;= 0.5</text>\n",
       "<text text-anchor=\"middle\" x=\"1058\" y=\"-334.8\" font-family=\"Times,serif\" font-size=\"14.00\">gini = 0.32</text>\n",
       "<text text-anchor=\"middle\" x=\"1058\" y=\"-319.8\" font-family=\"Times,serif\" font-size=\"14.00\">samples = 5</text>\n",
       "<text text-anchor=\"middle\" x=\"1058\" y=\"-304.8\" font-family=\"Times,serif\" font-size=\"14.00\">value = [1, 4]</text>\n",
       "</g>\n",
       "<!-- 32&#45;&gt;34 -->\n",
       "<g id=\"edge34\" class=\"edge\">\n",
       "<title>32&#45;&gt;34</title>\n",
       "<path fill=\"none\" stroke=\"black\" d=\"M966.16,-400.88C978.63,-391.53 992.32,-381.26 1005.24,-371.57\"/>\n",
       "<polygon fill=\"black\" stroke=\"black\" points=\"1007.7,-374.1 1013.6,-365.3 1003.5,-368.5 1007.7,-374.1\"/>\n",
       "</g>\n",
       "<!-- 35 -->\n",
       "<g id=\"node36\" class=\"node\">\n",
       "<title>35</title>\n",
       "<polygon fill=\"none\" stroke=\"black\" points=\"1081,-253.5 989,-253.5 989,-200.5 1081,-200.5 1081,-253.5\"/>\n",
       "<text text-anchor=\"middle\" x=\"1035\" y=\"-238.3\" font-family=\"Times,serif\" font-size=\"14.00\">gini = 0.375</text>\n",
       "<text text-anchor=\"middle\" x=\"1035\" y=\"-223.3\" font-family=\"Times,serif\" font-size=\"14.00\">samples = 4</text>\n",
       "<text text-anchor=\"middle\" x=\"1035\" y=\"-208.3\" font-family=\"Times,serif\" font-size=\"14.00\">value = [1, 3]</text>\n",
       "</g>\n",
       "<!-- 34&#45;&gt;35 -->\n",
       "<g id=\"edge35\" class=\"edge\">\n",
       "<title>34&#45;&gt;35</title>\n",
       "<path fill=\"none\" stroke=\"black\" d=\"M1050.53,-296.88C1048.13,-286.22 1045.45,-274.35 1043.01,-263.52\"/>\n",
       "<polygon fill=\"black\" stroke=\"black\" points=\"1046.37,-262.51 1040.75,-253.52 1039.54,-264.04 1046.37,-262.51\"/>\n",
       "</g>\n",
       "<!-- 36 -->\n",
       "<g id=\"node37\" class=\"node\">\n",
       "<title>36</title>\n",
       "<polygon fill=\"none\" stroke=\"black\" points=\"1191,-253.5 1099,-253.5 1099,-200.5 1191,-200.5 1191,-253.5\"/>\n",
       "<text text-anchor=\"middle\" x=\"1145\" y=\"-238.3\" font-family=\"Times,serif\" font-size=\"14.00\">gini = 0.0</text>\n",
       "<text text-anchor=\"middle\" x=\"1145\" y=\"-223.3\" font-family=\"Times,serif\" font-size=\"14.00\">samples = 1</text>\n",
       "<text text-anchor=\"middle\" x=\"1145\" y=\"-208.3\" font-family=\"Times,serif\" font-size=\"14.00\">value = [0, 1]</text>\n",
       "</g>\n",
       "<!-- 34&#45;&gt;36 -->\n",
       "<g id=\"edge36\" class=\"edge\">\n",
       "<title>34&#45;&gt;36</title>\n",
       "<path fill=\"none\" stroke=\"black\" d=\"M1086.25,-296.88C1096,-285.45 1106.93,-272.63 1116.69,-261.19\"/>\n",
       "<polygon fill=\"black\" stroke=\"black\" points=\"1119.41,-263.4 1123.23,-253.52 1114.08,-258.86 1119.41,-263.4\"/>\n",
       "</g>\n",
       "<!-- 41 -->\n",
       "<g id=\"node42\" class=\"node\">\n",
       "<title>41</title>\n",
       "<polygon fill=\"none\" stroke=\"black\" points=\"1127,-781 993,-781 993,-713 1127,-713 1127,-781\"/>\n",
       "<text text-anchor=\"middle\" x=\"1060\" y=\"-765.8\" font-family=\"Times,serif\" font-size=\"14.00\">newc_male_1 &lt;= 0.5</text>\n",
       "<text text-anchor=\"middle\" x=\"1060\" y=\"-750.8\" font-family=\"Times,serif\" font-size=\"14.00\">gini = 0.473</text>\n",
       "<text text-anchor=\"middle\" x=\"1060\" y=\"-735.8\" font-family=\"Times,serif\" font-size=\"14.00\">samples = 13</text>\n",
       "<text text-anchor=\"middle\" x=\"1060\" y=\"-720.8\" font-family=\"Times,serif\" font-size=\"14.00\">value = [5, 8]</text>\n",
       "</g>\n",
       "<!-- 40&#45;&gt;41 -->\n",
       "<g id=\"edge41\" class=\"edge\">\n",
       "<title>40&#45;&gt;41</title>\n",
       "<path fill=\"none\" stroke=\"black\" d=\"M1143.74,-816.88C1132.48,-807.62 1120.12,-797.45 1108.44,-787.85\"/>\n",
       "<polygon fill=\"black\" stroke=\"black\" points=\"1110.43,-784.95 1100.48,-781.3 1105.98,-790.36 1110.43,-784.95\"/>\n",
       "</g>\n",
       "<!-- 46 -->\n",
       "<g id=\"node47\" class=\"node\">\n",
       "<title>46</title>\n",
       "<polygon fill=\"none\" stroke=\"black\" points=\"1237,-773.5 1145,-773.5 1145,-720.5 1237,-720.5 1237,-773.5\"/>\n",
       "<text text-anchor=\"middle\" x=\"1191\" y=\"-758.3\" font-family=\"Times,serif\" font-size=\"14.00\">gini = 0.0</text>\n",
       "<text text-anchor=\"middle\" x=\"1191\" y=\"-743.3\" font-family=\"Times,serif\" font-size=\"14.00\">samples = 6</text>\n",
       "<text text-anchor=\"middle\" x=\"1191\" y=\"-728.3\" font-family=\"Times,serif\" font-size=\"14.00\">value = [6, 0]</text>\n",
       "</g>\n",
       "<!-- 40&#45;&gt;46 -->\n",
       "<g id=\"edge46\" class=\"edge\">\n",
       "<title>40&#45;&gt;46</title>\n",
       "<path fill=\"none\" stroke=\"black\" d=\"M1186.27,-816.88C1187,-806.22 1187.82,-794.35 1188.56,-783.52\"/>\n",
       "<polygon fill=\"black\" stroke=\"black\" points=\"1192.06,-783.74 1189.25,-773.52 1185.07,-783.26 1192.06,-783.74\"/>\n",
       "</g>\n",
       "<!-- 42 -->\n",
       "<g id=\"node43\" class=\"node\">\n",
       "<title>42</title>\n",
       "<polygon fill=\"none\" stroke=\"black\" points=\"980,-669.5 888,-669.5 888,-616.5 980,-616.5 980,-669.5\"/>\n",
       "<text text-anchor=\"middle\" x=\"934\" y=\"-654.3\" font-family=\"Times,serif\" font-size=\"14.00\">gini = 0.0</text>\n",
       "<text text-anchor=\"middle\" x=\"934\" y=\"-639.3\" font-family=\"Times,serif\" font-size=\"14.00\">samples = 4</text>\n",
       "<text text-anchor=\"middle\" x=\"934\" y=\"-624.3\" font-family=\"Times,serif\" font-size=\"14.00\">value = [0, 4]</text>\n",
       "</g>\n",
       "<!-- 41&#45;&gt;42 -->\n",
       "<g id=\"edge42\" class=\"edge\">\n",
       "<title>41&#45;&gt;42</title>\n",
       "<path fill=\"none\" stroke=\"black\" d=\"M1019.09,-712.88C1004.42,-701.01 987.92,-687.65 973.38,-675.88\"/>\n",
       "<polygon fill=\"black\" stroke=\"black\" points=\"975.5,-673.09 965.52,-669.52 971.09,-678.53 975.5,-673.09\"/>\n",
       "</g>\n",
       "<!-- 43 -->\n",
       "<g id=\"node44\" class=\"node\">\n",
       "<title>43</title>\n",
       "<polygon fill=\"none\" stroke=\"black\" points=\"1129.5,-677 998.5,-677 998.5,-609 1129.5,-609 1129.5,-677\"/>\n",
       "<text text-anchor=\"middle\" x=\"1064\" y=\"-661.8\" font-family=\"Times,serif\" font-size=\"14.00\">age_cat_age4 &lt;= 0.5</text>\n",
       "<text text-anchor=\"middle\" x=\"1064\" y=\"-646.8\" font-family=\"Times,serif\" font-size=\"14.00\">gini = 0.494</text>\n",
       "<text text-anchor=\"middle\" x=\"1064\" y=\"-631.8\" font-family=\"Times,serif\" font-size=\"14.00\">samples = 9</text>\n",
       "<text text-anchor=\"middle\" x=\"1064\" y=\"-616.8\" font-family=\"Times,serif\" font-size=\"14.00\">value = [5, 4]</text>\n",
       "</g>\n",
       "<!-- 41&#45;&gt;43 -->\n",
       "<g id=\"edge43\" class=\"edge\">\n",
       "<title>41&#45;&gt;43</title>\n",
       "<path fill=\"none\" stroke=\"black\" d=\"M1061.3,-712.88C1061.62,-704.78 1061.96,-695.98 1062.3,-687.47\"/>\n",
       "<polygon fill=\"black\" stroke=\"black\" points=\"1065.8,-687.43 1062.69,-677.3 1058.8,-687.15 1065.8,-687.43\"/>\n",
       "</g>\n",
       "<!-- 44 -->\n",
       "<g id=\"node45\" class=\"node\">\n",
       "<title>44</title>\n",
       "<polygon fill=\"none\" stroke=\"black\" points=\"1108,-565.5 1016,-565.5 1016,-512.5 1108,-512.5 1108,-565.5\"/>\n",
       "<text text-anchor=\"middle\" x=\"1062\" y=\"-550.3\" font-family=\"Times,serif\" font-size=\"14.00\">gini = 0.375</text>\n",
       "<text text-anchor=\"middle\" x=\"1062\" y=\"-535.3\" font-family=\"Times,serif\" font-size=\"14.00\">samples = 4</text>\n",
       "<text text-anchor=\"middle\" x=\"1062\" y=\"-520.3\" font-family=\"Times,serif\" font-size=\"14.00\">value = [3, 1]</text>\n",
       "</g>\n",
       "<!-- 43&#45;&gt;44 -->\n",
       "<g id=\"edge44\" class=\"edge\">\n",
       "<title>43&#45;&gt;44</title>\n",
       "<path fill=\"none\" stroke=\"black\" d=\"M1063.35,-608.88C1063.14,-598.22 1062.91,-586.35 1062.7,-575.52\"/>\n",
       "<polygon fill=\"black\" stroke=\"black\" points=\"1066.2,-575.45 1062.5,-565.52 1059.2,-575.59 1066.2,-575.45\"/>\n",
       "</g>\n",
       "<!-- 45 -->\n",
       "<g id=\"node46\" class=\"node\">\n",
       "<title>45</title>\n",
       "<polygon fill=\"none\" stroke=\"black\" points=\"1218,-565.5 1126,-565.5 1126,-512.5 1218,-512.5 1218,-565.5\"/>\n",
       "<text text-anchor=\"middle\" x=\"1172\" y=\"-550.3\" font-family=\"Times,serif\" font-size=\"14.00\">gini = 0.48</text>\n",
       "<text text-anchor=\"middle\" x=\"1172\" y=\"-535.3\" font-family=\"Times,serif\" font-size=\"14.00\">samples = 5</text>\n",
       "<text text-anchor=\"middle\" x=\"1172\" y=\"-520.3\" font-family=\"Times,serif\" font-size=\"14.00\">value = [2, 3]</text>\n",
       "</g>\n",
       "<!-- 43&#45;&gt;45 -->\n",
       "<g id=\"edge45\" class=\"edge\">\n",
       "<title>43&#45;&gt;45</title>\n",
       "<path fill=\"none\" stroke=\"black\" d=\"M1099.06,-608.88C1111.41,-597.23 1125.26,-584.14 1137.55,-572.53\"/>\n",
       "<polygon fill=\"black\" stroke=\"black\" points=\"1140.11,-574.93 1144.98,-565.52 1135.31,-569.84 1140.11,-574.93\"/>\n",
       "</g>\n",
       "<!-- 48 -->\n",
       "<g id=\"node49\" class=\"node\">\n",
       "<title>48</title>\n",
       "<polygon fill=\"none\" stroke=\"black\" points=\"1468.5,-885 1337.5,-885 1337.5,-817 1468.5,-817 1468.5,-885\"/>\n",
       "<text text-anchor=\"middle\" x=\"1403\" y=\"-869.8\" font-family=\"Times,serif\" font-size=\"14.00\">age_cat_age1 &lt;= 0.5</text>\n",
       "<text text-anchor=\"middle\" x=\"1403\" y=\"-854.8\" font-family=\"Times,serif\" font-size=\"14.00\">gini = 0.5</text>\n",
       "<text text-anchor=\"middle\" x=\"1403\" y=\"-839.8\" font-family=\"Times,serif\" font-size=\"14.00\">samples = 76</text>\n",
       "<text text-anchor=\"middle\" x=\"1403\" y=\"-824.8\" font-family=\"Times,serif\" font-size=\"14.00\">value = [38, 38]</text>\n",
       "</g>\n",
       "<!-- 47&#45;&gt;48 -->\n",
       "<g id=\"edge48\" class=\"edge\">\n",
       "<title>47&#45;&gt;48</title>\n",
       "<path fill=\"none\" stroke=\"black\" d=\"M1446.9,-920.88C1441.39,-912.24 1435.38,-902.82 1429.63,-893.79\"/>\n",
       "<polygon fill=\"black\" stroke=\"black\" points=\"1432.55,-891.85 1424.22,-885.3 1426.64,-895.61 1432.55,-891.85\"/>\n",
       "</g>\n",
       "<!-- 63 -->\n",
       "<g id=\"node64\" class=\"node\">\n",
       "<title>63</title>\n",
       "<polygon fill=\"none\" stroke=\"black\" points=\"1579,-877.5 1487,-877.5 1487,-824.5 1579,-824.5 1579,-877.5\"/>\n",
       "<text text-anchor=\"middle\" x=\"1533\" y=\"-862.3\" font-family=\"Times,serif\" font-size=\"14.00\">gini = 0.0</text>\n",
       "<text text-anchor=\"middle\" x=\"1533\" y=\"-847.3\" font-family=\"Times,serif\" font-size=\"14.00\">samples = 7</text>\n",
       "<text text-anchor=\"middle\" x=\"1533\" y=\"-832.3\" font-family=\"Times,serif\" font-size=\"14.00\">value = [0, 7]</text>\n",
       "</g>\n",
       "<!-- 47&#45;&gt;63 -->\n",
       "<g id=\"edge63\" class=\"edge\">\n",
       "<title>47&#45;&gt;63</title>\n",
       "<path fill=\"none\" stroke=\"black\" d=\"M1489.1,-920.88C1496.18,-909.78 1504.09,-897.37 1511.22,-886.18\"/>\n",
       "<polygon fill=\"black\" stroke=\"black\" points=\"1514.31,-887.83 1516.74,-877.52 1508.41,-884.07 1514.31,-887.83\"/>\n",
       "</g>\n",
       "<!-- 49 -->\n",
       "<g id=\"node50\" class=\"node\">\n",
       "<title>49</title>\n",
       "<polygon fill=\"none\" stroke=\"black\" points=\"1398.5,-781 1255.5,-781 1255.5,-713 1398.5,-713 1398.5,-781\"/>\n",
       "<text text-anchor=\"middle\" x=\"1327\" y=\"-765.8\" font-family=\"Times,serif\" font-size=\"14.00\">fare_cat_fare_1 &lt;= 0.5</text>\n",
       "<text text-anchor=\"middle\" x=\"1327\" y=\"-750.8\" font-family=\"Times,serif\" font-size=\"14.00\">gini = 0.497</text>\n",
       "<text text-anchor=\"middle\" x=\"1327\" y=\"-735.8\" font-family=\"Times,serif\" font-size=\"14.00\">samples = 56</text>\n",
       "<text text-anchor=\"middle\" x=\"1327\" y=\"-720.8\" font-family=\"Times,serif\" font-size=\"14.00\">value = [26, 30]</text>\n",
       "</g>\n",
       "<!-- 48&#45;&gt;49 -->\n",
       "<g id=\"edge49\" class=\"edge\">\n",
       "<title>48&#45;&gt;49</title>\n",
       "<path fill=\"none\" stroke=\"black\" d=\"M1378.32,-816.88C1371.82,-808.15 1364.72,-798.62 1357.93,-789.51\"/>\n",
       "<polygon fill=\"black\" stroke=\"black\" points=\"1360.59,-787.23 1351.81,-781.3 1354.98,-791.41 1360.59,-787.23\"/>\n",
       "</g>\n",
       "<!-- 60 -->\n",
       "<g id=\"node61\" class=\"node\">\n",
       "<title>60</title>\n",
       "<polygon fill=\"none\" stroke=\"black\" points=\"1525,-781 1417,-781 1417,-713 1525,-713 1525,-781\"/>\n",
       "<text text-anchor=\"middle\" x=\"1471\" y=\"-765.8\" font-family=\"Times,serif\" font-size=\"14.00\">title_Mrs &lt;= 0.5</text>\n",
       "<text text-anchor=\"middle\" x=\"1471\" y=\"-750.8\" font-family=\"Times,serif\" font-size=\"14.00\">gini = 0.48</text>\n",
       "<text text-anchor=\"middle\" x=\"1471\" y=\"-735.8\" font-family=\"Times,serif\" font-size=\"14.00\">samples = 20</text>\n",
       "<text text-anchor=\"middle\" x=\"1471\" y=\"-720.8\" font-family=\"Times,serif\" font-size=\"14.00\">value = [12, 8]</text>\n",
       "</g>\n",
       "<!-- 48&#45;&gt;60 -->\n",
       "<g id=\"edge60\" class=\"edge\">\n",
       "<title>48&#45;&gt;60</title>\n",
       "<path fill=\"none\" stroke=\"black\" d=\"M1425.08,-816.88C1430.84,-808.24 1437.12,-798.82 1443.14,-789.79\"/>\n",
       "<polygon fill=\"black\" stroke=\"black\" points=\"1446.17,-791.56 1448.8,-781.3 1440.34,-787.68 1446.17,-791.56\"/>\n",
       "</g>\n",
       "<!-- 50 -->\n",
       "<g id=\"node51\" class=\"node\">\n",
       "<title>50</title>\n",
       "<polygon fill=\"none\" stroke=\"black\" points=\"1243,-669.5 1151,-669.5 1151,-616.5 1243,-616.5 1243,-669.5\"/>\n",
       "<text text-anchor=\"middle\" x=\"1197\" y=\"-654.3\" font-family=\"Times,serif\" font-size=\"14.00\">gini = 0.0</text>\n",
       "<text text-anchor=\"middle\" x=\"1197\" y=\"-639.3\" font-family=\"Times,serif\" font-size=\"14.00\">samples = 1</text>\n",
       "<text text-anchor=\"middle\" x=\"1197\" y=\"-624.3\" font-family=\"Times,serif\" font-size=\"14.00\">value = [1, 0]</text>\n",
       "</g>\n",
       "<!-- 49&#45;&gt;50 -->\n",
       "<g id=\"edge50\" class=\"edge\">\n",
       "<title>49&#45;&gt;50</title>\n",
       "<path fill=\"none\" stroke=\"black\" d=\"M1284.79,-712.88C1269.65,-701.01 1252.63,-687.65 1237.63,-675.88\"/>\n",
       "<polygon fill=\"black\" stroke=\"black\" points=\"1239.55,-672.94 1229.53,-669.52 1235.23,-678.45 1239.55,-672.94\"/>\n",
       "</g>\n",
       "<!-- 51 -->\n",
       "<g id=\"node52\" class=\"node\">\n",
       "<title>51</title>\n",
       "<polygon fill=\"none\" stroke=\"black\" points=\"1392.5,-677 1261.5,-677 1261.5,-609 1392.5,-609 1392.5,-677\"/>\n",
       "<text text-anchor=\"middle\" x=\"1327\" y=\"-661.8\" font-family=\"Times,serif\" font-size=\"14.00\">age_cat_age4 &lt;= 0.5</text>\n",
       "<text text-anchor=\"middle\" x=\"1327\" y=\"-646.8\" font-family=\"Times,serif\" font-size=\"14.00\">gini = 0.496</text>\n",
       "<text text-anchor=\"middle\" x=\"1327\" y=\"-631.8\" font-family=\"Times,serif\" font-size=\"14.00\">samples = 55</text>\n",
       "<text text-anchor=\"middle\" x=\"1327\" y=\"-616.8\" font-family=\"Times,serif\" font-size=\"14.00\">value = [25, 30]</text>\n",
       "</g>\n",
       "<!-- 49&#45;&gt;51 -->\n",
       "<g id=\"edge51\" class=\"edge\">\n",
       "<title>49&#45;&gt;51</title>\n",
       "<path fill=\"none\" stroke=\"black\" d=\"M1327,-712.88C1327,-704.78 1327,-695.98 1327,-687.47\"/>\n",
       "<polygon fill=\"black\" stroke=\"black\" points=\"1330.5,-687.3 1327,-677.3 1323.5,-687.3 1330.5,-687.3\"/>\n",
       "</g>\n",
       "<!-- 52 -->\n",
       "<g id=\"node53\" class=\"node\">\n",
       "<title>52</title>\n",
       "<polygon fill=\"none\" stroke=\"black\" points=\"1380.5,-573 1249.5,-573 1249.5,-505 1380.5,-505 1380.5,-573\"/>\n",
       "<text text-anchor=\"middle\" x=\"1315\" y=\"-557.8\" font-family=\"Times,serif\" font-size=\"14.00\">age_cat_age3 &lt;= 0.5</text>\n",
       "<text text-anchor=\"middle\" x=\"1315\" y=\"-542.8\" font-family=\"Times,serif\" font-size=\"14.00\">gini = 0.497</text>\n",
       "<text text-anchor=\"middle\" x=\"1315\" y=\"-527.8\" font-family=\"Times,serif\" font-size=\"14.00\">samples = 54</text>\n",
       "<text text-anchor=\"middle\" x=\"1315\" y=\"-512.8\" font-family=\"Times,serif\" font-size=\"14.00\">value = [25, 29]</text>\n",
       "</g>\n",
       "<!-- 51&#45;&gt;52 -->\n",
       "<g id=\"edge52\" class=\"edge\">\n",
       "<title>51&#45;&gt;52</title>\n",
       "<path fill=\"none\" stroke=\"black\" d=\"M1323.1,-608.88C1322.15,-600.78 1321.12,-591.98 1320.11,-583.47\"/>\n",
       "<polygon fill=\"black\" stroke=\"black\" points=\"1323.56,-582.82 1318.92,-573.3 1316.61,-583.64 1323.56,-582.82\"/>\n",
       "</g>\n",
       "<!-- 59 -->\n",
       "<g id=\"node60\" class=\"node\">\n",
       "<title>59</title>\n",
       "<polygon fill=\"none\" stroke=\"black\" points=\"1491,-565.5 1399,-565.5 1399,-512.5 1491,-512.5 1491,-565.5\"/>\n",
       "<text text-anchor=\"middle\" x=\"1445\" y=\"-550.3\" font-family=\"Times,serif\" font-size=\"14.00\">gini = 0.0</text>\n",
       "<text text-anchor=\"middle\" x=\"1445\" y=\"-535.3\" font-family=\"Times,serif\" font-size=\"14.00\">samples = 1</text>\n",
       "<text text-anchor=\"middle\" x=\"1445\" y=\"-520.3\" font-family=\"Times,serif\" font-size=\"14.00\">value = [0, 1]</text>\n",
       "</g>\n",
       "<!-- 51&#45;&gt;59 -->\n",
       "<g id=\"edge59\" class=\"edge\">\n",
       "<title>51&#45;&gt;59</title>\n",
       "<path fill=\"none\" stroke=\"black\" d=\"M1365.31,-608.88C1378.92,-597.12 1394.22,-583.89 1407.75,-572.2\"/>\n",
       "<polygon fill=\"black\" stroke=\"black\" points=\"1410.2,-574.71 1415.48,-565.52 1405.62,-569.41 1410.2,-574.71\"/>\n",
       "</g>\n",
       "<!-- 53 -->\n",
       "<g id=\"node54\" class=\"node\">\n",
       "<title>53</title>\n",
       "<polygon fill=\"none\" stroke=\"black\" points=\"1357.5,-469 1244.5,-469 1244.5,-401 1357.5,-401 1357.5,-469\"/>\n",
       "<text text-anchor=\"middle\" x=\"1301\" y=\"-453.8\" font-family=\"Times,serif\" font-size=\"14.00\">title_Miss &lt;= 0.5</text>\n",
       "<text text-anchor=\"middle\" x=\"1301\" y=\"-438.8\" font-family=\"Times,serif\" font-size=\"14.00\">gini = 0.495</text>\n",
       "<text text-anchor=\"middle\" x=\"1301\" y=\"-423.8\" font-family=\"Times,serif\" font-size=\"14.00\">samples = 40</text>\n",
       "<text text-anchor=\"middle\" x=\"1301\" y=\"-408.8\" font-family=\"Times,serif\" font-size=\"14.00\">value = [18, 22]</text>\n",
       "</g>\n",
       "<!-- 52&#45;&gt;53 -->\n",
       "<g id=\"edge53\" class=\"edge\">\n",
       "<title>52&#45;&gt;53</title>\n",
       "<path fill=\"none\" stroke=\"black\" d=\"M1310.45,-504.88C1309.34,-496.78 1308.13,-487.98 1306.97,-479.47\"/>\n",
       "<polygon fill=\"black\" stroke=\"black\" points=\"1310.4,-478.73 1305.57,-469.3 1303.46,-479.68 1310.4,-478.73\"/>\n",
       "</g>\n",
       "<!-- 56 -->\n",
       "<g id=\"node57\" class=\"node\">\n",
       "<title>56</title>\n",
       "<polygon fill=\"none\" stroke=\"black\" points=\"1484,-469 1376,-469 1376,-401 1484,-401 1484,-469\"/>\n",
       "<text text-anchor=\"middle\" x=\"1430\" y=\"-453.8\" font-family=\"Times,serif\" font-size=\"14.00\">title_Mrs &lt;= 0.5</text>\n",
       "<text text-anchor=\"middle\" x=\"1430\" y=\"-438.8\" font-family=\"Times,serif\" font-size=\"14.00\">gini = 0.5</text>\n",
       "<text text-anchor=\"middle\" x=\"1430\" y=\"-423.8\" font-family=\"Times,serif\" font-size=\"14.00\">samples = 14</text>\n",
       "<text text-anchor=\"middle\" x=\"1430\" y=\"-408.8\" font-family=\"Times,serif\" font-size=\"14.00\">value = [7, 7]</text>\n",
       "</g>\n",
       "<!-- 52&#45;&gt;56 -->\n",
       "<g id=\"edge56\" class=\"edge\">\n",
       "<title>52&#45;&gt;56</title>\n",
       "<path fill=\"none\" stroke=\"black\" d=\"M1352.34,-504.88C1362.68,-495.71 1374.02,-485.65 1384.76,-476.12\"/>\n",
       "<polygon fill=\"black\" stroke=\"black\" points=\"1387.3,-478.55 1392.46,-469.3 1382.65,-473.32 1387.3,-478.55\"/>\n",
       "</g>\n",
       "<!-- 54 -->\n",
       "<g id=\"node55\" class=\"node\">\n",
       "<title>54</title>\n",
       "<polygon fill=\"none\" stroke=\"black\" points=\"1241,-357.5 1149,-357.5 1149,-304.5 1241,-304.5 1241,-357.5\"/>\n",
       "<text text-anchor=\"middle\" x=\"1195\" y=\"-342.3\" font-family=\"Times,serif\" font-size=\"14.00\">gini = 0.444</text>\n",
       "<text text-anchor=\"middle\" x=\"1195\" y=\"-327.3\" font-family=\"Times,serif\" font-size=\"14.00\">samples = 3</text>\n",
       "<text text-anchor=\"middle\" x=\"1195\" y=\"-312.3\" font-family=\"Times,serif\" font-size=\"14.00\">value = [2, 1]</text>\n",
       "</g>\n",
       "<!-- 53&#45;&gt;54 -->\n",
       "<g id=\"edge54\" class=\"edge\">\n",
       "<title>53&#45;&gt;54</title>\n",
       "<path fill=\"none\" stroke=\"black\" d=\"M1266.58,-400.88C1254.47,-389.23 1240.87,-376.14 1228.81,-364.53\"/>\n",
       "<polygon fill=\"black\" stroke=\"black\" points=\"1231.15,-361.93 1221.52,-357.52 1226.3,-366.98 1231.15,-361.93\"/>\n",
       "</g>\n",
       "<!-- 55 -->\n",
       "<g id=\"node56\" class=\"node\">\n",
       "<title>55</title>\n",
       "<polygon fill=\"none\" stroke=\"black\" points=\"1364.5,-357.5 1259.5,-357.5 1259.5,-304.5 1364.5,-304.5 1364.5,-357.5\"/>\n",
       "<text text-anchor=\"middle\" x=\"1312\" y=\"-342.3\" font-family=\"Times,serif\" font-size=\"14.00\">gini = 0.491</text>\n",
       "<text text-anchor=\"middle\" x=\"1312\" y=\"-327.3\" font-family=\"Times,serif\" font-size=\"14.00\">samples = 37</text>\n",
       "<text text-anchor=\"middle\" x=\"1312\" y=\"-312.3\" font-family=\"Times,serif\" font-size=\"14.00\">value = [16, 21]</text>\n",
       "</g>\n",
       "<!-- 53&#45;&gt;55 -->\n",
       "<g id=\"edge55\" class=\"edge\">\n",
       "<title>53&#45;&gt;55</title>\n",
       "<path fill=\"none\" stroke=\"black\" d=\"M1304.57,-400.88C1305.72,-390.22 1307,-378.35 1308.17,-367.52\"/>\n",
       "<polygon fill=\"black\" stroke=\"black\" points=\"1311.66,-367.84 1309.25,-357.52 1304.7,-367.09 1311.66,-367.84\"/>\n",
       "</g>\n",
       "<!-- 57 -->\n",
       "<g id=\"node58\" class=\"node\">\n",
       "<title>57</title>\n",
       "<polygon fill=\"none\" stroke=\"black\" points=\"1476,-357.5 1384,-357.5 1384,-304.5 1476,-304.5 1476,-357.5\"/>\n",
       "<text text-anchor=\"middle\" x=\"1430\" y=\"-342.3\" font-family=\"Times,serif\" font-size=\"14.00\">gini = 0.0</text>\n",
       "<text text-anchor=\"middle\" x=\"1430\" y=\"-327.3\" font-family=\"Times,serif\" font-size=\"14.00\">samples = 3</text>\n",
       "<text text-anchor=\"middle\" x=\"1430\" y=\"-312.3\" font-family=\"Times,serif\" font-size=\"14.00\">value = [3, 0]</text>\n",
       "</g>\n",
       "<!-- 56&#45;&gt;57 -->\n",
       "<g id=\"edge57\" class=\"edge\">\n",
       "<title>56&#45;&gt;57</title>\n",
       "<path fill=\"none\" stroke=\"black\" d=\"M1430,-400.88C1430,-390.33 1430,-378.6 1430,-367.85\"/>\n",
       "<polygon fill=\"black\" stroke=\"black\" points=\"1433.5,-367.52 1430,-357.52 1426.5,-367.52 1433.5,-367.52\"/>\n",
       "</g>\n",
       "<!-- 58 -->\n",
       "<g id=\"node59\" class=\"node\">\n",
       "<title>58</title>\n",
       "<polygon fill=\"none\" stroke=\"black\" points=\"1586,-357.5 1494,-357.5 1494,-304.5 1586,-304.5 1586,-357.5\"/>\n",
       "<text text-anchor=\"middle\" x=\"1540\" y=\"-342.3\" font-family=\"Times,serif\" font-size=\"14.00\">gini = 0.463</text>\n",
       "<text text-anchor=\"middle\" x=\"1540\" y=\"-327.3\" font-family=\"Times,serif\" font-size=\"14.00\">samples = 11</text>\n",
       "<text text-anchor=\"middle\" x=\"1540\" y=\"-312.3\" font-family=\"Times,serif\" font-size=\"14.00\">value = [4, 7]</text>\n",
       "</g>\n",
       "<!-- 56&#45;&gt;58 -->\n",
       "<g id=\"edge58\" class=\"edge\">\n",
       "<title>56&#45;&gt;58</title>\n",
       "<path fill=\"none\" stroke=\"black\" d=\"M1465.71,-400.88C1478.29,-389.23 1492.4,-376.14 1504.92,-364.53\"/>\n",
       "<polygon fill=\"black\" stroke=\"black\" points=\"1507.53,-366.89 1512.48,-357.52 1502.77,-361.75 1507.53,-366.89\"/>\n",
       "</g>\n",
       "<!-- 61 -->\n",
       "<g id=\"node62\" class=\"node\">\n",
       "<title>61</title>\n",
       "<polygon fill=\"none\" stroke=\"black\" points=\"1509,-669.5 1411,-669.5 1411,-616.5 1509,-616.5 1509,-669.5\"/>\n",
       "<text text-anchor=\"middle\" x=\"1460\" y=\"-654.3\" font-family=\"Times,serif\" font-size=\"14.00\">gini = 0.488</text>\n",
       "<text text-anchor=\"middle\" x=\"1460\" y=\"-639.3\" font-family=\"Times,serif\" font-size=\"14.00\">samples = 19</text>\n",
       "<text text-anchor=\"middle\" x=\"1460\" y=\"-624.3\" font-family=\"Times,serif\" font-size=\"14.00\">value = [11, 8]</text>\n",
       "</g>\n",
       "<!-- 60&#45;&gt;61 -->\n",
       "<g id=\"edge61\" class=\"edge\">\n",
       "<title>60&#45;&gt;61</title>\n",
       "<path fill=\"none\" stroke=\"black\" d=\"M1467.43,-712.88C1466.28,-702.22 1465,-690.35 1463.83,-679.52\"/>\n",
       "<polygon fill=\"black\" stroke=\"black\" points=\"1467.3,-679.09 1462.75,-669.52 1460.34,-679.84 1467.3,-679.09\"/>\n",
       "</g>\n",
       "<!-- 62 -->\n",
       "<g id=\"node63\" class=\"node\">\n",
       "<title>62</title>\n",
       "<polygon fill=\"none\" stroke=\"black\" points=\"1619,-669.5 1527,-669.5 1527,-616.5 1619,-616.5 1619,-669.5\"/>\n",
       "<text text-anchor=\"middle\" x=\"1573\" y=\"-654.3\" font-family=\"Times,serif\" font-size=\"14.00\">gini = 0.0</text>\n",
       "<text text-anchor=\"middle\" x=\"1573\" y=\"-639.3\" font-family=\"Times,serif\" font-size=\"14.00\">samples = 1</text>\n",
       "<text text-anchor=\"middle\" x=\"1573\" y=\"-624.3\" font-family=\"Times,serif\" font-size=\"14.00\">value = [1, 0]</text>\n",
       "</g>\n",
       "<!-- 60&#45;&gt;62 -->\n",
       "<g id=\"edge62\" class=\"edge\">\n",
       "<title>60&#45;&gt;62</title>\n",
       "<path fill=\"none\" stroke=\"black\" d=\"M1504.12,-712.88C1515.66,-701.34 1528.61,-688.39 1540.14,-676.86\"/>\n",
       "<polygon fill=\"black\" stroke=\"black\" points=\"1542.88,-679.07 1547.48,-669.52 1537.93,-674.12 1542.88,-679.07\"/>\n",
       "</g>\n",
       "<!-- 65 -->\n",
       "<g id=\"node66\" class=\"node\">\n",
       "<title>65</title>\n",
       "<polygon fill=\"none\" stroke=\"black\" points=\"2060.5,-1093 1917.5,-1093 1917.5,-1025 2060.5,-1025 2060.5,-1093\"/>\n",
       "<text text-anchor=\"middle\" x=\"1989\" y=\"-1077.8\" font-family=\"Times,serif\" font-size=\"14.00\">fare_cat_fare_3 &lt;= 0.5</text>\n",
       "<text text-anchor=\"middle\" x=\"1989\" y=\"-1062.8\" font-family=\"Times,serif\" font-size=\"14.00\">gini = 0.238</text>\n",
       "<text text-anchor=\"middle\" x=\"1989\" y=\"-1047.8\" font-family=\"Times,serif\" font-size=\"14.00\">samples = 347</text>\n",
       "<text text-anchor=\"middle\" x=\"1989\" y=\"-1032.8\" font-family=\"Times,serif\" font-size=\"14.00\">value = [299, 48]</text>\n",
       "</g>\n",
       "<!-- 64&#45;&gt;65 -->\n",
       "<g id=\"edge65\" class=\"edge\">\n",
       "<title>64&#45;&gt;65</title>\n",
       "<path fill=\"none\" stroke=\"black\" d=\"M1989,-1128.88C1989,-1120.78 1989,-1111.98 1989,-1103.47\"/>\n",
       "<polygon fill=\"black\" stroke=\"black\" points=\"1992.5,-1103.3 1989,-1093.3 1985.5,-1103.3 1992.5,-1103.3\"/>\n",
       "</g>\n",
       "<!-- 104 -->\n",
       "<g id=\"node105\" class=\"node\">\n",
       "<title>104</title>\n",
       "<polygon fill=\"none\" stroke=\"black\" points=\"2177,-1085.5 2079,-1085.5 2079,-1032.5 2177,-1032.5 2177,-1085.5\"/>\n",
       "<text text-anchor=\"middle\" x=\"2128\" y=\"-1070.3\" font-family=\"Times,serif\" font-size=\"14.00\">gini = 0.0</text>\n",
       "<text text-anchor=\"middle\" x=\"2128\" y=\"-1055.3\" font-family=\"Times,serif\" font-size=\"14.00\">samples = 13</text>\n",
       "<text text-anchor=\"middle\" x=\"2128\" y=\"-1040.3\" font-family=\"Times,serif\" font-size=\"14.00\">value = [0, 13]</text>\n",
       "</g>\n",
       "<!-- 64&#45;&gt;104 -->\n",
       "<g id=\"edge104\" class=\"edge\">\n",
       "<title>64&#45;&gt;104</title>\n",
       "<path fill=\"none\" stroke=\"black\" d=\"M2034.13,-1128.88C2050.47,-1116.9 2068.86,-1103.4 2085.01,-1091.55\"/>\n",
       "<polygon fill=\"black\" stroke=\"black\" points=\"2087.23,-1094.26 2093.22,-1085.52 2083.09,-1088.61 2087.23,-1094.26\"/>\n",
       "</g>\n",
       "<!-- 66 -->\n",
       "<g id=\"node67\" class=\"node\">\n",
       "<title>66</title>\n",
       "<polygon fill=\"none\" stroke=\"black\" points=\"2054.5,-989 1923.5,-989 1923.5,-921 2054.5,-921 2054.5,-989\"/>\n",
       "<text text-anchor=\"middle\" x=\"1989\" y=\"-973.8\" font-family=\"Times,serif\" font-size=\"14.00\">age_cat_age2 &lt;= 0.5</text>\n",
       "<text text-anchor=\"middle\" x=\"1989\" y=\"-958.8\" font-family=\"Times,serif\" font-size=\"14.00\">gini = 0.174</text>\n",
       "<text text-anchor=\"middle\" x=\"1989\" y=\"-943.8\" font-family=\"Times,serif\" font-size=\"14.00\">samples = 280</text>\n",
       "<text text-anchor=\"middle\" x=\"1989\" y=\"-928.8\" font-family=\"Times,serif\" font-size=\"14.00\">value = [253, 27]</text>\n",
       "</g>\n",
       "<!-- 65&#45;&gt;66 -->\n",
       "<g id=\"edge66\" class=\"edge\">\n",
       "<title>65&#45;&gt;66</title>\n",
       "<path fill=\"none\" stroke=\"black\" d=\"M1989,-1024.88C1989,-1016.78 1989,-1007.98 1989,-999.47\"/>\n",
       "<polygon fill=\"black\" stroke=\"black\" points=\"1992.5,-999.3 1989,-989.3 1985.5,-999.3 1992.5,-999.3\"/>\n",
       "</g>\n",
       "<!-- 93 -->\n",
       "<g id=\"node94\" class=\"node\">\n",
       "<title>93</title>\n",
       "<polygon fill=\"none\" stroke=\"black\" points=\"2473.5,-989 2342.5,-989 2342.5,-921 2473.5,-921 2473.5,-989\"/>\n",
       "<text text-anchor=\"middle\" x=\"2408\" y=\"-973.8\" font-family=\"Times,serif\" font-size=\"14.00\">age_cat_age3 &lt;= 0.5</text>\n",
       "<text text-anchor=\"middle\" x=\"2408\" y=\"-958.8\" font-family=\"Times,serif\" font-size=\"14.00\">gini = 0.43</text>\n",
       "<text text-anchor=\"middle\" x=\"2408\" y=\"-943.8\" font-family=\"Times,serif\" font-size=\"14.00\">samples = 67</text>\n",
       "<text text-anchor=\"middle\" x=\"2408\" y=\"-928.8\" font-family=\"Times,serif\" font-size=\"14.00\">value = [46, 21]</text>\n",
       "</g>\n",
       "<!-- 65&#45;&gt;93 -->\n",
       "<g id=\"edge93\" class=\"edge\">\n",
       "<title>65&#45;&gt;93</title>\n",
       "<path fill=\"none\" stroke=\"black\" d=\"M2060.74,-1027.97C2063.85,-1026.92 2066.95,-1025.92 2070,-1025 2158.5,-998.19 2263.21,-978.62 2332.37,-967.31\"/>\n",
       "<polygon fill=\"black\" stroke=\"black\" points=\"2333,-970.75 2342.31,-965.7 2331.88,-963.84 2333,-970.75\"/>\n",
       "</g>\n",
       "<!-- 67 -->\n",
       "<g id=\"node68\" class=\"node\">\n",
       "<title>67</title>\n",
       "<polygon fill=\"none\" stroke=\"black\" points=\"1976.5,-885 1845.5,-885 1845.5,-817 1976.5,-817 1976.5,-885\"/>\n",
       "<text text-anchor=\"middle\" x=\"1911\" y=\"-869.8\" font-family=\"Times,serif\" font-size=\"14.00\">age_cat_age4 &lt;= 0.5</text>\n",
       "<text text-anchor=\"middle\" x=\"1911\" y=\"-854.8\" font-family=\"Times,serif\" font-size=\"14.00\">gini = 0.135</text>\n",
       "<text text-anchor=\"middle\" x=\"1911\" y=\"-839.8\" font-family=\"Times,serif\" font-size=\"14.00\">samples = 178</text>\n",
       "<text text-anchor=\"middle\" x=\"1911\" y=\"-824.8\" font-family=\"Times,serif\" font-size=\"14.00\">value = [165, 13]</text>\n",
       "</g>\n",
       "<!-- 66&#45;&gt;67 -->\n",
       "<g id=\"edge67\" class=\"edge\">\n",
       "<title>66&#45;&gt;67</title>\n",
       "<path fill=\"none\" stroke=\"black\" d=\"M1963.68,-920.88C1957,-912.15 1949.71,-902.62 1942.75,-893.51\"/>\n",
       "<polygon fill=\"black\" stroke=\"black\" points=\"1945.32,-891.12 1936.46,-885.3 1939.76,-895.37 1945.32,-891.12\"/>\n",
       "</g>\n",
       "<!-- 82 -->\n",
       "<g id=\"node83\" class=\"node\">\n",
       "<title>82</title>\n",
       "<polygon fill=\"none\" stroke=\"black\" points=\"2137.5,-885 1994.5,-885 1994.5,-817 2137.5,-817 2137.5,-885\"/>\n",
       "<text text-anchor=\"middle\" x=\"2066\" y=\"-869.8\" font-family=\"Times,serif\" font-size=\"14.00\">fare_cat_fare_1 &lt;= 0.5</text>\n",
       "<text text-anchor=\"middle\" x=\"2066\" y=\"-854.8\" font-family=\"Times,serif\" font-size=\"14.00\">gini = 0.237</text>\n",
       "<text text-anchor=\"middle\" x=\"2066\" y=\"-839.8\" font-family=\"Times,serif\" font-size=\"14.00\">samples = 102</text>\n",
       "<text text-anchor=\"middle\" x=\"2066\" y=\"-824.8\" font-family=\"Times,serif\" font-size=\"14.00\">value = [88, 14]</text>\n",
       "</g>\n",
       "<!-- 66&#45;&gt;82 -->\n",
       "<g id=\"edge82\" class=\"edge\">\n",
       "<title>66&#45;&gt;82</title>\n",
       "<path fill=\"none\" stroke=\"black\" d=\"M2014,-920.88C2020.59,-912.15 2027.78,-902.62 2034.66,-893.51\"/>\n",
       "<polygon fill=\"black\" stroke=\"black\" points=\"2037.63,-895.39 2040.86,-885.3 2032.04,-891.17 2037.63,-895.39\"/>\n",
       "</g>\n",
       "<!-- 68 -->\n",
       "<g id=\"node69\" class=\"node\">\n",
       "<title>68</title>\n",
       "<polygon fill=\"none\" stroke=\"black\" points=\"1847.5,-781 1704.5,-781 1704.5,-713 1847.5,-713 1847.5,-781\"/>\n",
       "<text text-anchor=\"middle\" x=\"1776\" y=\"-765.8\" font-family=\"Times,serif\" font-size=\"14.00\">per_surv_train &lt;= 0.25</text>\n",
       "<text text-anchor=\"middle\" x=\"1776\" y=\"-750.8\" font-family=\"Times,serif\" font-size=\"14.00\">gini = 0.15</text>\n",
       "<text text-anchor=\"middle\" x=\"1776\" y=\"-735.8\" font-family=\"Times,serif\" font-size=\"14.00\">samples = 159</text>\n",
       "<text text-anchor=\"middle\" x=\"1776\" y=\"-720.8\" font-family=\"Times,serif\" font-size=\"14.00\">value = [146, 13]</text>\n",
       "</g>\n",
       "<!-- 67&#45;&gt;68 -->\n",
       "<g id=\"edge68\" class=\"edge\">\n",
       "<title>67&#45;&gt;68</title>\n",
       "<path fill=\"none\" stroke=\"black\" d=\"M1867.17,-816.88C1854.79,-807.53 1841.2,-797.26 1828.37,-787.57\"/>\n",
       "<polygon fill=\"black\" stroke=\"black\" points=\"1830.16,-784.54 1820.07,-781.3 1825.94,-790.12 1830.16,-784.54\"/>\n",
       "</g>\n",
       "<!-- 81 -->\n",
       "<g id=\"node82\" class=\"node\">\n",
       "<title>81</title>\n",
       "<polygon fill=\"none\" stroke=\"black\" points=\"1964,-773.5 1866,-773.5 1866,-720.5 1964,-720.5 1964,-773.5\"/>\n",
       "<text text-anchor=\"middle\" x=\"1915\" y=\"-758.3\" font-family=\"Times,serif\" font-size=\"14.00\">gini = 0.0</text>\n",
       "<text text-anchor=\"middle\" x=\"1915\" y=\"-743.3\" font-family=\"Times,serif\" font-size=\"14.00\">samples = 19</text>\n",
       "<text text-anchor=\"middle\" x=\"1915\" y=\"-728.3\" font-family=\"Times,serif\" font-size=\"14.00\">value = [19, 0]</text>\n",
       "</g>\n",
       "<!-- 67&#45;&gt;81 -->\n",
       "<g id=\"edge81\" class=\"edge\">\n",
       "<title>67&#45;&gt;81</title>\n",
       "<path fill=\"none\" stroke=\"black\" d=\"M1912.3,-816.88C1912.72,-806.22 1913.18,-794.35 1913.61,-783.52\"/>\n",
       "<polygon fill=\"black\" stroke=\"black\" points=\"1917.1,-783.65 1914,-773.52 1910.11,-783.38 1917.1,-783.65\"/>\n",
       "</g>\n",
       "<!-- 69 -->\n",
       "<g id=\"node70\" class=\"node\">\n",
       "<title>69</title>\n",
       "<polygon fill=\"none\" stroke=\"black\" points=\"1735,-669.5 1637,-669.5 1637,-616.5 1735,-616.5 1735,-669.5\"/>\n",
       "<text text-anchor=\"middle\" x=\"1686\" y=\"-654.3\" font-family=\"Times,serif\" font-size=\"14.00\">gini = 0.0</text>\n",
       "<text text-anchor=\"middle\" x=\"1686\" y=\"-639.3\" font-family=\"Times,serif\" font-size=\"14.00\">samples = 16</text>\n",
       "<text text-anchor=\"middle\" x=\"1686\" y=\"-624.3\" font-family=\"Times,serif\" font-size=\"14.00\">value = [16, 0]</text>\n",
       "</g>\n",
       "<!-- 68&#45;&gt;69 -->\n",
       "<g id=\"edge69\" class=\"edge\">\n",
       "<title>68&#45;&gt;69</title>\n",
       "<path fill=\"none\" stroke=\"black\" d=\"M1746.78,-712.88C1736.69,-701.45 1725.38,-688.63 1715.29,-677.19\"/>\n",
       "<polygon fill=\"black\" stroke=\"black\" points=\"1717.76,-674.7 1708.52,-669.52 1712.51,-679.33 1717.76,-674.7\"/>\n",
       "</g>\n",
       "<!-- 70 -->\n",
       "<g id=\"node71\" class=\"node\">\n",
       "<title>70</title>\n",
       "<polygon fill=\"none\" stroke=\"black\" points=\"1896.5,-677 1753.5,-677 1753.5,-609 1896.5,-609 1896.5,-677\"/>\n",
       "<text text-anchor=\"middle\" x=\"1825\" y=\"-661.8\" font-family=\"Times,serif\" font-size=\"14.00\">fare_cat_fare_1 &lt;= 0.5</text>\n",
       "<text text-anchor=\"middle\" x=\"1825\" y=\"-646.8\" font-family=\"Times,serif\" font-size=\"14.00\">gini = 0.165</text>\n",
       "<text text-anchor=\"middle\" x=\"1825\" y=\"-631.8\" font-family=\"Times,serif\" font-size=\"14.00\">samples = 143</text>\n",
       "<text text-anchor=\"middle\" x=\"1825\" y=\"-616.8\" font-family=\"Times,serif\" font-size=\"14.00\">value = [130, 13]</text>\n",
       "</g>\n",
       "<!-- 68&#45;&gt;70 -->\n",
       "<g id=\"edge70\" class=\"edge\">\n",
       "<title>68&#45;&gt;70</title>\n",
       "<path fill=\"none\" stroke=\"black\" d=\"M1791.91,-712.88C1795.97,-704.42 1800.4,-695.21 1804.65,-686.35\"/>\n",
       "<polygon fill=\"black\" stroke=\"black\" points=\"1807.83,-687.83 1809,-677.3 1801.52,-684.8 1807.83,-687.83\"/>\n",
       "</g>\n",
       "<!-- 71 -->\n",
       "<g id=\"node72\" class=\"node\">\n",
       "<title>71</title>\n",
       "<polygon fill=\"none\" stroke=\"black\" points=\"1744.5,-573 1613.5,-573 1613.5,-505 1744.5,-505 1744.5,-573\"/>\n",
       "<text text-anchor=\"middle\" x=\"1679\" y=\"-557.8\" font-family=\"Times,serif\" font-size=\"14.00\">age_cat_age3 &lt;= 0.5</text>\n",
       "<text text-anchor=\"middle\" x=\"1679\" y=\"-542.8\" font-family=\"Times,serif\" font-size=\"14.00\">gini = 0.236</text>\n",
       "<text text-anchor=\"middle\" x=\"1679\" y=\"-527.8\" font-family=\"Times,serif\" font-size=\"14.00\">samples = 22</text>\n",
       "<text text-anchor=\"middle\" x=\"1679\" y=\"-512.8\" font-family=\"Times,serif\" font-size=\"14.00\">value = [19, 3]</text>\n",
       "</g>\n",
       "<!-- 70&#45;&gt;71 -->\n",
       "<g id=\"edge71\" class=\"edge\">\n",
       "<title>70&#45;&gt;71</title>\n",
       "<path fill=\"none\" stroke=\"black\" d=\"M1777.6,-608.88C1764.08,-599.44 1749.23,-589.06 1735.24,-579.29\"/>\n",
       "<polygon fill=\"black\" stroke=\"black\" points=\"1736.87,-576.16 1726.66,-573.3 1732.86,-581.9 1736.87,-576.16\"/>\n",
       "</g>\n",
       "<!-- 76 -->\n",
       "<g id=\"node77\" class=\"node\">\n",
       "<title>76</title>\n",
       "<polygon fill=\"none\" stroke=\"black\" points=\"1897,-573 1763,-573 1763,-505 1897,-505 1897,-573\"/>\n",
       "<text text-anchor=\"middle\" x=\"1830\" y=\"-557.8\" font-family=\"Times,serif\" font-size=\"14.00\">newc_male_3 &lt;= 0.5</text>\n",
       "<text text-anchor=\"middle\" x=\"1830\" y=\"-542.8\" font-family=\"Times,serif\" font-size=\"14.00\">gini = 0.152</text>\n",
       "<text text-anchor=\"middle\" x=\"1830\" y=\"-527.8\" font-family=\"Times,serif\" font-size=\"14.00\">samples = 121</text>\n",
       "<text text-anchor=\"middle\" x=\"1830\" y=\"-512.8\" font-family=\"Times,serif\" font-size=\"14.00\">value = [111, 10]</text>\n",
       "</g>\n",
       "<!-- 70&#45;&gt;76 -->\n",
       "<g id=\"edge76\" class=\"edge\">\n",
       "<title>70&#45;&gt;76</title>\n",
       "<path fill=\"none\" stroke=\"black\" d=\"M1826.62,-608.88C1827.02,-600.78 1827.45,-591.98 1827.87,-583.47\"/>\n",
       "<polygon fill=\"black\" stroke=\"black\" points=\"1831.37,-583.46 1828.37,-573.3 1824.38,-583.12 1831.37,-583.46\"/>\n",
       "</g>\n",
       "<!-- 72 -->\n",
       "<g id=\"node73\" class=\"node\">\n",
       "<title>72</title>\n",
       "<polygon fill=\"none\" stroke=\"black\" points=\"1598,-461.5 1506,-461.5 1506,-408.5 1598,-408.5 1598,-461.5\"/>\n",
       "<text text-anchor=\"middle\" x=\"1552\" y=\"-446.3\" font-family=\"Times,serif\" font-size=\"14.00\">gini = 0.0</text>\n",
       "<text text-anchor=\"middle\" x=\"1552\" y=\"-431.3\" font-family=\"Times,serif\" font-size=\"14.00\">samples = 4</text>\n",
       "<text text-anchor=\"middle\" x=\"1552\" y=\"-416.3\" font-family=\"Times,serif\" font-size=\"14.00\">value = [4, 0]</text>\n",
       "</g>\n",
       "<!-- 71&#45;&gt;72 -->\n",
       "<g id=\"edge72\" class=\"edge\">\n",
       "<title>71&#45;&gt;72</title>\n",
       "<path fill=\"none\" stroke=\"black\" d=\"M1637.77,-504.88C1622.98,-493.01 1606.34,-479.65 1591.69,-467.88\"/>\n",
       "<polygon fill=\"black\" stroke=\"black\" points=\"1593.76,-465.05 1583.77,-461.52 1589.38,-470.51 1593.76,-465.05\"/>\n",
       "</g>\n",
       "<!-- 73 -->\n",
       "<g id=\"node74\" class=\"node\">\n",
       "<title>73</title>\n",
       "<polygon fill=\"none\" stroke=\"black\" points=\"1750,-469 1616,-469 1616,-401 1750,-401 1750,-469\"/>\n",
       "<text text-anchor=\"middle\" x=\"1683\" y=\"-453.8\" font-family=\"Times,serif\" font-size=\"14.00\">newc_male_2 &lt;= 0.5</text>\n",
       "<text text-anchor=\"middle\" x=\"1683\" y=\"-438.8\" font-family=\"Times,serif\" font-size=\"14.00\">gini = 0.278</text>\n",
       "<text text-anchor=\"middle\" x=\"1683\" y=\"-423.8\" font-family=\"Times,serif\" font-size=\"14.00\">samples = 18</text>\n",
       "<text text-anchor=\"middle\" x=\"1683\" y=\"-408.8\" font-family=\"Times,serif\" font-size=\"14.00\">value = [15, 3]</text>\n",
       "</g>\n",
       "<!-- 71&#45;&gt;73 -->\n",
       "<g id=\"edge73\" class=\"edge\">\n",
       "<title>71&#45;&gt;73</title>\n",
       "<path fill=\"none\" stroke=\"black\" d=\"M1680.3,-504.88C1680.62,-496.78 1680.96,-487.98 1681.3,-479.47\"/>\n",
       "<polygon fill=\"black\" stroke=\"black\" points=\"1684.8,-479.43 1681.69,-469.3 1677.8,-479.15 1684.8,-479.43\"/>\n",
       "</g>\n",
       "<!-- 74 -->\n",
       "<g id=\"node75\" class=\"node\">\n",
       "<title>74</title>\n",
       "<polygon fill=\"none\" stroke=\"black\" points=\"1713,-357.5 1621,-357.5 1621,-304.5 1713,-304.5 1713,-357.5\"/>\n",
       "<text text-anchor=\"middle\" x=\"1667\" y=\"-342.3\" font-family=\"Times,serif\" font-size=\"14.00\">gini = 0.0</text>\n",
       "<text text-anchor=\"middle\" x=\"1667\" y=\"-327.3\" font-family=\"Times,serif\" font-size=\"14.00\">samples = 3</text>\n",
       "<text text-anchor=\"middle\" x=\"1667\" y=\"-312.3\" font-family=\"Times,serif\" font-size=\"14.00\">value = [3, 0]</text>\n",
       "</g>\n",
       "<!-- 73&#45;&gt;74 -->\n",
       "<g id=\"edge74\" class=\"edge\">\n",
       "<title>73&#45;&gt;74</title>\n",
       "<path fill=\"none\" stroke=\"black\" d=\"M1677.81,-400.88C1676.13,-390.22 1674.27,-378.35 1672.57,-367.52\"/>\n",
       "<polygon fill=\"black\" stroke=\"black\" points=\"1676.01,-366.86 1671,-357.52 1669.1,-367.94 1676.01,-366.86\"/>\n",
       "</g>\n",
       "<!-- 75 -->\n",
       "<g id=\"node76\" class=\"node\">\n",
       "<title>75</title>\n",
       "<polygon fill=\"none\" stroke=\"black\" points=\"1829,-357.5 1731,-357.5 1731,-304.5 1829,-304.5 1829,-357.5\"/>\n",
       "<text text-anchor=\"middle\" x=\"1780\" y=\"-342.3\" font-family=\"Times,serif\" font-size=\"14.00\">gini = 0.32</text>\n",
       "<text text-anchor=\"middle\" x=\"1780\" y=\"-327.3\" font-family=\"Times,serif\" font-size=\"14.00\">samples = 15</text>\n",
       "<text text-anchor=\"middle\" x=\"1780\" y=\"-312.3\" font-family=\"Times,serif\" font-size=\"14.00\">value = [12, 3]</text>\n",
       "</g>\n",
       "<!-- 73&#45;&gt;75 -->\n",
       "<g id=\"edge75\" class=\"edge\">\n",
       "<title>73&#45;&gt;75</title>\n",
       "<path fill=\"none\" stroke=\"black\" d=\"M1714.49,-400.88C1725.47,-389.34 1737.79,-376.39 1748.75,-364.86\"/>\n",
       "<polygon fill=\"black\" stroke=\"black\" points=\"1751.38,-367.18 1755.73,-357.52 1746.3,-362.35 1751.38,-367.18\"/>\n",
       "</g>\n",
       "<!-- 77 -->\n",
       "<g id=\"node78\" class=\"node\">\n",
       "<title>77</title>\n",
       "<polygon fill=\"none\" stroke=\"black\" points=\"1867,-461.5 1769,-461.5 1769,-408.5 1867,-408.5 1867,-461.5\"/>\n",
       "<text text-anchor=\"middle\" x=\"1818\" y=\"-446.3\" font-family=\"Times,serif\" font-size=\"14.00\">gini = 0.0</text>\n",
       "<text text-anchor=\"middle\" x=\"1818\" y=\"-431.3\" font-family=\"Times,serif\" font-size=\"14.00\">samples = 10</text>\n",
       "<text text-anchor=\"middle\" x=\"1818\" y=\"-416.3\" font-family=\"Times,serif\" font-size=\"14.00\">value = [10, 0]</text>\n",
       "</g>\n",
       "<!-- 76&#45;&gt;77 -->\n",
       "<g id=\"edge77\" class=\"edge\">\n",
       "<title>76&#45;&gt;77</title>\n",
       "<path fill=\"none\" stroke=\"black\" d=\"M1826.1,-504.88C1824.85,-494.22 1823.45,-482.35 1822.18,-471.52\"/>\n",
       "<polygon fill=\"black\" stroke=\"black\" points=\"1825.65,-471.04 1821,-461.52 1818.69,-471.86 1825.65,-471.04\"/>\n",
       "</g>\n",
       "<!-- 78 -->\n",
       "<g id=\"node79\" class=\"node\">\n",
       "<title>78</title>\n",
       "<polygon fill=\"none\" stroke=\"black\" points=\"2016.5,-469 1885.5,-469 1885.5,-401 2016.5,-401 2016.5,-469\"/>\n",
       "<text text-anchor=\"middle\" x=\"1951\" y=\"-453.8\" font-family=\"Times,serif\" font-size=\"14.00\">age_cat_age3 &lt;= 0.5</text>\n",
       "<text text-anchor=\"middle\" x=\"1951\" y=\"-438.8\" font-family=\"Times,serif\" font-size=\"14.00\">gini = 0.164</text>\n",
       "<text text-anchor=\"middle\" x=\"1951\" y=\"-423.8\" font-family=\"Times,serif\" font-size=\"14.00\">samples = 111</text>\n",
       "<text text-anchor=\"middle\" x=\"1951\" y=\"-408.8\" font-family=\"Times,serif\" font-size=\"14.00\">value = [101, 10]</text>\n",
       "</g>\n",
       "<!-- 76&#45;&gt;78 -->\n",
       "<g id=\"edge78\" class=\"edge\">\n",
       "<title>76&#45;&gt;78</title>\n",
       "<path fill=\"none\" stroke=\"black\" d=\"M1869.29,-504.88C1880.27,-495.62 1892.33,-485.45 1903.73,-475.85\"/>\n",
       "<polygon fill=\"black\" stroke=\"black\" points=\"1906.11,-478.42 1911.5,-469.3 1901.6,-473.07 1906.11,-478.42\"/>\n",
       "</g>\n",
       "<!-- 79 -->\n",
       "<g id=\"node80\" class=\"node\">\n",
       "<title>79</title>\n",
       "<polygon fill=\"none\" stroke=\"black\" points=\"1973,-357.5 1875,-357.5 1875,-304.5 1973,-304.5 1973,-357.5\"/>\n",
       "<text text-anchor=\"middle\" x=\"1924\" y=\"-342.3\" font-family=\"Times,serif\" font-size=\"14.00\">gini = 0.219</text>\n",
       "<text text-anchor=\"middle\" x=\"1924\" y=\"-327.3\" font-family=\"Times,serif\" font-size=\"14.00\">samples = 16</text>\n",
       "<text text-anchor=\"middle\" x=\"1924\" y=\"-312.3\" font-family=\"Times,serif\" font-size=\"14.00\">value = [14, 2]</text>\n",
       "</g>\n",
       "<!-- 78&#45;&gt;79 -->\n",
       "<g id=\"edge79\" class=\"edge\">\n",
       "<title>78&#45;&gt;79</title>\n",
       "<path fill=\"none\" stroke=\"black\" d=\"M1942.23,-400.88C1939.41,-390.22 1936.27,-378.35 1933.4,-367.52\"/>\n",
       "<polygon fill=\"black\" stroke=\"black\" points=\"1936.7,-366.29 1930.76,-357.52 1929.93,-368.08 1936.7,-366.29\"/>\n",
       "</g>\n",
       "<!-- 80 -->\n",
       "<g id=\"node81\" class=\"node\">\n",
       "<title>80</title>\n",
       "<polygon fill=\"none\" stroke=\"black\" points=\"2089,-357.5 1991,-357.5 1991,-304.5 2089,-304.5 2089,-357.5\"/>\n",
       "<text text-anchor=\"middle\" x=\"2040\" y=\"-342.3\" font-family=\"Times,serif\" font-size=\"14.00\">gini = 0.154</text>\n",
       "<text text-anchor=\"middle\" x=\"2040\" y=\"-327.3\" font-family=\"Times,serif\" font-size=\"14.00\">samples = 95</text>\n",
       "<text text-anchor=\"middle\" x=\"2040\" y=\"-312.3\" font-family=\"Times,serif\" font-size=\"14.00\">value = [87, 8]</text>\n",
       "</g>\n",
       "<!-- 78&#45;&gt;80 -->\n",
       "<g id=\"edge80\" class=\"edge\">\n",
       "<title>78&#45;&gt;80</title>\n",
       "<path fill=\"none\" stroke=\"black\" d=\"M1979.9,-400.88C1989.88,-389.45 2001.05,-376.63 2011.04,-365.19\"/>\n",
       "<polygon fill=\"black\" stroke=\"black\" points=\"2013.8,-367.36 2017.73,-357.52 2008.52,-362.75 2013.8,-367.36\"/>\n",
       "</g>\n",
       "<!-- 83 -->\n",
       "<g id=\"node84\" class=\"node\">\n",
       "<title>83</title>\n",
       "<polygon fill=\"none\" stroke=\"black\" points=\"2133.5,-781 1990.5,-781 1990.5,-713 2133.5,-713 2133.5,-781\"/>\n",
       "<text text-anchor=\"middle\" x=\"2062\" y=\"-765.8\" font-family=\"Times,serif\" font-size=\"14.00\">per_surv_train &lt;= 0.25</text>\n",
       "<text text-anchor=\"middle\" x=\"2062\" y=\"-750.8\" font-family=\"Times,serif\" font-size=\"14.00\">gini = 0.087</text>\n",
       "<text text-anchor=\"middle\" x=\"2062\" y=\"-735.8\" font-family=\"Times,serif\" font-size=\"14.00\">samples = 22</text>\n",
       "<text text-anchor=\"middle\" x=\"2062\" y=\"-720.8\" font-family=\"Times,serif\" font-size=\"14.00\">value = [21, 1]</text>\n",
       "</g>\n",
       "<!-- 82&#45;&gt;83 -->\n",
       "<g id=\"edge83\" class=\"edge\">\n",
       "<title>82&#45;&gt;83</title>\n",
       "<path fill=\"none\" stroke=\"black\" d=\"M2064.7,-816.88C2064.38,-808.78 2064.04,-799.98 2063.7,-791.47\"/>\n",
       "<polygon fill=\"black\" stroke=\"black\" points=\"2067.2,-791.15 2063.31,-781.3 2060.2,-791.43 2067.2,-791.15\"/>\n",
       "</g>\n",
       "<!-- 90 -->\n",
       "<g id=\"node91\" class=\"node\">\n",
       "<title>90</title>\n",
       "<polygon fill=\"none\" stroke=\"black\" points=\"2294.5,-781 2151.5,-781 2151.5,-713 2294.5,-713 2294.5,-781\"/>\n",
       "<text text-anchor=\"middle\" x=\"2223\" y=\"-765.8\" font-family=\"Times,serif\" font-size=\"14.00\">per_surv_train &lt;= 0.25</text>\n",
       "<text text-anchor=\"middle\" x=\"2223\" y=\"-750.8\" font-family=\"Times,serif\" font-size=\"14.00\">gini = 0.272</text>\n",
       "<text text-anchor=\"middle\" x=\"2223\" y=\"-735.8\" font-family=\"Times,serif\" font-size=\"14.00\">samples = 80</text>\n",
       "<text text-anchor=\"middle\" x=\"2223\" y=\"-720.8\" font-family=\"Times,serif\" font-size=\"14.00\">value = [67, 13]</text>\n",
       "</g>\n",
       "<!-- 82&#45;&gt;90 -->\n",
       "<g id=\"edge90\" class=\"edge\">\n",
       "<title>82&#45;&gt;90</title>\n",
       "<path fill=\"none\" stroke=\"black\" d=\"M2116.97,-816.88C2131.86,-807.21 2148.25,-796.56 2163.61,-786.59\"/>\n",
       "<polygon fill=\"black\" stroke=\"black\" points=\"2165.54,-789.51 2172.01,-781.12 2161.72,-783.64 2165.54,-789.51\"/>\n",
       "</g>\n",
       "<!-- 84 -->\n",
       "<g id=\"node85\" class=\"node\">\n",
       "<title>84</title>\n",
       "<polygon fill=\"none\" stroke=\"black\" points=\"2007,-669.5 1915,-669.5 1915,-616.5 2007,-616.5 2007,-669.5\"/>\n",
       "<text text-anchor=\"middle\" x=\"1961\" y=\"-654.3\" font-family=\"Times,serif\" font-size=\"14.00\">gini = 0.0</text>\n",
       "<text text-anchor=\"middle\" x=\"1961\" y=\"-639.3\" font-family=\"Times,serif\" font-size=\"14.00\">samples = 3</text>\n",
       "<text text-anchor=\"middle\" x=\"1961\" y=\"-624.3\" font-family=\"Times,serif\" font-size=\"14.00\">value = [3, 0]</text>\n",
       "</g>\n",
       "<!-- 83&#45;&gt;84 -->\n",
       "<g id=\"edge84\" class=\"edge\">\n",
       "<title>83&#45;&gt;84</title>\n",
       "<path fill=\"none\" stroke=\"black\" d=\"M2029.21,-712.88C2017.77,-701.34 2004.95,-688.39 1993.54,-676.86\"/>\n",
       "<polygon fill=\"black\" stroke=\"black\" points=\"1995.79,-674.16 1986.27,-669.52 1990.82,-679.09 1995.79,-674.16\"/>\n",
       "</g>\n",
       "<!-- 85 -->\n",
       "<g id=\"node86\" class=\"node\">\n",
       "<title>85</title>\n",
       "<polygon fill=\"none\" stroke=\"black\" points=\"2159,-677 2025,-677 2025,-609 2159,-609 2159,-677\"/>\n",
       "<text text-anchor=\"middle\" x=\"2092\" y=\"-661.8\" font-family=\"Times,serif\" font-size=\"14.00\">newc_male_3 &lt;= 0.5</text>\n",
       "<text text-anchor=\"middle\" x=\"2092\" y=\"-646.8\" font-family=\"Times,serif\" font-size=\"14.00\">gini = 0.1</text>\n",
       "<text text-anchor=\"middle\" x=\"2092\" y=\"-631.8\" font-family=\"Times,serif\" font-size=\"14.00\">samples = 19</text>\n",
       "<text text-anchor=\"middle\" x=\"2092\" y=\"-616.8\" font-family=\"Times,serif\" font-size=\"14.00\">value = [18, 1]</text>\n",
       "</g>\n",
       "<!-- 83&#45;&gt;85 -->\n",
       "<g id=\"edge85\" class=\"edge\">\n",
       "<title>83&#45;&gt;85</title>\n",
       "<path fill=\"none\" stroke=\"black\" d=\"M2071.74,-712.88C2074.18,-704.6 2076.82,-695.6 2079.38,-686.91\"/>\n",
       "<polygon fill=\"black\" stroke=\"black\" points=\"2082.74,-687.88 2082.21,-677.3 2076.03,-685.91 2082.74,-687.88\"/>\n",
       "</g>\n",
       "<!-- 86 -->\n",
       "<g id=\"node87\" class=\"node\">\n",
       "<title>86</title>\n",
       "<polygon fill=\"none\" stroke=\"black\" points=\"2161,-573 2011,-573 2011,-505 2161,-505 2161,-573\"/>\n",
       "<text text-anchor=\"middle\" x=\"2086\" y=\"-557.8\" font-family=\"Times,serif\" font-size=\"14.00\">per_surv_train &lt;= 0.583</text>\n",
       "<text text-anchor=\"middle\" x=\"2086\" y=\"-542.8\" font-family=\"Times,serif\" font-size=\"14.00\">gini = 0.105</text>\n",
       "<text text-anchor=\"middle\" x=\"2086\" y=\"-527.8\" font-family=\"Times,serif\" font-size=\"14.00\">samples = 18</text>\n",
       "<text text-anchor=\"middle\" x=\"2086\" y=\"-512.8\" font-family=\"Times,serif\" font-size=\"14.00\">value = [17, 1]</text>\n",
       "</g>\n",
       "<!-- 85&#45;&gt;86 -->\n",
       "<g id=\"edge86\" class=\"edge\">\n",
       "<title>85&#45;&gt;86</title>\n",
       "<path fill=\"none\" stroke=\"black\" d=\"M2090.05,-608.88C2089.58,-600.78 2089.06,-591.98 2088.56,-583.47\"/>\n",
       "<polygon fill=\"black\" stroke=\"black\" points=\"2092.04,-583.08 2087.96,-573.3 2085.05,-583.49 2092.04,-583.08\"/>\n",
       "</g>\n",
       "<!-- 89 -->\n",
       "<g id=\"node90\" class=\"node\">\n",
       "<title>89</title>\n",
       "<polygon fill=\"none\" stroke=\"black\" points=\"2271,-565.5 2179,-565.5 2179,-512.5 2271,-512.5 2271,-565.5\"/>\n",
       "<text text-anchor=\"middle\" x=\"2225\" y=\"-550.3\" font-family=\"Times,serif\" font-size=\"14.00\">gini = 0.0</text>\n",
       "<text text-anchor=\"middle\" x=\"2225\" y=\"-535.3\" font-family=\"Times,serif\" font-size=\"14.00\">samples = 1</text>\n",
       "<text text-anchor=\"middle\" x=\"2225\" y=\"-520.3\" font-family=\"Times,serif\" font-size=\"14.00\">value = [1, 0]</text>\n",
       "</g>\n",
       "<!-- 85&#45;&gt;89 -->\n",
       "<g id=\"edge89\" class=\"edge\">\n",
       "<title>85&#45;&gt;89</title>\n",
       "<path fill=\"none\" stroke=\"black\" d=\"M2135.18,-608.88C2150.67,-597.01 2168.09,-583.65 2183.44,-571.88\"/>\n",
       "<polygon fill=\"black\" stroke=\"black\" points=\"2185.92,-574.38 2191.72,-565.52 2181.66,-568.83 2185.92,-574.38\"/>\n",
       "</g>\n",
       "<!-- 87 -->\n",
       "<g id=\"node88\" class=\"node\">\n",
       "<title>87</title>\n",
       "<polygon fill=\"none\" stroke=\"black\" points=\"2135,-461.5 2037,-461.5 2037,-408.5 2135,-408.5 2135,-461.5\"/>\n",
       "<text text-anchor=\"middle\" x=\"2086\" y=\"-446.3\" font-family=\"Times,serif\" font-size=\"14.00\">gini = 0.111</text>\n",
       "<text text-anchor=\"middle\" x=\"2086\" y=\"-431.3\" font-family=\"Times,serif\" font-size=\"14.00\">samples = 17</text>\n",
       "<text text-anchor=\"middle\" x=\"2086\" y=\"-416.3\" font-family=\"Times,serif\" font-size=\"14.00\">value = [16, 1]</text>\n",
       "</g>\n",
       "<!-- 86&#45;&gt;87 -->\n",
       "<g id=\"edge87\" class=\"edge\">\n",
       "<title>86&#45;&gt;87</title>\n",
       "<path fill=\"none\" stroke=\"black\" d=\"M2086,-504.88C2086,-494.33 2086,-482.6 2086,-471.85\"/>\n",
       "<polygon fill=\"black\" stroke=\"black\" points=\"2089.5,-471.52 2086,-461.52 2082.5,-471.52 2089.5,-471.52\"/>\n",
       "</g>\n",
       "<!-- 88 -->\n",
       "<g id=\"node89\" class=\"node\">\n",
       "<title>88</title>\n",
       "<polygon fill=\"none\" stroke=\"black\" points=\"2245,-461.5 2153,-461.5 2153,-408.5 2245,-408.5 2245,-461.5\"/>\n",
       "<text text-anchor=\"middle\" x=\"2199\" y=\"-446.3\" font-family=\"Times,serif\" font-size=\"14.00\">gini = 0.0</text>\n",
       "<text text-anchor=\"middle\" x=\"2199\" y=\"-431.3\" font-family=\"Times,serif\" font-size=\"14.00\">samples = 1</text>\n",
       "<text text-anchor=\"middle\" x=\"2199\" y=\"-416.3\" font-family=\"Times,serif\" font-size=\"14.00\">value = [1, 0]</text>\n",
       "</g>\n",
       "<!-- 86&#45;&gt;88 -->\n",
       "<g id=\"edge88\" class=\"edge\">\n",
       "<title>86&#45;&gt;88</title>\n",
       "<path fill=\"none\" stroke=\"black\" d=\"M2122.69,-504.88C2135.6,-493.23 2150.1,-480.14 2162.96,-468.53\"/>\n",
       "<polygon fill=\"black\" stroke=\"black\" points=\"2165.65,-470.82 2170.73,-461.52 2160.96,-465.62 2165.65,-470.82\"/>\n",
       "</g>\n",
       "<!-- 91 -->\n",
       "<g id=\"node92\" class=\"node\">\n",
       "<title>91</title>\n",
       "<polygon fill=\"none\" stroke=\"black\" points=\"2269,-669.5 2177,-669.5 2177,-616.5 2269,-616.5 2269,-669.5\"/>\n",
       "<text text-anchor=\"middle\" x=\"2223\" y=\"-654.3\" font-family=\"Times,serif\" font-size=\"14.00\">gini = 0.0</text>\n",
       "<text text-anchor=\"middle\" x=\"2223\" y=\"-639.3\" font-family=\"Times,serif\" font-size=\"14.00\">samples = 3</text>\n",
       "<text text-anchor=\"middle\" x=\"2223\" y=\"-624.3\" font-family=\"Times,serif\" font-size=\"14.00\">value = [3, 0]</text>\n",
       "</g>\n",
       "<!-- 90&#45;&gt;91 -->\n",
       "<g id=\"edge91\" class=\"edge\">\n",
       "<title>90&#45;&gt;91</title>\n",
       "<path fill=\"none\" stroke=\"black\" d=\"M2223,-712.88C2223,-702.33 2223,-690.6 2223,-679.85\"/>\n",
       "<polygon fill=\"black\" stroke=\"black\" points=\"2226.5,-679.52 2223,-669.52 2219.5,-679.52 2226.5,-679.52\"/>\n",
       "</g>\n",
       "<!-- 92 -->\n",
       "<g id=\"node93\" class=\"node\">\n",
       "<title>92</title>\n",
       "<polygon fill=\"none\" stroke=\"black\" points=\"2392.5,-669.5 2287.5,-669.5 2287.5,-616.5 2392.5,-616.5 2392.5,-669.5\"/>\n",
       "<text text-anchor=\"middle\" x=\"2340\" y=\"-654.3\" font-family=\"Times,serif\" font-size=\"14.00\">gini = 0.281</text>\n",
       "<text text-anchor=\"middle\" x=\"2340\" y=\"-639.3\" font-family=\"Times,serif\" font-size=\"14.00\">samples = 77</text>\n",
       "<text text-anchor=\"middle\" x=\"2340\" y=\"-624.3\" font-family=\"Times,serif\" font-size=\"14.00\">value = [64, 13]</text>\n",
       "</g>\n",
       "<!-- 90&#45;&gt;92 -->\n",
       "<g id=\"edge92\" class=\"edge\">\n",
       "<title>90&#45;&gt;92</title>\n",
       "<path fill=\"none\" stroke=\"black\" d=\"M2260.99,-712.88C2274.48,-701.12 2289.65,-687.89 2303.06,-676.2\"/>\n",
       "<polygon fill=\"black\" stroke=\"black\" points=\"2305.49,-678.73 2310.73,-669.52 2300.89,-673.45 2305.49,-678.73\"/>\n",
       "</g>\n",
       "<!-- 94 -->\n",
       "<g id=\"node95\" class=\"node\">\n",
       "<title>94</title>\n",
       "<polygon fill=\"none\" stroke=\"black\" points=\"2479.5,-885 2336.5,-885 2336.5,-817 2479.5,-817 2479.5,-885\"/>\n",
       "<text text-anchor=\"middle\" x=\"2408\" y=\"-869.8\" font-family=\"Times,serif\" font-size=\"14.00\">per_surv_train &lt;= 0.25</text>\n",
       "<text text-anchor=\"middle\" x=\"2408\" y=\"-854.8\" font-family=\"Times,serif\" font-size=\"14.00\">gini = 0.313</text>\n",
       "<text text-anchor=\"middle\" x=\"2408\" y=\"-839.8\" font-family=\"Times,serif\" font-size=\"14.00\">samples = 36</text>\n",
       "<text text-anchor=\"middle\" x=\"2408\" y=\"-824.8\" font-family=\"Times,serif\" font-size=\"14.00\">value = [29, 7]</text>\n",
       "</g>\n",
       "<!-- 93&#45;&gt;94 -->\n",
       "<g id=\"edge94\" class=\"edge\">\n",
       "<title>93&#45;&gt;94</title>\n",
       "<path fill=\"none\" stroke=\"black\" d=\"M2408,-920.88C2408,-912.78 2408,-903.98 2408,-895.47\"/>\n",
       "<polygon fill=\"black\" stroke=\"black\" points=\"2411.5,-895.3 2408,-885.3 2404.5,-895.3 2411.5,-895.3\"/>\n",
       "</g>\n",
       "<!-- 101 -->\n",
       "<g id=\"node102\" class=\"node\">\n",
       "<title>101</title>\n",
       "<polygon fill=\"none\" stroke=\"black\" points=\"2690.5,-885 2547.5,-885 2547.5,-817 2690.5,-817 2690.5,-885\"/>\n",
       "<text text-anchor=\"middle\" x=\"2619\" y=\"-869.8\" font-family=\"Times,serif\" font-size=\"14.00\">per_surv_train &lt;= 0.25</text>\n",
       "<text text-anchor=\"middle\" x=\"2619\" y=\"-854.8\" font-family=\"Times,serif\" font-size=\"14.00\">gini = 0.495</text>\n",
       "<text text-anchor=\"middle\" x=\"2619\" y=\"-839.8\" font-family=\"Times,serif\" font-size=\"14.00\">samples = 31</text>\n",
       "<text text-anchor=\"middle\" x=\"2619\" y=\"-824.8\" font-family=\"Times,serif\" font-size=\"14.00\">value = [17, 14]</text>\n",
       "</g>\n",
       "<!-- 93&#45;&gt;101 -->\n",
       "<g id=\"edge101\" class=\"edge\">\n",
       "<title>93&#45;&gt;101</title>\n",
       "<path fill=\"none\" stroke=\"black\" d=\"M2473.61,-922.29C2495.08,-911.9 2519.15,-900.27 2541.42,-889.5\"/>\n",
       "<polygon fill=\"black\" stroke=\"black\" points=\"2543.04,-892.61 2550.52,-885.11 2539.99,-886.31 2543.04,-892.61\"/>\n",
       "</g>\n",
       "<!-- 95 -->\n",
       "<g id=\"node96\" class=\"node\">\n",
       "<title>95</title>\n",
       "<polygon fill=\"none\" stroke=\"black\" points=\"2405,-773.5 2313,-773.5 2313,-720.5 2405,-720.5 2405,-773.5\"/>\n",
       "<text text-anchor=\"middle\" x=\"2359\" y=\"-758.3\" font-family=\"Times,serif\" font-size=\"14.00\">gini = 0.0</text>\n",
       "<text text-anchor=\"middle\" x=\"2359\" y=\"-743.3\" font-family=\"Times,serif\" font-size=\"14.00\">samples = 5</text>\n",
       "<text text-anchor=\"middle\" x=\"2359\" y=\"-728.3\" font-family=\"Times,serif\" font-size=\"14.00\">value = [5, 0]</text>\n",
       "</g>\n",
       "<!-- 94&#45;&gt;95 -->\n",
       "<g id=\"edge95\" class=\"edge\">\n",
       "<title>94&#45;&gt;95</title>\n",
       "<path fill=\"none\" stroke=\"black\" d=\"M2392.09,-816.88C2386.86,-806 2381.03,-793.86 2375.74,-782.85\"/>\n",
       "<polygon fill=\"black\" stroke=\"black\" points=\"2378.74,-781.02 2371.26,-773.52 2372.43,-784.05 2378.74,-781.02\"/>\n",
       "</g>\n",
       "<!-- 96 -->\n",
       "<g id=\"node97\" class=\"node\">\n",
       "<title>96</title>\n",
       "<polygon fill=\"none\" stroke=\"black\" points=\"2554.5,-781 2423.5,-781 2423.5,-713 2554.5,-713 2554.5,-781\"/>\n",
       "<text text-anchor=\"middle\" x=\"2489\" y=\"-765.8\" font-family=\"Times,serif\" font-size=\"14.00\">age_cat_age1 &lt;= 0.5</text>\n",
       "<text text-anchor=\"middle\" x=\"2489\" y=\"-750.8\" font-family=\"Times,serif\" font-size=\"14.00\">gini = 0.35</text>\n",
       "<text text-anchor=\"middle\" x=\"2489\" y=\"-735.8\" font-family=\"Times,serif\" font-size=\"14.00\">samples = 31</text>\n",
       "<text text-anchor=\"middle\" x=\"2489\" y=\"-720.8\" font-family=\"Times,serif\" font-size=\"14.00\">value = [24, 7]</text>\n",
       "</g>\n",
       "<!-- 94&#45;&gt;96 -->\n",
       "<g id=\"edge96\" class=\"edge\">\n",
       "<title>94&#45;&gt;96</title>\n",
       "<path fill=\"none\" stroke=\"black\" d=\"M2434.3,-816.88C2441.3,-808.07 2448.95,-798.43 2456.25,-789.24\"/>\n",
       "<polygon fill=\"black\" stroke=\"black\" points=\"2459.08,-791.31 2462.56,-781.3 2453.6,-786.95 2459.08,-791.31\"/>\n",
       "</g>\n",
       "<!-- 97 -->\n",
       "<g id=\"node98\" class=\"node\">\n",
       "<title>97</title>\n",
       "<polygon fill=\"none\" stroke=\"black\" points=\"2548.5,-677 2417.5,-677 2417.5,-609 2548.5,-609 2548.5,-677\"/>\n",
       "<text text-anchor=\"middle\" x=\"2483\" y=\"-661.8\" font-family=\"Times,serif\" font-size=\"14.00\">age_cat_age4 &lt;= 0.5</text>\n",
       "<text text-anchor=\"middle\" x=\"2483\" y=\"-646.8\" font-family=\"Times,serif\" font-size=\"14.00\">gini = 0.328</text>\n",
       "<text text-anchor=\"middle\" x=\"2483\" y=\"-631.8\" font-family=\"Times,serif\" font-size=\"14.00\">samples = 29</text>\n",
       "<text text-anchor=\"middle\" x=\"2483\" y=\"-616.8\" font-family=\"Times,serif\" font-size=\"14.00\">value = [23, 6]</text>\n",
       "</g>\n",
       "<!-- 96&#45;&gt;97 -->\n",
       "<g id=\"edge97\" class=\"edge\">\n",
       "<title>96&#45;&gt;97</title>\n",
       "<path fill=\"none\" stroke=\"black\" d=\"M2487.05,-712.88C2486.58,-704.78 2486.06,-695.98 2485.56,-687.47\"/>\n",
       "<polygon fill=\"black\" stroke=\"black\" points=\"2489.04,-687.08 2484.96,-677.3 2482.05,-687.49 2489.04,-687.08\"/>\n",
       "</g>\n",
       "<!-- 100 -->\n",
       "<g id=\"node101\" class=\"node\">\n",
       "<title>100</title>\n",
       "<polygon fill=\"none\" stroke=\"black\" points=\"2659,-669.5 2567,-669.5 2567,-616.5 2659,-616.5 2659,-669.5\"/>\n",
       "<text text-anchor=\"middle\" x=\"2613\" y=\"-654.3\" font-family=\"Times,serif\" font-size=\"14.00\">gini = 0.5</text>\n",
       "<text text-anchor=\"middle\" x=\"2613\" y=\"-639.3\" font-family=\"Times,serif\" font-size=\"14.00\">samples = 2</text>\n",
       "<text text-anchor=\"middle\" x=\"2613\" y=\"-624.3\" font-family=\"Times,serif\" font-size=\"14.00\">value = [1, 1]</text>\n",
       "</g>\n",
       "<!-- 96&#45;&gt;100 -->\n",
       "<g id=\"edge100\" class=\"edge\">\n",
       "<title>96&#45;&gt;100</title>\n",
       "<path fill=\"none\" stroke=\"black\" d=\"M2529.26,-712.88C2543.7,-701.01 2559.94,-687.65 2574.25,-675.88\"/>\n",
       "<polygon fill=\"black\" stroke=\"black\" points=\"2576.48,-678.58 2581.98,-669.52 2572.03,-673.17 2576.48,-678.58\"/>\n",
       "</g>\n",
       "<!-- 98 -->\n",
       "<g id=\"node99\" class=\"node\">\n",
       "<title>98</title>\n",
       "<polygon fill=\"none\" stroke=\"black\" points=\"2472,-565.5 2380,-565.5 2380,-512.5 2472,-512.5 2472,-565.5\"/>\n",
       "<text text-anchor=\"middle\" x=\"2426\" y=\"-550.3\" font-family=\"Times,serif\" font-size=\"14.00\">gini = 0.375</text>\n",
       "<text text-anchor=\"middle\" x=\"2426\" y=\"-535.3\" font-family=\"Times,serif\" font-size=\"14.00\">samples = 8</text>\n",
       "<text text-anchor=\"middle\" x=\"2426\" y=\"-520.3\" font-family=\"Times,serif\" font-size=\"14.00\">value = [6, 2]</text>\n",
       "</g>\n",
       "<!-- 97&#45;&gt;98 -->\n",
       "<g id=\"edge98\" class=\"edge\">\n",
       "<title>97&#45;&gt;98</title>\n",
       "<path fill=\"none\" stroke=\"black\" d=\"M2464.49,-608.88C2458.35,-597.89 2451.49,-585.62 2445.29,-574.52\"/>\n",
       "<polygon fill=\"black\" stroke=\"black\" points=\"2448.19,-572.54 2440.26,-565.52 2442.08,-575.96 2448.19,-572.54\"/>\n",
       "</g>\n",
       "<!-- 99 -->\n",
       "<g id=\"node100\" class=\"node\">\n",
       "<title>99</title>\n",
       "<polygon fill=\"none\" stroke=\"black\" points=\"2588,-565.5 2490,-565.5 2490,-512.5 2588,-512.5 2588,-565.5\"/>\n",
       "<text text-anchor=\"middle\" x=\"2539\" y=\"-550.3\" font-family=\"Times,serif\" font-size=\"14.00\">gini = 0.308</text>\n",
       "<text text-anchor=\"middle\" x=\"2539\" y=\"-535.3\" font-family=\"Times,serif\" font-size=\"14.00\">samples = 21</text>\n",
       "<text text-anchor=\"middle\" x=\"2539\" y=\"-520.3\" font-family=\"Times,serif\" font-size=\"14.00\">value = [17, 4]</text>\n",
       "</g>\n",
       "<!-- 97&#45;&gt;99 -->\n",
       "<g id=\"edge99\" class=\"edge\">\n",
       "<title>97&#45;&gt;99</title>\n",
       "<path fill=\"none\" stroke=\"black\" d=\"M2501.18,-608.88C2507.22,-597.89 2513.96,-585.62 2520.05,-574.52\"/>\n",
       "<polygon fill=\"black\" stroke=\"black\" points=\"2523.24,-575.97 2524.99,-565.52 2517.11,-572.6 2523.24,-575.97\"/>\n",
       "</g>\n",
       "<!-- 102 -->\n",
       "<g id=\"node103\" class=\"node\">\n",
       "<title>102</title>\n",
       "<polygon fill=\"none\" stroke=\"black\" points=\"2665,-773.5 2573,-773.5 2573,-720.5 2665,-720.5 2665,-773.5\"/>\n",
       "<text text-anchor=\"middle\" x=\"2619\" y=\"-758.3\" font-family=\"Times,serif\" font-size=\"14.00\">gini = 0.0</text>\n",
       "<text text-anchor=\"middle\" x=\"2619\" y=\"-743.3\" font-family=\"Times,serif\" font-size=\"14.00\">samples = 3</text>\n",
       "<text text-anchor=\"middle\" x=\"2619\" y=\"-728.3\" font-family=\"Times,serif\" font-size=\"14.00\">value = [3, 0]</text>\n",
       "</g>\n",
       "<!-- 101&#45;&gt;102 -->\n",
       "<g id=\"edge102\" class=\"edge\">\n",
       "<title>101&#45;&gt;102</title>\n",
       "<path fill=\"none\" stroke=\"black\" d=\"M2619,-816.88C2619,-806.33 2619,-794.6 2619,-783.85\"/>\n",
       "<polygon fill=\"black\" stroke=\"black\" points=\"2622.5,-783.52 2619,-773.52 2615.5,-783.52 2622.5,-783.52\"/>\n",
       "</g>\n",
       "<!-- 103 -->\n",
       "<g id=\"node104\" class=\"node\">\n",
       "<title>103</title>\n",
       "<polygon fill=\"none\" stroke=\"black\" points=\"2788.5,-773.5 2683.5,-773.5 2683.5,-720.5 2788.5,-720.5 2788.5,-773.5\"/>\n",
       "<text text-anchor=\"middle\" x=\"2736\" y=\"-758.3\" font-family=\"Times,serif\" font-size=\"14.00\">gini = 0.5</text>\n",
       "<text text-anchor=\"middle\" x=\"2736\" y=\"-743.3\" font-family=\"Times,serif\" font-size=\"14.00\">samples = 28</text>\n",
       "<text text-anchor=\"middle\" x=\"2736\" y=\"-728.3\" font-family=\"Times,serif\" font-size=\"14.00\">value = [14, 14]</text>\n",
       "</g>\n",
       "<!-- 101&#45;&gt;103 -->\n",
       "<g id=\"edge103\" class=\"edge\">\n",
       "<title>101&#45;&gt;103</title>\n",
       "<path fill=\"none\" stroke=\"black\" d=\"M2656.99,-816.88C2670.48,-805.12 2685.65,-791.89 2699.06,-780.2\"/>\n",
       "<polygon fill=\"black\" stroke=\"black\" points=\"2701.49,-782.73 2706.73,-773.52 2696.89,-777.45 2701.49,-782.73\"/>\n",
       "</g>\n",
       "</g>\n",
       "</svg>\n"
      ],
      "text/plain": [
       "<graphviz.files.Source at 0x7fcb505bb640>"
      ]
     },
     "execution_count": 588,
     "metadata": {},
     "output_type": "execute_result"
    }
   ],
   "source": [
    "from sklearn import tree\n",
    "tree_graph = tree.export_graphviz(dc, out_file=None, feature_names=feature_names)\n",
    "graphviz.Source(tree_graph)"
   ]
  },
  {
   "cell_type": "code",
   "execution_count": null,
   "metadata": {},
   "outputs": [],
   "source": []
  }
 ],
 "metadata": {
  "kernelspec": {
   "display_name": "Python 3",
   "language": "python",
   "name": "python3"
  },
  "language_info": {
   "codemirror_mode": {
    "name": "ipython",
    "version": 3
   },
   "file_extension": ".py",
   "mimetype": "text/x-python",
   "name": "python",
   "nbconvert_exporter": "python",
   "pygments_lexer": "ipython3",
   "version": "3.8.3"
  }
 },
 "nbformat": 4,
 "nbformat_minor": 4
}
